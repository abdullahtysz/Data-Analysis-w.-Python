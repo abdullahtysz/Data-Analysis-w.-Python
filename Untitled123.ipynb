{
  "nbformat": 4,
  "nbformat_minor": 0,
  "metadata": {
    "colab": {
      "name": "Untitled123.ipynb",
      "provenance": [],
      "authorship_tag": "ABX9TyPBhwV1rddVXbAyAkpib5bI"
    },
    "kernelspec": {
      "name": "python3",
      "display_name": "Python 3"
    },
    "language_info": {
      "name": "python"
    }
  },
  "cells": [
    {
      "cell_type": "code",
      "metadata": {
        "id": "HiubDrsZsS_Z"
      },
      "source": [
        "import pandas as pd"
      ],
      "execution_count": 1,
      "outputs": []
    },
    {
      "cell_type": "code",
      "metadata": {
        "id": "wss6SY1Btc34"
      },
      "source": [
        "import numpy as np\n"
      ],
      "execution_count": 2,
      "outputs": []
    },
    {
      "cell_type": "code",
      "metadata": {
        "id": "5RJGEoncuDPy"
      },
      "source": [
        "help(pd.Series) # erilerle alakalı dökümanı getiriyor"
      ],
      "execution_count": null,
      "outputs": []
    },
    {
      "cell_type": "code",
      "metadata": {
        "colab": {
          "base_uri": "https://localhost:8080/"
        },
        "id": "ScUVcKTMuFNd",
        "outputId": "422fac3c-0e9a-4ec3-d3d9-5e9267213cdd"
      },
      "source": [
        "pd.Series([1,2,5,7,9], index = [\"a\",\"c\",\"g\",\"f\",\"e\"])"
      ],
      "execution_count": 5,
      "outputs": [
        {
          "output_type": "execute_result",
          "data": {
            "text/plain": [
              "a    1\n",
              "c    2\n",
              "g    5\n",
              "f    7\n",
              "e    9\n",
              "dtype: int64"
            ]
          },
          "metadata": {
            "tags": []
          },
          "execution_count": 5
        }
      ]
    },
    {
      "cell_type": "code",
      "metadata": {
        "colab": {
          "base_uri": "https://localhost:8080/"
        },
        "id": "6xjCpgkBuFQB",
        "outputId": "c7514b1f-e496-45f8-bda4-b490022654db"
      },
      "source": [
        "arr = np.random.randint(0,100,5)\n",
        "arr"
      ],
      "execution_count": 7,
      "outputs": [
        {
          "output_type": "execute_result",
          "data": {
            "text/plain": [
              "array([79, 45,  7, 27, 31])"
            ]
          },
          "metadata": {
            "tags": []
          },
          "execution_count": 7
        }
      ]
    },
    {
      "cell_type": "code",
      "metadata": {
        "colab": {
          "base_uri": "https://localhost:8080/"
        },
        "id": "gpEkejtluX6a",
        "outputId": "ecf0f2f2-380c-45d7-e160-769b3845f7af"
      },
      "source": [
        "pd.Series(arr, index = [\"a\",\"c\",\"g\",\"f\",\"e\"])"
      ],
      "execution_count": 8,
      "outputs": [
        {
          "output_type": "execute_result",
          "data": {
            "text/plain": [
              "a    79\n",
              "c    45\n",
              "g     7\n",
              "f    27\n",
              "e    31\n",
              "dtype: int64"
            ]
          },
          "metadata": {
            "tags": []
          },
          "execution_count": 8
        }
      ]
    },
    {
      "cell_type": "code",
      "metadata": {
        "id": "oGtpQF6vufEy"
      },
      "source": [
        "d = {\"ali\" : 5 , \"veli\" : 16 , \"meh\" : 25}"
      ],
      "execution_count": null,
      "outputs": []
    }
  ]
}