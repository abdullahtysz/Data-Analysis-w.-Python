{
  "nbformat": 4,
  "nbformat_minor": 0,
  "metadata": {
    "colab": {
      "name": "Pandas Series",
      "provenance": [],
      "authorship_tag": "ABX9TyPcl5Ceibu3n/vsHb/N3GqF"
    },
    "kernelspec": {
      "name": "python3",
      "display_name": "Python 3"
    },
    "language_info": {
      "name": "python"
    }
  },
  "cells": [
    {
      "cell_type": "code",
      "metadata": {
        "id": "HiubDrsZsS_Z"
      },
      "source": [
        "import pandas as pd"
      ],
      "execution_count": 1,
      "outputs": []
    },
    {
      "cell_type": "code",
      "metadata": {
        "id": "wss6SY1Btc34"
      },
      "source": [
        "import numpy as np\n"
      ],
      "execution_count": 2,
      "outputs": []
    },
    {
      "cell_type": "code",
      "metadata": {
        "id": "5RJGEoncuDPy"
      },
      "source": [
        "help(pd.Series) # erilerle alakalı dökümanı getiriyor"
      ],
      "execution_count": null,
      "outputs": []
    },
    {
      "cell_type": "code",
      "metadata": {
        "colab": {
          "base_uri": "https://localhost:8080/"
        },
        "id": "ScUVcKTMuFNd",
        "outputId": "422fac3c-0e9a-4ec3-d3d9-5e9267213cdd"
      },
      "source": [
        "pd.Series([1,2,5,7,9], index = [\"a\",\"c\",\"g\",\"f\",\"e\"])"
      ],
      "execution_count": 5,
      "outputs": [
        {
          "output_type": "execute_result",
          "data": {
            "text/plain": [
              "a    1\n",
              "c    2\n",
              "g    5\n",
              "f    7\n",
              "e    9\n",
              "dtype: int64"
            ]
          },
          "metadata": {
            "tags": []
          },
          "execution_count": 5
        }
      ]
    },
    {
      "cell_type": "code",
      "metadata": {
        "colab": {
          "base_uri": "https://localhost:8080/"
        },
        "id": "6xjCpgkBuFQB",
        "outputId": "c7514b1f-e496-45f8-bda4-b490022654db"
      },
      "source": [
        "arr = np.random.randint(0,100,5)\n",
        "arr"
      ],
      "execution_count": 7,
      "outputs": [
        {
          "output_type": "execute_result",
          "data": {
            "text/plain": [
              "array([79, 45,  7, 27, 31])"
            ]
          },
          "metadata": {
            "tags": []
          },
          "execution_count": 7
        }
      ]
    },
    {
      "cell_type": "code",
      "metadata": {
        "colab": {
          "base_uri": "https://localhost:8080/"
        },
        "id": "gpEkejtluX6a",
        "outputId": "ecf0f2f2-380c-45d7-e160-769b3845f7af"
      },
      "source": [
        "pd.Series(arr, index = [\"a\",\"c\",\"g\",\"f\",\"e\"])"
      ],
      "execution_count": 8,
      "outputs": [
        {
          "output_type": "execute_result",
          "data": {
            "text/plain": [
              "a    79\n",
              "c    45\n",
              "g     7\n",
              "f    27\n",
              "e    31\n",
              "dtype: int64"
            ]
          },
          "metadata": {
            "tags": []
          },
          "execution_count": 8
        }
      ]
    },
    {
      "cell_type": "code",
      "metadata": {
        "id": "oGtpQF6vufEy"
      },
      "source": [
        "d = {\"ali\" : 5 , \"veli\" : 16 , \"meh\" : 25}\n",
        "a = pd.Series(d)"
      ],
      "execution_count": 9,
      "outputs": []
    },
    {
      "cell_type": "code",
      "metadata": {
        "colab": {
          "base_uri": "https://localhost:8080/"
        },
        "id": "eQbwDHa6u5Q0",
        "outputId": "9318a004-e25d-4004-924e-7f72498fde0f"
      },
      "source": [
        "a*2"
      ],
      "execution_count": 10,
      "outputs": [
        {
          "output_type": "execute_result",
          "data": {
            "text/plain": [
              "ali     10\n",
              "veli    32\n",
              "meh     50\n",
              "dtype: int64"
            ]
          },
          "metadata": {
            "tags": []
          },
          "execution_count": 10
        }
      ]
    },
    {
      "cell_type": "code",
      "metadata": {
        "id": "RtDzLMNHu6Qs"
      },
      "source": [
        "b  = {\"ali\" : 5  , \"veli\" : 16 , \"ahmet\": 20 }"
      ],
      "execution_count": 20,
      "outputs": []
    },
    {
      "cell_type": "code",
      "metadata": {
        "id": "mv9k2X-5vIN1"
      },
      "source": [
        "c = pd.Series(b)"
      ],
      "execution_count": 21,
      "outputs": []
    },
    {
      "cell_type": "code",
      "metadata": {
        "colab": {
          "base_uri": "https://localhost:8080/"
        },
        "id": "BM2NhbtNvJ7X",
        "outputId": "b829e4bf-59f2-4992-8cb7-be6ec3d69f44"
      },
      "source": [
        "c"
      ],
      "execution_count": 14,
      "outputs": [
        {
          "output_type": "execute_result",
          "data": {
            "text/plain": [
              "ali       5\n",
              "veli     16\n",
              "ahmet    20\n",
              "dtype: int64"
            ]
          },
          "metadata": {
            "tags": []
          },
          "execution_count": 14
        }
      ]
    },
    {
      "cell_type": "code",
      "metadata": {
        "colab": {
          "base_uri": "https://localhost:8080/"
        },
        "id": "HCxXWyKpvNON",
        "outputId": "ef27a5be-f8e2-4dd6-b425-9824ceac89ec"
      },
      "source": [
        "c[\"ali\"]"
      ],
      "execution_count": 15,
      "outputs": [
        {
          "output_type": "execute_result",
          "data": {
            "text/plain": [
              "5"
            ]
          },
          "metadata": {
            "tags": []
          },
          "execution_count": 15
        }
      ]
    },
    {
      "cell_type": "code",
      "metadata": {
        "colab": {
          "base_uri": "https://localhost:8080/"
        },
        "id": "SjNhwnN1vYIq",
        "outputId": "6f13425b-bef5-4eca-f59b-0dcb7c9f527d"
      },
      "source": [
        "c.keys()"
      ],
      "execution_count": 16,
      "outputs": [
        {
          "output_type": "execute_result",
          "data": {
            "text/plain": [
              "Index(['ali', 'veli ', 'ahmet'], dtype='object')"
            ]
          },
          "metadata": {
            "tags": []
          },
          "execution_count": 16
        }
      ]
    },
    {
      "cell_type": "code",
      "metadata": {
        "id": "QrcFwayjvlTW"
      },
      "source": [
        "# data framelerde columns yazıyoruz"
      ],
      "execution_count": 18,
      "outputs": []
    },
    {
      "cell_type": "code",
      "metadata": {
        "colab": {
          "base_uri": "https://localhost:8080/"
        },
        "id": "JA8Vv12YvnV-",
        "outputId": "24676535-95cb-4719-b48c-33559666634e"
      },
      "source": [
        "a + c "
      ],
      "execution_count": 22,
      "outputs": [
        {
          "output_type": "execute_result",
          "data": {
            "text/plain": [
              "ahmet     NaN\n",
              "ali      10.0\n",
              "meh       NaN\n",
              "veli     32.0\n",
              "dtype: float64"
            ]
          },
          "metadata": {
            "tags": []
          },
          "execution_count": 22
        }
      ]
    },
    {
      "cell_type": "code",
      "metadata": {
        "colab": {
          "base_uri": "https://localhost:8080/"
        },
        "id": "SDxgNLGyvuir",
        "outputId": "d7b9c2c0-0c0b-4738-a803-0d88a40f429a"
      },
      "source": [
        "a.add(c,fill_value=0)"
      ],
      "execution_count": 23,
      "outputs": [
        {
          "output_type": "execute_result",
          "data": {
            "text/plain": [
              "ahmet    20.0\n",
              "ali      10.0\n",
              "meh      25.0\n",
              "veli     32.0\n",
              "dtype: float64"
            ]
          },
          "metadata": {
            "tags": []
          },
          "execution_count": 23
        }
      ]
    },
    {
      "cell_type": "code",
      "metadata": {
        "id": "Oq9tvP1cv9sz"
      },
      "source": [
        ""
      ],
      "execution_count": null,
      "outputs": []
    }
  ]
}