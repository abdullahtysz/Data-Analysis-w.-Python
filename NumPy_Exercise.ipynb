{
  "nbformat": 4,
  "nbformat_minor": 5,
  "metadata": {
    "kernelspec": {
      "display_name": "Python 3",
      "language": "python",
      "name": "python3"
    },
    "language_info": {
      "codemirror_mode": {
        "name": "ipython",
        "version": 3
      },
      "file_extension": ".py",
      "mimetype": "text/x-python",
      "name": "python",
      "nbconvert_exporter": "python",
      "pygments_lexer": "ipython3",
      "version": "3.8.8"
    },
    "colab": {
      "name": "NumPy Exercise",
      "provenance": []
    }
  },
  "cells": [
    {
      "cell_type": "code",
      "metadata": {
        "id": "c0abbf3d"
      },
      "source": [
        "import numpy as np"
      ],
      "id": "c0abbf3d",
      "execution_count": 1,
      "outputs": []
    },
    {
      "cell_type": "code",
      "metadata": {
        "id": "cde1d067"
      },
      "source": [
        "import matplotlib.pyplot as plt"
      ],
      "id": "cde1d067",
      "execution_count": 2,
      "outputs": []
    },
    {
      "cell_type": "code",
      "metadata": {
        "id": "ec268313"
      },
      "source": [
        "rand_arr = np.random.rand(55)"
      ],
      "id": "ec268313",
      "execution_count": null,
      "outputs": []
    },
    {
      "cell_type": "code",
      "metadata": {
        "id": "49ce01bf",
        "outputId": "32dcc7a2-48dd-48f5-98b9-0d1cca7d6136"
      },
      "source": [
        "rand_arr.shape"
      ],
      "id": "49ce01bf",
      "execution_count": null,
      "outputs": [
        {
          "output_type": "execute_result",
          "data": {
            "text/plain": [
              "(55,)"
            ]
          },
          "metadata": {
            "tags": []
          },
          "execution_count": 6
        }
      ]
    },
    {
      "cell_type": "code",
      "metadata": {
        "id": "e4589385",
        "outputId": "df831edc-3401-4e32-81cf-2fddaaeffa87"
      },
      "source": [
        "plt.hist(np.random.rand(55555555), bins = 40)\n",
        "plt.show()"
      ],
      "id": "e4589385",
      "execution_count": null,
      "outputs": [
        {
          "output_type": "display_data",
          "data": {
            "image/png": "[encoded data removed]",
            "text/plain": [
              "<Figure size 432x288 with 1 Axes>"
            ]
          },
          "metadata": {
            "tags": [],
            "needs_background": "light"
          }
        }
      ]
    },
    {
      "cell_type": "code",
      "metadata": {
        "id": "19e8a1b8",
        "outputId": "3562ca54-9d82-42b4-d9b9-f4fa64772d3c"
      },
      "source": [
        "np.random.randn(55)"
      ],
      "id": "19e8a1b8",
      "execution_count": null,
      "outputs": [
        {
          "output_type": "execute_result",
          "data": {
            "text/plain": [
              "array([-1.03468066, -0.93858794, -1.64927414, -1.75957486,  0.29932969,\n",
              "       -1.96849375,  0.94134242,  2.3483823 , -1.51661728, -0.16675755,\n",
              "       -0.51383373, -0.21076938, -1.77306901,  0.39414915, -0.7518065 ,\n",
              "       -0.67378932, -1.17905285,  0.47340087, -0.33902527, -1.62389507,\n",
              "        0.65168566,  0.02337587, -1.52317961,  2.03166279,  2.05016036,\n",
              "        0.24867897, -0.42192807,  0.44885426, -0.97918746, -0.31778678,\n",
              "        1.73846242,  0.94391282,  0.59090304,  2.11259776, -0.60265007,\n",
              "       -0.04348151, -0.1365101 ,  0.62294179,  1.49380457, -0.24526666,\n",
              "        0.94794615, -0.61725727, -0.58312526,  0.42971162,  0.04599502,\n",
              "       -0.87225923, -0.92485113, -0.82909651,  0.28235881, -0.48433409,\n",
              "        0.88677972,  0.16522864,  0.210909  ,  2.37259611, -1.58297827])"
            ]
          },
          "metadata": {
            "tags": []
          },
          "execution_count": 17
        }
      ]
    },
    {
      "cell_type": "code",
      "metadata": {
        "id": "c276ea01",
        "outputId": "055b0d5c-689e-4ca3-e0f3-2b1f5a8ea19f"
      },
      "source": [
        "plt.hist(np.random.randn(5555), bins = 55)\n",
        "plt.show()"
      ],
      "id": "c276ea01",
      "execution_count": null,
      "outputs": [
        {
          "output_type": "display_data",
          "data": {
            "image/png": "[encoded data removed]",
            "text/plain": [
              "<Figure size 432x288 with 1 Axes>"
            ]
          },
          "metadata": {
            "tags": [],
            "needs_background": "light"
          }
        }
      ]
    },
    {
      "cell_type": "code",
      "metadata": {
        "id": "f023a068",
        "outputId": "6d325122-8dcb-4020-f41f-ba41ea4428c5"
      },
      "source": [
        "np.random.randn(5555).mean()"
      ],
      "id": "f023a068",
      "execution_count": null,
      "outputs": [
        {
          "output_type": "execute_result",
          "data": {
            "text/plain": [
              "-0.007351333523217298"
            ]
          },
          "metadata": {
            "tags": []
          },
          "execution_count": 21
        }
      ]
    },
    {
      "cell_type": "code",
      "metadata": {
        "id": "83f3625b",
        "outputId": "ae35b630-9c82-457e-8627-e6ce93b09430"
      },
      "source": [
        "np.random.randn(5555).std()**2"
      ],
      "id": "83f3625b",
      "execution_count": null,
      "outputs": [
        {
          "output_type": "execute_result",
          "data": {
            "text/plain": [
              "0.9788993670952175"
            ]
          },
          "metadata": {
            "tags": []
          },
          "execution_count": 23
        }
      ]
    },
    {
      "cell_type": "code",
      "metadata": {
        "id": "e0888acc",
        "outputId": "1761eb1c-1aa0-4dfd-874e-3893a6f1eb22"
      },
      "source": [
        "arr = np.arange(25)\n",
        "arr"
      ],
      "id": "e0888acc",
      "execution_count": null,
      "outputs": [
        {
          "output_type": "execute_result",
          "data": {
            "text/plain": [
              "array([ 0,  1,  2,  3,  4,  5,  6,  7,  8,  9, 10, 11, 12, 13, 14, 15, 16,\n",
              "       17, 18, 19, 20, 21, 22, 23, 24])"
            ]
          },
          "metadata": {
            "tags": []
          },
          "execution_count": 24
        }
      ]
    },
    {
      "cell_type": "code",
      "metadata": {
        "id": "8215c54f",
        "outputId": "94597b72-4a67-4641-ba14-7641094451b4"
      },
      "source": [
        "arr.shape"
      ],
      "id": "8215c54f",
      "execution_count": null,
      "outputs": [
        {
          "output_type": "execute_result",
          "data": {
            "text/plain": [
              "(25,)"
            ]
          },
          "metadata": {
            "tags": []
          },
          "execution_count": 25
        }
      ]
    },
    {
      "cell_type": "code",
      "metadata": {
        "id": "c76c112d",
        "outputId": "306d7d59-86ab-45fb-fad9-dada96e0da01"
      },
      "source": [
        "arr.ndim"
      ],
      "id": "c76c112d",
      "execution_count": null,
      "outputs": [
        {
          "output_type": "execute_result",
          "data": {
            "text/plain": [
              "1"
            ]
          },
          "metadata": {
            "tags": []
          },
          "execution_count": 26
        }
      ]
    },
    {
      "cell_type": "code",
      "metadata": {
        "id": "809999cb"
      },
      "source": [
        "arr2d = arr.reshape(1,25)"
      ],
      "id": "809999cb",
      "execution_count": null,
      "outputs": []
    },
    {
      "cell_type": "code",
      "metadata": {
        "id": "8071b112",
        "outputId": "ece3fb7f-bf11-494a-9844-be56719e86bb"
      },
      "source": [
        "arr2d.shape"
      ],
      "id": "8071b112",
      "execution_count": null,
      "outputs": [
        {
          "output_type": "execute_result",
          "data": {
            "text/plain": [
              "(1, 25)"
            ]
          },
          "metadata": {
            "tags": []
          },
          "execution_count": 29
        }
      ]
    },
    {
      "cell_type": "code",
      "metadata": {
        "id": "223a8b21",
        "outputId": "8bb058bb-48b9-457f-bba4-708247f20006"
      },
      "source": [
        "arr"
      ],
      "id": "223a8b21",
      "execution_count": null,
      "outputs": [
        {
          "output_type": "execute_result",
          "data": {
            "text/plain": [
              "array([ 0,  1,  2,  3,  4,  5,  6,  7,  8,  9, 10, 11, 12, 13, 14, 15, 16,\n",
              "       17, 18, 19, 20, 21, 22, 23, 24])"
            ]
          },
          "metadata": {
            "tags": []
          },
          "execution_count": 30
        }
      ]
    },
    {
      "cell_type": "code",
      "metadata": {
        "id": "6d63625c",
        "outputId": "311d3875-0258-4dad-e637-4050bf252d78"
      },
      "source": [
        "arr.reshape(5,5)"
      ],
      "id": "6d63625c",
      "execution_count": null,
      "outputs": [
        {
          "output_type": "execute_result",
          "data": {
            "text/plain": [
              "array([[ 0,  1,  2,  3,  4],\n",
              "       [ 5,  6,  7,  8,  9],\n",
              "       [10, 11, 12, 13, 14],\n",
              "       [15, 16, 17, 18, 19],\n",
              "       [20, 21, 22, 23, 24]])"
            ]
          },
          "metadata": {
            "tags": []
          },
          "execution_count": 31
        }
      ]
    },
    {
      "cell_type": "code",
      "metadata": {
        "id": "36b4eeb9",
        "outputId": "edca1528-6a49-4ada-ab57-72917140dcd3"
      },
      "source": [
        "arr.reshape(25,1)"
      ],
      "id": "36b4eeb9",
      "execution_count": null,
      "outputs": [
        {
          "output_type": "execute_result",
          "data": {
            "text/plain": [
              "array([[ 0],\n",
              "       [ 1],\n",
              "       [ 2],\n",
              "       [ 3],\n",
              "       [ 4],\n",
              "       [ 5],\n",
              "       [ 6],\n",
              "       [ 7],\n",
              "       [ 8],\n",
              "       [ 9],\n",
              "       [10],\n",
              "       [11],\n",
              "       [12],\n",
              "       [13],\n",
              "       [14],\n",
              "       [15],\n",
              "       [16],\n",
              "       [17],\n",
              "       [18],\n",
              "       [19],\n",
              "       [20],\n",
              "       [21],\n",
              "       [22],\n",
              "       [23],\n",
              "       [24]])"
            ]
          },
          "metadata": {
            "tags": []
          },
          "execution_count": 32
        }
      ]
    },
    {
      "cell_type": "code",
      "metadata": {
        "id": "58d16f30",
        "outputId": "4fef0c78-988f-4391-f024-1fed1c5aa49a"
      },
      "source": [
        "arr.reshape(3,8)"
      ],
      "id": "58d16f30",
      "execution_count": null,
      "outputs": [
        {
          "output_type": "error",
          "ename": "ValueError",
          "evalue": "cannot reshape array of size 25 into shape (3,8)",
          "traceback": [
            "\u001b[0;31m---------------------------------------------------------------------------\u001b[0m",
            "\u001b[0;31mValueError\u001b[0m                                Traceback (most recent call last)",
            "\u001b[0;32m<ipython-input-33-b9d0423365bd>\u001b[0m in \u001b[0;36m<module>\u001b[0;34m\u001b[0m\n\u001b[0;32m----> 1\u001b[0;31m \u001b[0marr\u001b[0m\u001b[0;34m.\u001b[0m\u001b[0mreshape\u001b[0m\u001b[0;34m(\u001b[0m\u001b[0;36m3\u001b[0m\u001b[0;34m,\u001b[0m\u001b[0;36m8\u001b[0m\u001b[0;34m)\u001b[0m\u001b[0;34m\u001b[0m\u001b[0;34m\u001b[0m\u001b[0m\n\u001b[0m",
            "\u001b[0;31mValueError\u001b[0m: cannot reshape array of size 25 into shape (3,8)"
          ]
        }
      ]
    },
    {
      "cell_type": "code",
      "metadata": {
        "id": "d92bfe94",
        "outputId": "0d531ea1-a3b5-47d9-bbde-521f2b7dfd41"
      },
      "source": [
        "np.random.randint(10, size = (3,5))"
      ],
      "id": "d92bfe94",
      "execution_count": null,
      "outputs": [
        {
          "output_type": "execute_result",
          "data": {
            "text/plain": [
              "array([[1, 9, 2, 4, 1],\n",
              "       [2, 2, 2, 3, 7],\n",
              "       [3, 1, 3, 3, 3]])"
            ]
          },
          "metadata": {
            "tags": []
          },
          "execution_count": 35
        }
      ]
    },
    {
      "cell_type": "code",
      "metadata": {
        "id": "9e2ebdd8",
        "outputId": "37529764-7701-4ac8-899d-9f85db94768f"
      },
      "source": [
        "np.linspace(0, 10, 3, dtype=int)"
      ],
      "id": "9e2ebdd8",
      "execution_count": null,
      "outputs": [
        {
          "output_type": "execute_result",
          "data": {
            "text/plain": [
              "array([ 0,  5, 10])"
            ]
          },
          "metadata": {
            "tags": []
          },
          "execution_count": 37
        }
      ]
    },
    {
      "cell_type": "code",
      "metadata": {
        "id": "0b048b71",
        "outputId": "22026a9f-7a16-4575-b93d-3f91354281e7"
      },
      "source": [
        "np.linspace(0, 10, 50)"
      ],
      "id": "0b048b71",
      "execution_count": null,
      "outputs": [
        {
          "output_type": "execute_result",
          "data": {
            "text/plain": [
              "array([ 0.        ,  0.20408163,  0.40816327,  0.6122449 ,  0.81632653,\n",
              "        1.02040816,  1.2244898 ,  1.42857143,  1.63265306,  1.83673469,\n",
              "        2.04081633,  2.24489796,  2.44897959,  2.65306122,  2.85714286,\n",
              "        3.06122449,  3.26530612,  3.46938776,  3.67346939,  3.87755102,\n",
              "        4.08163265,  4.28571429,  4.48979592,  4.69387755,  4.89795918,\n",
              "        5.10204082,  5.30612245,  5.51020408,  5.71428571,  5.91836735,\n",
              "        6.12244898,  6.32653061,  6.53061224,  6.73469388,  6.93877551,\n",
              "        7.14285714,  7.34693878,  7.55102041,  7.75510204,  7.95918367,\n",
              "        8.16326531,  8.36734694,  8.57142857,  8.7755102 ,  8.97959184,\n",
              "        9.18367347,  9.3877551 ,  9.59183673,  9.79591837, 10.        ])"
            ]
          },
          "metadata": {
            "tags": []
          },
          "execution_count": 38
        }
      ]
    },
    {
      "cell_type": "code",
      "metadata": {
        "id": "fbff8cce",
        "outputId": "e675ceb3-788a-4305-837f-02793c3ddded"
      },
      "source": [
        "np.linspace(0, 10, 51)"
      ],
      "id": "fbff8cce",
      "execution_count": null,
      "outputs": [
        {
          "output_type": "execute_result",
          "data": {
            "text/plain": [
              "array([ 0. ,  0.2,  0.4,  0.6,  0.8,  1. ,  1.2,  1.4,  1.6,  1.8,  2. ,\n",
              "        2.2,  2.4,  2.6,  2.8,  3. ,  3.2,  3.4,  3.6,  3.8,  4. ,  4.2,\n",
              "        4.4,  4.6,  4.8,  5. ,  5.2,  5.4,  5.6,  5.8,  6. ,  6.2,  6.4,\n",
              "        6.6,  6.8,  7. ,  7.2,  7.4,  7.6,  7.8,  8. ,  8.2,  8.4,  8.6,\n",
              "        8.8,  9. ,  9.2,  9.4,  9.6,  9.8, 10. ])"
            ]
          },
          "metadata": {
            "tags": []
          },
          "execution_count": 39
        }
      ]
    },
    {
      "cell_type": "markdown",
      "metadata": {
        "id": "8105e438"
      },
      "source": [
        "## NumPy Indexing and Selection "
      ],
      "id": "8105e438"
    },
    {
      "cell_type": "code",
      "metadata": {
        "colab": {
          "base_uri": "https://localhost:8080/"
        },
        "id": "af44b071",
        "outputId": "bd8506d9-9d7c-4bac-9210-fd2818d19bde"
      },
      "source": [
        "arr = np.arange(0,11)\n",
        "arr"
      ],
      "id": "af44b071",
      "execution_count": 3,
      "outputs": [
        {
          "output_type": "execute_result",
          "data": {
            "text/plain": [
              "array([ 0,  1,  2,  3,  4,  5,  6,  7,  8,  9, 10])"
            ]
          },
          "metadata": {
            "tags": []
          },
          "execution_count": 3
        }
      ]
    },
    {
      "cell_type": "code",
      "metadata": {
        "colab": {
          "base_uri": "https://localhost:8080/"
        },
        "id": "a742ff13",
        "outputId": "4e637012-238e-4a7d-c1da-1e3b8abc2491"
      },
      "source": [
        "arr[8]"
      ],
      "id": "a742ff13",
      "execution_count": 4,
      "outputs": [
        {
          "output_type": "execute_result",
          "data": {
            "text/plain": [
              "8"
            ]
          },
          "metadata": {
            "tags": []
          },
          "execution_count": 4
        }
      ]
    },
    {
      "cell_type": "code",
      "metadata": {
        "colab": {
          "base_uri": "https://localhost:8080/"
        },
        "id": "52a84cdb",
        "outputId": "168f262a-5c3f-4e1b-e9e5-9f53e39da094"
      },
      "source": [
        "arr[-1]"
      ],
      "id": "52a84cdb",
      "execution_count": 5,
      "outputs": [
        {
          "output_type": "execute_result",
          "data": {
            "text/plain": [
              "10"
            ]
          },
          "metadata": {
            "tags": []
          },
          "execution_count": 5
        }
      ]
    },
    {
      "cell_type": "code",
      "metadata": {
        "colab": {
          "base_uri": "https://localhost:8080/"
        },
        "id": "4d188bb8",
        "outputId": "ea86cb69-cc6e-47cc-a697-5dd775a6176b"
      },
      "source": [
        "arr"
      ],
      "id": "4d188bb8",
      "execution_count": 6,
      "outputs": [
        {
          "output_type": "execute_result",
          "data": {
            "text/plain": [
              "array([ 0,  1,  2,  3,  4,  5,  6,  7,  8,  9, 10])"
            ]
          },
          "metadata": {
            "tags": []
          },
          "execution_count": 6
        }
      ]
    },
    {
      "cell_type": "code",
      "metadata": {
        "colab": {
          "base_uri": "https://localhost:8080/"
        },
        "id": "e1c138ff",
        "outputId": "664ed779-9825-40c9-f0bb-23725278c028"
      },
      "source": [
        "arr[1:5]"
      ],
      "id": "e1c138ff",
      "execution_count": 7,
      "outputs": [
        {
          "output_type": "execute_result",
          "data": {
            "text/plain": [
              "array([1, 2, 3, 4])"
            ]
          },
          "metadata": {
            "tags": []
          },
          "execution_count": 7
        }
      ]
    },
    {
      "cell_type": "code",
      "metadata": {
        "id": "d9adc737"
      },
      "source": [
        "#arr[start:stop:step]"
      ],
      "id": "d9adc737",
      "execution_count": 8,
      "outputs": []
    },
    {
      "cell_type": "code",
      "metadata": {
        "colab": {
          "base_uri": "https://localhost:8080/"
        },
        "id": "434df6a3",
        "outputId": "67e52c18-5366-4a48-fa05-c5b44578678f"
      },
      "source": [
        "arr[1::2]"
      ],
      "id": "434df6a3",
      "execution_count": 9,
      "outputs": [
        {
          "output_type": "execute_result",
          "data": {
            "text/plain": [
              "array([1, 3, 5, 7, 9])"
            ]
          },
          "metadata": {
            "tags": []
          },
          "execution_count": 9
        }
      ]
    },
    {
      "cell_type": "code",
      "metadata": {
        "colab": {
          "base_uri": "https://localhost:8080/"
        },
        "id": "d3c80094",
        "outputId": "6ebf019a-3022-4c17-c326-81eb83b22dd4"
      },
      "source": [
        "arr[0::2]"
      ],
      "id": "d3c80094",
      "execution_count": 10,
      "outputs": [
        {
          "output_type": "execute_result",
          "data": {
            "text/plain": [
              "array([ 0,  2,  4,  6,  8, 10])"
            ]
          },
          "metadata": {
            "tags": []
          },
          "execution_count": 10
        }
      ]
    },
    {
      "cell_type": "markdown",
      "metadata": {
        "id": "811f9a39"
      },
      "source": [
        "## Broadcasting"
      ],
      "id": "811f9a39"
    },
    {
      "cell_type": "code",
      "metadata": {
        "id": "269c54ce",
        "outputId": "b7fb8a0e-c655-49ac-f05d-e472f1dbdb03"
      },
      "source": [
        "arr"
      ],
      "id": "269c54ce",
      "execution_count": null,
      "outputs": [
        {
          "output_type": "execute_result",
          "data": {
            "text/plain": [
              "array([ 0,  1,  2,  3,  4,  5,  6,  7,  8,  9, 10])"
            ]
          },
          "metadata": {
            "tags": []
          },
          "execution_count": 47
        }
      ]
    },
    {
      "cell_type": "code",
      "metadata": {
        "id": "26922101"
      },
      "source": [
        "arr[0:5] = 100"
      ],
      "id": "26922101",
      "execution_count": null,
      "outputs": []
    },
    {
      "cell_type": "code",
      "metadata": {
        "id": "225a5644",
        "outputId": "394aa5f3-53cf-4e79-a5a0-645b248e0377"
      },
      "source": [
        "arr"
      ],
      "id": "225a5644",
      "execution_count": null,
      "outputs": [
        {
          "output_type": "execute_result",
          "data": {
            "text/plain": [
              "array([100, 100, 100, 100, 100,   5,   6,   7,   8,   9,  10])"
            ]
          },
          "metadata": {
            "tags": []
          },
          "execution_count": 49
        }
      ]
    },
    {
      "cell_type": "code",
      "metadata": {
        "id": "c402981e"
      },
      "source": [
        "a = [0, 2, 4, 6, 8, 10]"
      ],
      "id": "c402981e",
      "execution_count": null,
      "outputs": []
    },
    {
      "cell_type": "code",
      "metadata": {
        "id": "36495eb3",
        "outputId": "0d7fde8a-1e61-4a9e-bde4-0074387e0b73"
      },
      "source": [
        "a"
      ],
      "id": "36495eb3",
      "execution_count": null,
      "outputs": [
        {
          "output_type": "execute_result",
          "data": {
            "text/plain": [
              "[0, 2, 4, 6, 8, 10]"
            ]
          },
          "metadata": {
            "tags": []
          },
          "execution_count": 51
        }
      ]
    },
    {
      "cell_type": "code",
      "metadata": {
        "id": "a000dec1",
        "outputId": "6dd76328-3358-4172-ea2f-f18c1942bae4"
      },
      "source": [
        "a[0:3] = 100"
      ],
      "id": "a000dec1",
      "execution_count": null,
      "outputs": [
        {
          "output_type": "error",
          "ename": "TypeError",
          "evalue": "can only assign an iterable",
          "traceback": [
            "\u001b[0;31m---------------------------------------------------------------------------\u001b[0m",
            "\u001b[0;31mTypeError\u001b[0m                                 Traceback (most recent call last)",
            "\u001b[0;32m<ipython-input-53-1f9bfd54a088>\u001b[0m in \u001b[0;36m<module>\u001b[0;34m\u001b[0m\n\u001b[0;32m----> 1\u001b[0;31m \u001b[0ma\u001b[0m\u001b[0;34m[\u001b[0m\u001b[0;36m0\u001b[0m\u001b[0;34m:\u001b[0m\u001b[0;36m3\u001b[0m\u001b[0;34m]\u001b[0m \u001b[0;34m=\u001b[0m \u001b[0;36m100\u001b[0m\u001b[0;34m\u001b[0m\u001b[0;34m\u001b[0m\u001b[0m\n\u001b[0m",
            "\u001b[0;31mTypeError\u001b[0m: can only assign an iterable"
          ]
        }
      ]
    },
    {
      "cell_type": "code",
      "metadata": {
        "id": "bfd8b8b3",
        "outputId": "0988eb04-3486-4b15-c2b7-b9f1c68598b2"
      },
      "source": [
        "a[0:3] = [100, 100, 100]\n",
        "a"
      ],
      "id": "bfd8b8b3",
      "execution_count": null,
      "outputs": [
        {
          "output_type": "execute_result",
          "data": {
            "text/plain": [
              "[100, 100, 100, 6, 8, 10]"
            ]
          },
          "metadata": {
            "tags": []
          },
          "execution_count": 54
        }
      ]
    },
    {
      "cell_type": "code",
      "metadata": {
        "id": "efd7aac5",
        "outputId": "7ccaf9b1-56e4-4080-c447-74448e8a0af2"
      },
      "source": [
        "arr"
      ],
      "id": "efd7aac5",
      "execution_count": null,
      "outputs": [
        {
          "output_type": "execute_result",
          "data": {
            "text/plain": [
              "array([100, 100, 100, 100, 100,   5,   6,   7,   8,   9,  10])"
            ]
          },
          "metadata": {
            "tags": []
          },
          "execution_count": 55
        }
      ]
    },
    {
      "cell_type": "code",
      "metadata": {
        "id": "9720aa21",
        "outputId": "f94607db-255f-412b-b555-b4a355aa2632"
      },
      "source": [
        "arr = np.arange(0, 11)\n",
        "arr"
      ],
      "id": "9720aa21",
      "execution_count": null,
      "outputs": [
        {
          "output_type": "execute_result",
          "data": {
            "text/plain": [
              "array([ 0,  1,  2,  3,  4,  5,  6,  7,  8,  9, 10])"
            ]
          },
          "metadata": {
            "tags": []
          },
          "execution_count": 56
        }
      ]
    },
    {
      "cell_type": "code",
      "metadata": {
        "id": "a5a2a545",
        "outputId": "0d817e48-0f4c-4f60-e476-f0d6945211b3"
      },
      "source": [
        "slice_of_arr = arr[0:6]\n",
        "slice_of_arr"
      ],
      "id": "a5a2a545",
      "execution_count": null,
      "outputs": [
        {
          "output_type": "execute_result",
          "data": {
            "text/plain": [
              "array([0, 1, 2, 3, 4, 5])"
            ]
          },
          "metadata": {
            "tags": []
          },
          "execution_count": 57
        }
      ]
    },
    {
      "cell_type": "code",
      "metadata": {
        "id": "a0fb0509",
        "outputId": "53c69652-dcee-46d2-9905-f2d34ab893c8"
      },
      "source": [
        "slice_of_arr[:] = 99\n",
        "\n",
        "slice_of_arr"
      ],
      "id": "a0fb0509",
      "execution_count": null,
      "outputs": [
        {
          "output_type": "execute_result",
          "data": {
            "text/plain": [
              "array([99, 99, 99, 99, 99, 99])"
            ]
          },
          "metadata": {
            "tags": []
          },
          "execution_count": 58
        }
      ]
    },
    {
      "cell_type": "code",
      "metadata": {
        "id": "4571e83e",
        "outputId": "08f40880-163b-43ad-f39f-fccf25d7d583"
      },
      "source": [
        "arr"
      ],
      "id": "4571e83e",
      "execution_count": null,
      "outputs": [
        {
          "output_type": "execute_result",
          "data": {
            "text/plain": [
              "array([99, 99, 99, 99, 99, 99,  6,  7,  8,  9, 10])"
            ]
          },
          "metadata": {
            "tags": []
          },
          "execution_count": 59
        }
      ]
    },
    {
      "cell_type": "code",
      "metadata": {
        "id": "e93e395a",
        "outputId": "a5459166-a244-47b3-90bb-d8227f2a1772"
      },
      "source": [
        "arr_copy = arr.copy()\n",
        "arr_copy"
      ],
      "id": "e93e395a",
      "execution_count": null,
      "outputs": [
        {
          "output_type": "execute_result",
          "data": {
            "text/plain": [
              "array([99, 99, 99, 99, 99, 99,  6,  7,  8,  9, 10])"
            ]
          },
          "metadata": {
            "tags": []
          },
          "execution_count": 60
        }
      ]
    },
    {
      "cell_type": "code",
      "metadata": {
        "id": "b9138195",
        "outputId": "f74090c4-c7e3-4f2c-e9f3-cf8ccda86465"
      },
      "source": [
        "arr_copy[0:6] = [0,1,2,3,4,5]\n",
        "arr_copy"
      ],
      "id": "b9138195",
      "execution_count": null,
      "outputs": [
        {
          "output_type": "execute_result",
          "data": {
            "text/plain": [
              "array([ 0,  1,  2,  3,  4,  5,  6,  7,  8,  9, 10])"
            ]
          },
          "metadata": {
            "tags": []
          },
          "execution_count": 61
        }
      ]
    },
    {
      "cell_type": "code",
      "metadata": {
        "id": "fb87f054",
        "outputId": "e07c0566-ad9c-4aa1-cdef-7f210b5ef8ad"
      },
      "source": [
        "arr"
      ],
      "id": "fb87f054",
      "execution_count": null,
      "outputs": [
        {
          "output_type": "execute_result",
          "data": {
            "text/plain": [
              "array([99, 99, 99, 99, 99, 99,  6,  7,  8,  9, 10])"
            ]
          },
          "metadata": {
            "tags": []
          },
          "execution_count": 62
        }
      ]
    },
    {
      "cell_type": "markdown",
      "metadata": {
        "id": "caf6eb29"
      },
      "source": [
        "## Indexing a 2D arrays"
      ],
      "id": "caf6eb29"
    },
    {
      "cell_type": "code",
      "metadata": {
        "id": "5c5fd169",
        "outputId": "353183bb-0c99-46f6-b83f-5673136973d3"
      },
      "source": [
        "arr_2d = np.array([[5,10,15], [20,25,30], [35,40,45]])\n",
        "arr_2d"
      ],
      "id": "5c5fd169",
      "execution_count": null,
      "outputs": [
        {
          "output_type": "execute_result",
          "data": {
            "text/plain": [
              "array([[ 5, 10, 15],\n",
              "       [20, 25, 30],\n",
              "       [35, 40, 45]])"
            ]
          },
          "metadata": {
            "tags": []
          },
          "execution_count": 63
        }
      ]
    },
    {
      "cell_type": "code",
      "metadata": {
        "id": "26a7c00d",
        "outputId": "257e3392-93e1-450f-a9a2-2b7cc5c17c77"
      },
      "source": [
        "arr_2d[1]"
      ],
      "id": "26a7c00d",
      "execution_count": null,
      "outputs": [
        {
          "output_type": "execute_result",
          "data": {
            "text/plain": [
              "array([20, 25, 30])"
            ]
          },
          "metadata": {
            "tags": []
          },
          "execution_count": 64
        }
      ]
    },
    {
      "cell_type": "code",
      "metadata": {
        "id": "2ffee2f1",
        "outputId": "1a0c950b-72d1-4892-b998-c061df6ccef1"
      },
      "source": [
        "arr_2d[1,0]"
      ],
      "id": "2ffee2f1",
      "execution_count": null,
      "outputs": [
        {
          "output_type": "execute_result",
          "data": {
            "text/plain": [
              "20"
            ]
          },
          "metadata": {
            "tags": []
          },
          "execution_count": 65
        }
      ]
    },
    {
      "cell_type": "code",
      "metadata": {
        "id": "3ad79431",
        "outputId": "f63f25ee-bde4-46ae-a9cc-555be2d5330a"
      },
      "source": [
        "arr_2d[2]"
      ],
      "id": "3ad79431",
      "execution_count": null,
      "outputs": [
        {
          "output_type": "execute_result",
          "data": {
            "text/plain": [
              "array([35, 40, 45])"
            ]
          },
          "metadata": {
            "tags": []
          },
          "execution_count": 66
        }
      ]
    },
    {
      "cell_type": "code",
      "metadata": {
        "id": "61e0beac",
        "outputId": "410ddb73-1d62-41dc-af8a-7af8977b6374"
      },
      "source": [
        "arr_2d"
      ],
      "id": "61e0beac",
      "execution_count": null,
      "outputs": [
        {
          "output_type": "execute_result",
          "data": {
            "text/plain": [
              "array([[ 5, 10, 15],\n",
              "       [20, 25, 30],\n",
              "       [35, 40, 45]])"
            ]
          },
          "metadata": {
            "tags": []
          },
          "execution_count": 67
        }
      ]
    },
    {
      "cell_type": "code",
      "metadata": {
        "id": "8fce531f",
        "outputId": "b9fe6f7b-a6b8-445a-de47-d0d2da105f98"
      },
      "source": [
        "arr_2d[2,:]"
      ],
      "id": "8fce531f",
      "execution_count": null,
      "outputs": [
        {
          "output_type": "execute_result",
          "data": {
            "text/plain": [
              "array([35, 40, 45])"
            ]
          },
          "metadata": {
            "tags": []
          },
          "execution_count": 68
        }
      ]
    },
    {
      "cell_type": "code",
      "metadata": {
        "id": "35bd2e9d",
        "outputId": "44d8e5c7-754f-4cab-8f69-116a79da31ad"
      },
      "source": [
        "arr_2d[:,1]"
      ],
      "id": "35bd2e9d",
      "execution_count": null,
      "outputs": [
        {
          "output_type": "execute_result",
          "data": {
            "text/plain": [
              "array([10, 25, 40])"
            ]
          },
          "metadata": {
            "tags": []
          },
          "execution_count": 69
        }
      ]
    },
    {
      "cell_type": "code",
      "metadata": {
        "id": "962950f3",
        "outputId": "e01fecf5-40bc-4cc3-946c-91f980eb5e60"
      },
      "source": [
        "arr_2d[:, 2]"
      ],
      "id": "962950f3",
      "execution_count": null,
      "outputs": [
        {
          "output_type": "execute_result",
          "data": {
            "text/plain": [
              "array([15, 30, 45])"
            ]
          },
          "metadata": {
            "tags": []
          },
          "execution_count": 70
        }
      ]
    },
    {
      "cell_type": "code",
      "metadata": {
        "id": "23b09031",
        "outputId": "b9d51809-d344-4b05-d62f-362155f81109"
      },
      "source": [
        "arr_2d[1,1]"
      ],
      "id": "23b09031",
      "execution_count": null,
      "outputs": [
        {
          "output_type": "execute_result",
          "data": {
            "text/plain": [
              "25"
            ]
          },
          "metadata": {
            "tags": []
          },
          "execution_count": 71
        }
      ]
    },
    {
      "cell_type": "code",
      "metadata": {
        "id": "57b41de0",
        "outputId": "f5da48df-5471-4260-99fc-9d21cd1f4655"
      },
      "source": [
        "arr_2d[1,1] = 55\n",
        "arr_2d"
      ],
      "id": "57b41de0",
      "execution_count": null,
      "outputs": [
        {
          "output_type": "execute_result",
          "data": {
            "text/plain": [
              "array([[ 5, 10, 15],\n",
              "       [20, 55, 30],\n",
              "       [35, 40, 45]])"
            ]
          },
          "metadata": {
            "tags": []
          },
          "execution_count": 72
        }
      ]
    },
    {
      "cell_type": "code",
      "metadata": {
        "id": "310be1cd",
        "outputId": "13e88629-f201-4809-e5a2-3e9b0fed858c"
      },
      "source": [
        "arr_2d[0, 0] = 3.3\n",
        "arr_2d"
      ],
      "id": "310be1cd",
      "execution_count": null,
      "outputs": [
        {
          "output_type": "execute_result",
          "data": {
            "text/plain": [
              "array([[ 3, 10, 15],\n",
              "       [20, 55, 30],\n",
              "       [35, 40, 45]])"
            ]
          },
          "metadata": {
            "tags": []
          },
          "execution_count": 74
        }
      ]
    },
    {
      "cell_type": "code",
      "metadata": {
        "id": "d9270618",
        "outputId": "0b309cec-43b1-4db4-f2b7-971b8f3e6e80"
      },
      "source": [
        "arr_2d.dtype"
      ],
      "id": "d9270618",
      "execution_count": null,
      "outputs": [
        {
          "output_type": "execute_result",
          "data": {
            "text/plain": [
              "dtype('int64')"
            ]
          },
          "metadata": {
            "tags": []
          },
          "execution_count": 75
        }
      ]
    },
    {
      "cell_type": "markdown",
      "metadata": {
        "id": "c01d2e9b"
      },
      "source": [
        "### Fancy Indexing"
      ],
      "id": "c01d2e9b"
    },
    {
      "cell_type": "code",
      "metadata": {
        "id": "ea38bcd1",
        "outputId": "fe427388-c1f4-445e-d103-15212dfc19f5"
      },
      "source": [
        "v = np.arange(0, 30, 3)\n",
        "v"
      ],
      "id": "ea38bcd1",
      "execution_count": null,
      "outputs": [
        {
          "output_type": "execute_result",
          "data": {
            "text/plain": [
              "array([ 0,  3,  6,  9, 12, 15, 18, 21, 24, 27])"
            ]
          },
          "metadata": {
            "tags": []
          },
          "execution_count": 76
        }
      ]
    },
    {
      "cell_type": "code",
      "metadata": {
        "id": "14bd03a6",
        "outputId": "da2bf585-a450-4241-dc32-831ff3ce8bbc"
      },
      "source": [
        "v[1]"
      ],
      "id": "14bd03a6",
      "execution_count": null,
      "outputs": [
        {
          "output_type": "execute_result",
          "data": {
            "text/plain": [
              "3"
            ]
          },
          "metadata": {
            "tags": []
          },
          "execution_count": 77
        }
      ]
    },
    {
      "cell_type": "code",
      "metadata": {
        "id": "2b826fde",
        "outputId": "d13d7756-ce3e-44c8-d20f-0f16aafe6132"
      },
      "source": [
        "v[5]"
      ],
      "id": "2b826fde",
      "execution_count": null,
      "outputs": [
        {
          "output_type": "execute_result",
          "data": {
            "text/plain": [
              "15"
            ]
          },
          "metadata": {
            "tags": []
          },
          "execution_count": 78
        }
      ]
    },
    {
      "cell_type": "code",
      "metadata": {
        "id": "8c0c9e0c",
        "outputId": "8c08d767-2a11-4eaa-a5a2-e60761ece67f"
      },
      "source": [
        "v[3]"
      ],
      "id": "8c0c9e0c",
      "execution_count": null,
      "outputs": [
        {
          "output_type": "execute_result",
          "data": {
            "text/plain": [
              "9"
            ]
          },
          "metadata": {
            "tags": []
          },
          "execution_count": 79
        }
      ]
    },
    {
      "cell_type": "code",
      "metadata": {
        "id": "17021a54"
      },
      "source": [
        "inx_list = [1, 5, 3]"
      ],
      "id": "17021a54",
      "execution_count": null,
      "outputs": []
    },
    {
      "cell_type": "code",
      "metadata": {
        "id": "d83c18c8",
        "outputId": "77fedb7a-2c17-45ac-d734-5252fe44ffb6"
      },
      "source": [
        "v[inx_list]"
      ],
      "id": "d83c18c8",
      "execution_count": null,
      "outputs": [
        {
          "output_type": "execute_result",
          "data": {
            "text/plain": [
              "array([ 3, 15,  9])"
            ]
          },
          "metadata": {
            "tags": []
          },
          "execution_count": 81
        }
      ]
    },
    {
      "cell_type": "code",
      "metadata": {
        "id": "ebed337d",
        "outputId": "7469d1b6-d98e-4dfc-ac93-1227bb4629d9"
      },
      "source": [
        "v[[1,5,3]]"
      ],
      "id": "ebed337d",
      "execution_count": null,
      "outputs": [
        {
          "output_type": "execute_result",
          "data": {
            "text/plain": [
              "array([ 3, 15,  9])"
            ]
          },
          "metadata": {
            "tags": []
          },
          "execution_count": 82
        }
      ]
    },
    {
      "cell_type": "code",
      "metadata": {
        "id": "e0710b68"
      },
      "source": [
        "arr2d = np.zeros((10,10), dtype = int)"
      ],
      "id": "e0710b68",
      "execution_count": null,
      "outputs": []
    },
    {
      "cell_type": "code",
      "metadata": {
        "id": "f8655c62",
        "outputId": "d230db84-c88b-49e6-8160-7c780417ef38"
      },
      "source": [
        "arr2d"
      ],
      "id": "f8655c62",
      "execution_count": null,
      "outputs": [
        {
          "output_type": "execute_result",
          "data": {
            "text/plain": [
              "array([[0, 0, 0, 0, 0, 0, 0, 0, 0, 0],\n",
              "       [0, 0, 0, 0, 0, 0, 0, 0, 0, 0],\n",
              "       [0, 0, 0, 0, 0, 0, 0, 0, 0, 0],\n",
              "       [0, 0, 0, 0, 0, 0, 0, 0, 0, 0],\n",
              "       [0, 0, 0, 0, 0, 0, 0, 0, 0, 0],\n",
              "       [0, 0, 0, 0, 0, 0, 0, 0, 0, 0],\n",
              "       [0, 0, 0, 0, 0, 0, 0, 0, 0, 0],\n",
              "       [0, 0, 0, 0, 0, 0, 0, 0, 0, 0],\n",
              "       [0, 0, 0, 0, 0, 0, 0, 0, 0, 0],\n",
              "       [0, 0, 0, 0, 0, 0, 0, 0, 0, 0]])"
            ]
          },
          "metadata": {
            "tags": []
          },
          "execution_count": 87
        }
      ]
    },
    {
      "cell_type": "code",
      "metadata": {
        "id": "3407b8d6",
        "outputId": "95dc9b3a-16b4-4863-8345-1bf996439490"
      },
      "source": [
        "arr2d.shape"
      ],
      "id": "3407b8d6",
      "execution_count": null,
      "outputs": [
        {
          "output_type": "execute_result",
          "data": {
            "text/plain": [
              "(10, 10)"
            ]
          },
          "metadata": {
            "tags": []
          },
          "execution_count": 88
        }
      ]
    },
    {
      "cell_type": "code",
      "metadata": {
        "id": "826191a1",
        "outputId": "e64a80b4-9402-41b7-f682-8c3c8b7e8ded"
      },
      "source": [
        "arr2d[0]"
      ],
      "id": "826191a1",
      "execution_count": null,
      "outputs": [
        {
          "output_type": "execute_result",
          "data": {
            "text/plain": [
              "array([0, 0, 0, 0, 0, 0, 0, 0, 0, 0])"
            ]
          },
          "metadata": {
            "tags": []
          },
          "execution_count": 89
        }
      ]
    },
    {
      "cell_type": "code",
      "metadata": {
        "id": "a5d61b0f",
        "outputId": "d29f5027-85a1-42b4-9402-fd2011b98b63"
      },
      "source": [
        "arr2d[3]"
      ],
      "id": "a5d61b0f",
      "execution_count": null,
      "outputs": [
        {
          "output_type": "execute_result",
          "data": {
            "text/plain": [
              "array([0, 0, 0, 0, 0, 0, 0, 0, 0, 0])"
            ]
          },
          "metadata": {
            "tags": []
          },
          "execution_count": 90
        }
      ]
    },
    {
      "cell_type": "code",
      "metadata": {
        "id": "5eced35f",
        "outputId": "9fd2c69b-32dc-4168-849b-3f8cfe013b53"
      },
      "source": [
        "for i in range(10):\n",
        "    arr2d[i] = i\n",
        "arr2d"
      ],
      "id": "5eced35f",
      "execution_count": null,
      "outputs": [
        {
          "output_type": "execute_result",
          "data": {
            "text/plain": [
              "array([[0, 0, 0, 0, 0, 0, 0, 0, 0, 0],\n",
              "       [1, 1, 1, 1, 1, 1, 1, 1, 1, 1],\n",
              "       [2, 2, 2, 2, 2, 2, 2, 2, 2, 2],\n",
              "       [3, 3, 3, 3, 3, 3, 3, 3, 3, 3],\n",
              "       [4, 4, 4, 4, 4, 4, 4, 4, 4, 4],\n",
              "       [5, 5, 5, 5, 5, 5, 5, 5, 5, 5],\n",
              "       [6, 6, 6, 6, 6, 6, 6, 6, 6, 6],\n",
              "       [7, 7, 7, 7, 7, 7, 7, 7, 7, 7],\n",
              "       [8, 8, 8, 8, 8, 8, 8, 8, 8, 8],\n",
              "       [9, 9, 9, 9, 9, 9, 9, 9, 9, 9]])"
            ]
          },
          "metadata": {
            "tags": []
          },
          "execution_count": 91
        }
      ]
    },
    {
      "cell_type": "code",
      "metadata": {
        "id": "263d9a34",
        "outputId": "0c18751c-2fde-4b50-d6da-9ae727d7aad7"
      },
      "source": [
        "arr2d[[2,4,6,8]]"
      ],
      "id": "263d9a34",
      "execution_count": null,
      "outputs": [
        {
          "output_type": "execute_result",
          "data": {
            "text/plain": [
              "array([[2, 2, 2, 2, 2, 2, 2, 2, 2, 2],\n",
              "       [4, 4, 4, 4, 4, 4, 4, 4, 4, 4],\n",
              "       [6, 6, 6, 6, 6, 6, 6, 6, 6, 6],\n",
              "       [8, 8, 8, 8, 8, 8, 8, 8, 8, 8]])"
            ]
          },
          "metadata": {
            "tags": []
          },
          "execution_count": 93
        }
      ]
    },
    {
      "cell_type": "code",
      "metadata": {
        "id": "977adf61",
        "outputId": "915c6528-983f-4f53-c0c6-387b5a4526e8"
      },
      "source": [
        "arr2d[[6, 4, 2, 7]]"
      ],
      "id": "977adf61",
      "execution_count": null,
      "outputs": [
        {
          "output_type": "execute_result",
          "data": {
            "text/plain": [
              "array([[6, 6, 6, 6, 6, 6, 6, 6, 6, 6],\n",
              "       [4, 4, 4, 4, 4, 4, 4, 4, 4, 4],\n",
              "       [2, 2, 2, 2, 2, 2, 2, 2, 2, 2],\n",
              "       [7, 7, 7, 7, 7, 7, 7, 7, 7, 7]])"
            ]
          },
          "metadata": {
            "tags": []
          },
          "execution_count": 94
        }
      ]
    },
    {
      "cell_type": "markdown",
      "metadata": {
        "id": "83a42498"
      },
      "source": [
        "## `any_arr[[row indices], [column indices]]`"
      ],
      "id": "83a42498"
    },
    {
      "cell_type": "code",
      "metadata": {
        "id": "820ed3d1"
      },
      "source": [
        "jj = np.arange(1,17).reshape(4,4)"
      ],
      "id": "820ed3d1",
      "execution_count": null,
      "outputs": []
    },
    {
      "cell_type": "code",
      "metadata": {
        "id": "fff0d1c6",
        "outputId": "da0fd599-e77d-486c-9cb6-fba541b3620a"
      },
      "source": [
        "jj"
      ],
      "id": "fff0d1c6",
      "execution_count": null,
      "outputs": [
        {
          "output_type": "execute_result",
          "data": {
            "text/plain": [
              "array([[ 1,  2,  3,  4],\n",
              "       [ 5,  6,  7,  8],\n",
              "       [ 9, 10, 11, 12],\n",
              "       [13, 14, 15, 16]])"
            ]
          },
          "metadata": {
            "tags": []
          },
          "execution_count": 96
        }
      ]
    },
    {
      "cell_type": "code",
      "metadata": {
        "id": "ac5b91a3",
        "outputId": "11d08df9-c5ca-4f30-de4c-378f4ac101c8"
      },
      "source": [
        "jj[[1, 2], [0, 3]]"
      ],
      "id": "ac5b91a3",
      "execution_count": null,
      "outputs": [
        {
          "output_type": "execute_result",
          "data": {
            "text/plain": [
              "array([ 5, 12])"
            ]
          },
          "metadata": {
            "tags": []
          },
          "execution_count": 97
        }
      ]
    },
    {
      "cell_type": "code",
      "metadata": {
        "id": "3834d366",
        "outputId": "ea06c47a-ec14-4c87-e38a-8884d47677f2"
      },
      "source": [
        "jj[[0, 2, 3], [0, 1, 3]]"
      ],
      "id": "3834d366",
      "execution_count": null,
      "outputs": [
        {
          "output_type": "execute_result",
          "data": {
            "text/plain": [
              "array([ 1, 10, 16])"
            ]
          },
          "metadata": {
            "tags": []
          },
          "execution_count": 98
        }
      ]
    },
    {
      "cell_type": "code",
      "metadata": {
        "id": "47cf2456",
        "outputId": "4084536d-4d7f-4c6f-c154-7abe29ec4f33"
      },
      "source": [
        "jj"
      ],
      "id": "47cf2456",
      "execution_count": null,
      "outputs": [
        {
          "output_type": "execute_result",
          "data": {
            "text/plain": [
              "array([[ 1,  2,  3,  4],\n",
              "       [ 5,  6,  7,  8],\n",
              "       [ 9, 10, 11, 12],\n",
              "       [13, 14, 15, 16]])"
            ]
          },
          "metadata": {
            "tags": []
          },
          "execution_count": 99
        }
      ]
    },
    {
      "cell_type": "code",
      "metadata": {
        "id": "10571bd5",
        "outputId": "912df88c-7905-4b54-c21e-396b63502c81"
      },
      "source": [
        "jj[1, [1,3]]"
      ],
      "id": "10571bd5",
      "execution_count": null,
      "outputs": [
        {
          "output_type": "execute_result",
          "data": {
            "text/plain": [
              "array([6, 8])"
            ]
          },
          "metadata": {
            "tags": []
          },
          "execution_count": 100
        }
      ]
    },
    {
      "cell_type": "code",
      "metadata": {
        "id": "5fca10da",
        "outputId": "30f7f425-e9ae-4bd3-9945-4583ed46af69"
      },
      "source": [
        "jj[[0, 3], 1]"
      ],
      "id": "5fca10da",
      "execution_count": null,
      "outputs": [
        {
          "output_type": "execute_result",
          "data": {
            "text/plain": [
              "array([ 2, 14])"
            ]
          },
          "metadata": {
            "tags": []
          },
          "execution_count": 101
        }
      ]
    },
    {
      "cell_type": "code",
      "metadata": {
        "id": "3db0bc3e",
        "outputId": "03d94092-c4b6-4400-a0c0-37c595a06c6b"
      },
      "source": [
        "jj[0:, [1,2]]"
      ],
      "id": "3db0bc3e",
      "execution_count": null,
      "outputs": [
        {
          "output_type": "execute_result",
          "data": {
            "text/plain": [
              "array([[ 2,  3],\n",
              "       [ 6,  7],\n",
              "       [10, 11],\n",
              "       [14, 15]])"
            ]
          },
          "metadata": {
            "tags": []
          },
          "execution_count": 102
        }
      ]
    },
    {
      "cell_type": "code",
      "metadata": {
        "id": "88487ada",
        "outputId": "5d389d54-c8a4-43fe-ad70-8dc2dbe883f8"
      },
      "source": [
        "jj[:, [1, 3]]"
      ],
      "id": "88487ada",
      "execution_count": null,
      "outputs": [
        {
          "output_type": "execute_result",
          "data": {
            "text/plain": [
              "array([[ 2,  4],\n",
              "       [ 6,  8],\n",
              "       [10, 12],\n",
              "       [14, 16]])"
            ]
          },
          "metadata": {
            "tags": []
          },
          "execution_count": 103
        }
      ]
    },
    {
      "cell_type": "code",
      "metadata": {
        "id": "567d0c25",
        "outputId": "56a640ed-dcc3-43ef-a066-ee4bf1690d08"
      },
      "source": [
        "jj"
      ],
      "id": "567d0c25",
      "execution_count": null,
      "outputs": [
        {
          "output_type": "execute_result",
          "data": {
            "text/plain": [
              "array([[ 1,  2,  3,  4],\n",
              "       [ 5,  6,  7,  8],\n",
              "       [ 9, 10, 11, 12],\n",
              "       [13, 14, 15, 16]])"
            ]
          },
          "metadata": {
            "tags": []
          },
          "execution_count": 104
        }
      ]
    },
    {
      "cell_type": "code",
      "metadata": {
        "id": "4b38d5e4",
        "outputId": "415142ed-8533-42db-f807-efdf0f02cc71"
      },
      "source": [
        "jj[1:3, [1,2]]"
      ],
      "id": "4b38d5e4",
      "execution_count": null,
      "outputs": [
        {
          "output_type": "execute_result",
          "data": {
            "text/plain": [
              "array([[ 6,  7],\n",
              "       [10, 11]])"
            ]
          },
          "metadata": {
            "tags": []
          },
          "execution_count": 105
        }
      ]
    },
    {
      "cell_type": "code",
      "metadata": {
        "id": "af7e7f4e",
        "outputId": "7dfdbb33-0ba5-43b3-e892-c40f5c7f4484"
      },
      "source": [
        "jj[1:3, 1:3]"
      ],
      "id": "af7e7f4e",
      "execution_count": null,
      "outputs": [
        {
          "output_type": "execute_result",
          "data": {
            "text/plain": [
              "array([[ 6,  7],\n",
              "       [10, 11]])"
            ]
          },
          "metadata": {
            "tags": []
          },
          "execution_count": 106
        }
      ]
    },
    {
      "cell_type": "markdown",
      "metadata": {
        "id": "d58a292f"
      },
      "source": [
        "## Conditional Selection"
      ],
      "id": "d58a292f"
    },
    {
      "cell_type": "code",
      "metadata": {
        "id": "e4284cb9",
        "outputId": "7020c7d4-6bd5-40f2-c4ff-d62318b62020"
      },
      "source": [
        "arr = np.arange(1,11)\n",
        "arr"
      ],
      "id": "e4284cb9",
      "execution_count": null,
      "outputs": [
        {
          "output_type": "execute_result",
          "data": {
            "text/plain": [
              "array([ 1,  2,  3,  4,  5,  6,  7,  8,  9, 10])"
            ]
          },
          "metadata": {
            "tags": []
          },
          "execution_count": 107
        }
      ]
    },
    {
      "cell_type": "code",
      "metadata": {
        "id": "ddcee87a",
        "outputId": "4aeacfe8-e67c-42da-91fc-ebf726c684ca"
      },
      "source": [
        "arr > 4"
      ],
      "id": "ddcee87a",
      "execution_count": null,
      "outputs": [
        {
          "output_type": "execute_result",
          "data": {
            "text/plain": [
              "array([False, False, False, False,  True,  True,  True,  True,  True,\n",
              "        True])"
            ]
          },
          "metadata": {
            "tags": []
          },
          "execution_count": 108
        }
      ]
    },
    {
      "cell_type": "code",
      "metadata": {
        "id": "d0608277",
        "outputId": "04037eca-b0b4-462b-ecef-8258ca88ca49"
      },
      "source": [
        "bool_arr = arr > 4\n",
        "bool_arr"
      ],
      "id": "d0608277",
      "execution_count": null,
      "outputs": [
        {
          "output_type": "execute_result",
          "data": {
            "text/plain": [
              "array([False, False, False, False,  True,  True,  True,  True,  True,\n",
              "        True])"
            ]
          },
          "metadata": {
            "tags": []
          },
          "execution_count": 111
        }
      ]
    },
    {
      "cell_type": "code",
      "metadata": {
        "id": "8ea161bf",
        "outputId": "8fdda159-7032-42d5-bf5c-2778f4d4be92"
      },
      "source": [
        "arr[bool_arr]"
      ],
      "id": "8ea161bf",
      "execution_count": null,
      "outputs": [
        {
          "output_type": "execute_result",
          "data": {
            "text/plain": [
              "array([ 5,  6,  7,  8,  9, 10])"
            ]
          },
          "metadata": {
            "tags": []
          },
          "execution_count": 112
        }
      ]
    },
    {
      "cell_type": "code",
      "metadata": {
        "id": "914aaab0",
        "outputId": "60a9f13f-44c9-4ec4-d70b-3f3571f314bf"
      },
      "source": [
        "arr[arr > 2]"
      ],
      "id": "914aaab0",
      "execution_count": null,
      "outputs": [
        {
          "output_type": "execute_result",
          "data": {
            "text/plain": [
              "array([ 3,  4,  5,  6,  7,  8,  9, 10])"
            ]
          },
          "metadata": {
            "tags": []
          },
          "execution_count": 113
        }
      ]
    },
    {
      "cell_type": "code",
      "metadata": {
        "id": "ada1e773",
        "outputId": "698730b9-b989-4639-c0c5-134c27786c06"
      },
      "source": [
        "x = 2\n",
        "arr[arr > x]"
      ],
      "id": "ada1e773",
      "execution_count": null,
      "outputs": [
        {
          "output_type": "execute_result",
          "data": {
            "text/plain": [
              "array([ 3,  4,  5,  6,  7,  8,  9, 10])"
            ]
          },
          "metadata": {
            "tags": []
          },
          "execution_count": 114
        }
      ]
    },
    {
      "cell_type": "code",
      "metadata": {
        "id": "96eb2e10",
        "outputId": "08bf8f23-b31f-4855-946f-957a30fbdd06"
      },
      "source": [
        "arr != 3"
      ],
      "id": "96eb2e10",
      "execution_count": null,
      "outputs": [
        {
          "output_type": "execute_result",
          "data": {
            "text/plain": [
              "array([ True,  True, False,  True,  True,  True,  True,  True,  True,\n",
              "        True])"
            ]
          },
          "metadata": {
            "tags": []
          },
          "execution_count": 115
        }
      ]
    },
    {
      "cell_type": "code",
      "metadata": {
        "id": "02708a1c",
        "outputId": "a90bf3e1-f162-4ab5-d65f-cbf9d32d4437"
      },
      "source": [
        "arr[(arr != 3) & (arr != 4)]"
      ],
      "id": "02708a1c",
      "execution_count": null,
      "outputs": [
        {
          "output_type": "execute_result",
          "data": {
            "text/plain": [
              "array([ 1,  2,  5,  6,  7,  8,  9, 10])"
            ]
          },
          "metadata": {
            "tags": []
          },
          "execution_count": 116
        }
      ]
    },
    {
      "cell_type": "markdown",
      "metadata": {
        "id": "c65c0192"
      },
      "source": [
        "and -> `&`\n",
        "or -> `|`"
      ],
      "id": "c65c0192"
    },
    {
      "cell_type": "markdown",
      "metadata": {
        "id": "e9527804"
      },
      "source": [
        "## Arithmetic Operations"
      ],
      "id": "e9527804"
    },
    {
      "cell_type": "code",
      "metadata": {
        "id": "5a1c7efa",
        "outputId": "c782a59d-7678-4e55-fdd3-17ddbd287e0f"
      },
      "source": [
        "arr = np.arange(0, 10)\n",
        "arr"
      ],
      "id": "5a1c7efa",
      "execution_count": null,
      "outputs": [
        {
          "output_type": "execute_result",
          "data": {
            "text/plain": [
              "array([0, 1, 2, 3, 4, 5, 6, 7, 8, 9])"
            ]
          },
          "metadata": {
            "tags": []
          },
          "execution_count": 117
        }
      ]
    },
    {
      "cell_type": "code",
      "metadata": {
        "id": "f863aa74",
        "outputId": "e4e595f2-dd42-4095-93d5-aa0b2c72aebc"
      },
      "source": [
        "arr + arr"
      ],
      "id": "f863aa74",
      "execution_count": null,
      "outputs": [
        {
          "output_type": "execute_result",
          "data": {
            "text/plain": [
              "array([ 0,  2,  4,  6,  8, 10, 12, 14, 16, 18])"
            ]
          },
          "metadata": {
            "tags": []
          },
          "execution_count": 118
        }
      ]
    },
    {
      "cell_type": "code",
      "metadata": {
        "id": "b5405415",
        "outputId": "9effb708-042c-472b-9da7-5774b68c7caa"
      },
      "source": [
        "arr * arr"
      ],
      "id": "b5405415",
      "execution_count": null,
      "outputs": [
        {
          "output_type": "execute_result",
          "data": {
            "text/plain": [
              "array([ 0,  1,  4,  9, 16, 25, 36, 49, 64, 81])"
            ]
          },
          "metadata": {
            "tags": []
          },
          "execution_count": 119
        }
      ]
    },
    {
      "cell_type": "code",
      "metadata": {
        "id": "4e0a7c81",
        "outputId": "b8a54fc9-95eb-4e17-9cce-1b009f0610e2"
      },
      "source": [
        "arr - arr"
      ],
      "id": "4e0a7c81",
      "execution_count": null,
      "outputs": [
        {
          "output_type": "execute_result",
          "data": {
            "text/plain": [
              "array([0, 0, 0, 0, 0, 0, 0, 0, 0, 0])"
            ]
          },
          "metadata": {
            "tags": []
          },
          "execution_count": 120
        }
      ]
    },
    {
      "cell_type": "code",
      "metadata": {
        "id": "1dc407ca",
        "outputId": "97c38695-684b-472d-b3a4-309246c506fc"
      },
      "source": [
        "arr ** 2"
      ],
      "id": "1dc407ca",
      "execution_count": null,
      "outputs": [
        {
          "output_type": "execute_result",
          "data": {
            "text/plain": [
              "array([ 0,  1,  4,  9, 16, 25, 36, 49, 64, 81])"
            ]
          },
          "metadata": {
            "tags": []
          },
          "execution_count": 121
        }
      ]
    },
    {
      "cell_type": "code",
      "metadata": {
        "id": "b578ea28",
        "outputId": "64a30aa3-91b1-420d-9c99-1ca816715a14"
      },
      "source": [
        "v = np.array([1,2,3,4,5])\n",
        "v"
      ],
      "id": "b578ea28",
      "execution_count": null,
      "outputs": [
        {
          "output_type": "execute_result",
          "data": {
            "text/plain": [
              "array([1, 2, 3, 4, 5])"
            ]
          },
          "metadata": {
            "tags": []
          },
          "execution_count": 122
        }
      ]
    },
    {
      "cell_type": "code",
      "metadata": {
        "id": "41f8e403",
        "outputId": "46e14fd8-7ec9-46a3-c93d-cd96b213e122"
      },
      "source": [
        "v - 1"
      ],
      "id": "41f8e403",
      "execution_count": null,
      "outputs": [
        {
          "output_type": "execute_result",
          "data": {
            "text/plain": [
              "array([0, 1, 2, 3, 4])"
            ]
          },
          "metadata": {
            "tags": []
          },
          "execution_count": 123
        }
      ]
    },
    {
      "cell_type": "code",
      "metadata": {
        "id": "9d47cf42",
        "outputId": "d0f0ad26-de90-42d9-dc67-3772f69b55dd"
      },
      "source": [
        "v * 5"
      ],
      "id": "9d47cf42",
      "execution_count": null,
      "outputs": [
        {
          "output_type": "execute_result",
          "data": {
            "text/plain": [
              "array([ 5, 10, 15, 20, 25])"
            ]
          },
          "metadata": {
            "tags": []
          },
          "execution_count": 124
        }
      ]
    },
    {
      "cell_type": "code",
      "metadata": {
        "id": "07008821",
        "outputId": "d87ea6ed-913d-4ea5-9694-100c9cbc05d7"
      },
      "source": [
        "v * 5 / 10 - 1"
      ],
      "id": "07008821",
      "execution_count": null,
      "outputs": [
        {
          "output_type": "execute_result",
          "data": {
            "text/plain": [
              "array([-0.5,  0. ,  0.5,  1. ,  1.5])"
            ]
          },
          "metadata": {
            "tags": []
          },
          "execution_count": 125
        }
      ]
    },
    {
      "cell_type": "markdown",
      "metadata": {
        "id": "717aa4fd"
      },
      "source": [
        "## Universal Array Functions"
      ],
      "id": "717aa4fd"
    },
    {
      "cell_type": "code",
      "metadata": {
        "id": "54fea712",
        "outputId": "e5e5172b-e4de-4272-f252-018b3f9b748c"
      },
      "source": [
        "arr"
      ],
      "id": "54fea712",
      "execution_count": null,
      "outputs": [
        {
          "output_type": "execute_result",
          "data": {
            "text/plain": [
              "array([0, 1, 2, 3, 4, 5, 6, 7, 8, 9])"
            ]
          },
          "metadata": {
            "tags": []
          },
          "execution_count": 126
        }
      ]
    },
    {
      "cell_type": "code",
      "metadata": {
        "id": "3544c697",
        "outputId": "6e7eccc9-b1d5-45de-a111-bbaafaf2c633"
      },
      "source": [
        "np.sqrt(arr)"
      ],
      "id": "3544c697",
      "execution_count": null,
      "outputs": [
        {
          "output_type": "execute_result",
          "data": {
            "text/plain": [
              "array([0.        , 1.        , 1.41421356, 1.73205081, 2.        ,\n",
              "       2.23606798, 2.44948974, 2.64575131, 2.82842712, 3.        ])"
            ]
          },
          "metadata": {
            "tags": []
          },
          "execution_count": 127
        }
      ]
    },
    {
      "cell_type": "code",
      "metadata": {
        "id": "9ee143f2",
        "outputId": "14c6073b-dadc-47cb-e496-179d34e589f5"
      },
      "source": [
        "np.exp(arr)"
      ],
      "id": "9ee143f2",
      "execution_count": null,
      "outputs": [
        {
          "output_type": "execute_result",
          "data": {
            "text/plain": [
              "array([1.00000000e+00, 2.71828183e+00, 7.38905610e+00, 2.00855369e+01,\n",
              "       5.45981500e+01, 1.48413159e+02, 4.03428793e+02, 1.09663316e+03,\n",
              "       2.98095799e+03, 8.10308393e+03])"
            ]
          },
          "metadata": {
            "tags": []
          },
          "execution_count": 128
        }
      ]
    },
    {
      "cell_type": "code",
      "metadata": {
        "id": "caea22ba",
        "outputId": "fb7393f8-8615-42d3-dd87-5faa89224d38"
      },
      "source": [
        "np.exp(1)"
      ],
      "id": "caea22ba",
      "execution_count": null,
      "outputs": [
        {
          "output_type": "execute_result",
          "data": {
            "text/plain": [
              "2.718281828459045"
            ]
          },
          "metadata": {
            "tags": []
          },
          "execution_count": 129
        }
      ]
    },
    {
      "cell_type": "code",
      "metadata": {
        "id": "ebc62c2b",
        "outputId": "3397348f-6548-451a-bd03-d2ed78de1e00"
      },
      "source": [
        "np.exp(3)"
      ],
      "id": "ebc62c2b",
      "execution_count": null,
      "outputs": [
        {
          "output_type": "execute_result",
          "data": {
            "text/plain": [
              "20.085536923187668"
            ]
          },
          "metadata": {
            "tags": []
          },
          "execution_count": 130
        }
      ]
    },
    {
      "cell_type": "code",
      "metadata": {
        "id": "06f91b9d",
        "outputId": "ab14a342-c2cd-45ad-8727-4a6fab1cf445"
      },
      "source": [
        "np.max(arr)"
      ],
      "id": "06f91b9d",
      "execution_count": null,
      "outputs": [
        {
          "output_type": "execute_result",
          "data": {
            "text/plain": [
              "9"
            ]
          },
          "metadata": {
            "tags": []
          },
          "execution_count": 131
        }
      ]
    },
    {
      "cell_type": "code",
      "metadata": {
        "id": "238dc39d",
        "outputId": "b13529e7-4b66-4e5d-b438-cb493111a446"
      },
      "source": [
        "np.sin(arr)"
      ],
      "id": "238dc39d",
      "execution_count": null,
      "outputs": [
        {
          "output_type": "execute_result",
          "data": {
            "text/plain": [
              "array([ 0.        ,  0.84147098,  0.90929743,  0.14112001, -0.7568025 ,\n",
              "       -0.95892427, -0.2794155 ,  0.6569866 ,  0.98935825,  0.41211849])"
            ]
          },
          "metadata": {
            "tags": []
          },
          "execution_count": 132
        }
      ]
    },
    {
      "cell_type": "code",
      "metadata": {
        "id": "82e4ce50",
        "outputId": "4ab47ffc-7703-4f2d-e9ce-5d10be3d5760"
      },
      "source": [
        "np.sin(np.pi/2)"
      ],
      "id": "82e4ce50",
      "execution_count": null,
      "outputs": [
        {
          "output_type": "execute_result",
          "data": {
            "text/plain": [
              "1.0"
            ]
          },
          "metadata": {
            "tags": []
          },
          "execution_count": 133
        }
      ]
    },
    {
      "cell_type": "code",
      "metadata": {
        "id": "6d494745",
        "outputId": "cf123d0b-c9ce-4f44-9d7d-ae2a2518b0a6"
      },
      "source": [
        "np.tan(np.pi/4)"
      ],
      "id": "6d494745",
      "execution_count": null,
      "outputs": [
        {
          "output_type": "execute_result",
          "data": {
            "text/plain": [
              "0.9999999999999999"
            ]
          },
          "metadata": {
            "tags": []
          },
          "execution_count": 134
        }
      ]
    },
    {
      "cell_type": "code",
      "metadata": {
        "id": "b2ccfefe",
        "outputId": "bc1c8db4-b27d-4626-aedd-19c739074b10"
      },
      "source": [
        "np.log10(1000)"
      ],
      "id": "b2ccfefe",
      "execution_count": null,
      "outputs": [
        {
          "output_type": "execute_result",
          "data": {
            "text/plain": [
              "3.0"
            ]
          },
          "metadata": {
            "tags": []
          },
          "execution_count": 135
        }
      ]
    },
    {
      "cell_type": "code",
      "metadata": {
        "id": "256643a7",
        "outputId": "d42ac808-9e58-40ee-98a6-ad35c9114828"
      },
      "source": [
        "v"
      ],
      "id": "256643a7",
      "execution_count": null,
      "outputs": [
        {
          "output_type": "execute_result",
          "data": {
            "text/plain": [
              "array([1, 2, 3, 4, 5])"
            ]
          },
          "metadata": {
            "tags": []
          },
          "execution_count": 136
        }
      ]
    },
    {
      "cell_type": "code",
      "metadata": {
        "id": "6665ced5",
        "outputId": "d2c786e1-9c71-4f90-f0e6-58baa91993b4"
      },
      "source": [
        "np.subtract(v, 1)"
      ],
      "id": "6665ced5",
      "execution_count": null,
      "outputs": [
        {
          "output_type": "execute_result",
          "data": {
            "text/plain": [
              "array([0, 1, 2, 3, 4])"
            ]
          },
          "metadata": {
            "tags": []
          },
          "execution_count": 137
        }
      ]
    },
    {
      "cell_type": "code",
      "metadata": {
        "id": "09129720"
      },
      "source": [
        "x1 = np.arange(9.0).reshape(3,3)\n",
        "x2 = np.arange(3.0)"
      ],
      "id": "09129720",
      "execution_count": null,
      "outputs": []
    },
    {
      "cell_type": "code",
      "metadata": {
        "id": "8551fab4",
        "outputId": "d3a5c582-1955-4d74-ccf7-68c37b815bca"
      },
      "source": [
        "x1"
      ],
      "id": "8551fab4",
      "execution_count": null,
      "outputs": [
        {
          "output_type": "execute_result",
          "data": {
            "text/plain": [
              "array([[0., 1., 2.],\n",
              "       [3., 4., 5.],\n",
              "       [6., 7., 8.]])"
            ]
          },
          "metadata": {
            "tags": []
          },
          "execution_count": 139
        }
      ]
    },
    {
      "cell_type": "code",
      "metadata": {
        "id": "1464f1b3",
        "outputId": "2b52a4d8-e29f-4698-a53d-bb0227a9b986"
      },
      "source": [
        "x2"
      ],
      "id": "1464f1b3",
      "execution_count": null,
      "outputs": [
        {
          "output_type": "execute_result",
          "data": {
            "text/plain": [
              "array([0., 1., 2.])"
            ]
          },
          "metadata": {
            "tags": []
          },
          "execution_count": 140
        }
      ]
    },
    {
      "cell_type": "code",
      "metadata": {
        "id": "94564ff2",
        "outputId": "2dc25fc6-2126-4a81-c292-c6c08d712fd6"
      },
      "source": [
        "np.subtract(x1, x2)"
      ],
      "id": "94564ff2",
      "execution_count": null,
      "outputs": [
        {
          "output_type": "execute_result",
          "data": {
            "text/plain": [
              "array([[0., 0., 0.],\n",
              "       [3., 3., 3.],\n",
              "       [6., 6., 6.]])"
            ]
          },
          "metadata": {
            "tags": []
          },
          "execution_count": 141
        }
      ]
    },
    {
      "cell_type": "code",
      "metadata": {
        "id": "642adce3",
        "outputId": "e6345616-25ef-4d8e-981d-f3f2e739b2fb"
      },
      "source": [
        "v"
      ],
      "id": "642adce3",
      "execution_count": null,
      "outputs": [
        {
          "output_type": "execute_result",
          "data": {
            "text/plain": [
              "array([1, 2, 3, 4, 5])"
            ]
          },
          "metadata": {
            "tags": []
          },
          "execution_count": 143
        }
      ]
    },
    {
      "cell_type": "code",
      "metadata": {
        "id": "dc47e812",
        "outputId": "443af438-2c8c-4d69-da7b-12764a931dfe"
      },
      "source": [
        "np.add(v, 1)"
      ],
      "id": "dc47e812",
      "execution_count": null,
      "outputs": [
        {
          "output_type": "execute_result",
          "data": {
            "text/plain": [
              "array([2, 3, 4, 5, 6])"
            ]
          },
          "metadata": {
            "tags": []
          },
          "execution_count": 142
        }
      ]
    },
    {
      "cell_type": "code",
      "metadata": {
        "id": "1d170516",
        "outputId": "d9a000a2-2f24-48a3-9e04-2552704236c4"
      },
      "source": [
        "np.multiply(v, 5)"
      ],
      "id": "1d170516",
      "execution_count": null,
      "outputs": [
        {
          "output_type": "execute_result",
          "data": {
            "text/plain": [
              "array([ 5, 10, 15, 20, 25])"
            ]
          },
          "metadata": {
            "tags": []
          },
          "execution_count": 144
        }
      ]
    },
    {
      "cell_type": "code",
      "metadata": {
        "id": "1961259f",
        "outputId": "35c274e6-df8e-412a-abb6-0de978d6c298"
      },
      "source": [
        "np.divide(v, 2)"
      ],
      "id": "1961259f",
      "execution_count": null,
      "outputs": [
        {
          "output_type": "execute_result",
          "data": {
            "text/plain": [
              "array([0.5, 1. , 1.5, 2. , 2.5])"
            ]
          },
          "metadata": {
            "tags": []
          },
          "execution_count": 145
        }
      ]
    },
    {
      "cell_type": "code",
      "metadata": {
        "id": "570f34d2",
        "outputId": "c75df95d-53d2-42ac-ad2a-56c2bd2bae4a"
      },
      "source": [
        "np.power(v, 2)"
      ],
      "id": "570f34d2",
      "execution_count": null,
      "outputs": [
        {
          "output_type": "execute_result",
          "data": {
            "text/plain": [
              "array([ 1,  4,  9, 16, 25])"
            ]
          },
          "metadata": {
            "tags": []
          },
          "execution_count": 146
        }
      ]
    },
    {
      "cell_type": "code",
      "metadata": {
        "id": "6cbbed64",
        "outputId": "a2cffa05-b0bd-4575-82a4-2186f994259c"
      },
      "source": [
        "v ** 2"
      ],
      "id": "6cbbed64",
      "execution_count": null,
      "outputs": [
        {
          "output_type": "execute_result",
          "data": {
            "text/plain": [
              "array([ 1,  4,  9, 16, 25])"
            ]
          },
          "metadata": {
            "tags": []
          },
          "execution_count": 147
        }
      ]
    },
    {
      "cell_type": "code",
      "metadata": {
        "id": "a1494404",
        "outputId": "99cb8643-64f9-45e9-e8a0-ba855038de2a"
      },
      "source": [
        "v"
      ],
      "id": "a1494404",
      "execution_count": null,
      "outputs": [
        {
          "output_type": "execute_result",
          "data": {
            "text/plain": [
              "array([1, 2, 3, 4, 5])"
            ]
          },
          "metadata": {
            "tags": []
          },
          "execution_count": 148
        }
      ]
    },
    {
      "cell_type": "code",
      "metadata": {
        "id": "1a9cf1b5",
        "outputId": "1053f851-657b-4bae-c6ef-56589b3b7166"
      },
      "source": [
        "np.mod(v, 2) # v % 2"
      ],
      "id": "1a9cf1b5",
      "execution_count": null,
      "outputs": [
        {
          "output_type": "execute_result",
          "data": {
            "text/plain": [
              "array([1, 0, 1, 0, 1])"
            ]
          },
          "metadata": {
            "tags": []
          },
          "execution_count": 149
        }
      ]
    },
    {
      "cell_type": "code",
      "metadata": {
        "id": "d1bff721",
        "outputId": "b7d762d5-32fa-42b9-9fa1-16454b8b4015"
      },
      "source": [
        "v % 2"
      ],
      "id": "d1bff721",
      "execution_count": null,
      "outputs": [
        {
          "output_type": "execute_result",
          "data": {
            "text/plain": [
              "array([1, 0, 1, 0, 1])"
            ]
          },
          "metadata": {
            "tags": []
          },
          "execution_count": 150
        }
      ]
    },
    {
      "cell_type": "code",
      "metadata": {
        "id": "7fb9b1a0"
      },
      "source": [
        ""
      ],
      "id": "7fb9b1a0",
      "execution_count": null,
      "outputs": []
    },
    {
      "cell_type": "code",
      "metadata": {
        "id": "cf5718dd"
      },
      "source": [
        ""
      ],
      "id": "cf5718dd",
      "execution_count": null,
      "outputs": []
    },
    {
      "cell_type": "code",
      "metadata": {
        "id": "01bc6182"
      },
      "source": [
        ""
      ],
      "id": "01bc6182",
      "execution_count": null,
      "outputs": []
    },
    {
      "cell_type": "code",
      "metadata": {
        "id": "4dbd4ac7"
      },
      "source": [
        ""
      ],
      "id": "4dbd4ac7",
      "execution_count": null,
      "outputs": []
    }
  ]
}