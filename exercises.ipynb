{
  "nbformat": 4,
  "nbformat_minor": 0,
  "metadata": {
    "colab": {
      "name": "exercises",
      "provenance": [],
      "authorship_tag": "ABX9TyNk7PRfuQGA3wBQuabFB7+F"
    },
    "kernelspec": {
      "name": "python3",
      "display_name": "Python 3"
    },
    "language_info": {
      "name": "python"
    }
  },
  "cells": [
    {
      "cell_type": "code",
      "metadata": {
        "id": "IfQuRN2qj45g"
      },
      "source": [
        "import numpy as np\n",
        "import pandas as pd"
      ],
      "execution_count": 14,
      "outputs": []
    },
    {
      "cell_type": "code",
      "metadata": {
        "id": "ko0slAYXkZeI"
      },
      "source": [
        "v = np.array([1,2,1,2,3,3,3,3])"
      ],
      "execution_count": 3,
      "outputs": []
    },
    {
      "cell_type": "code",
      "metadata": {
        "colab": {
          "base_uri": "https://localhost:8080/"
        },
        "id": "7wLL4nUzkQnY",
        "outputId": "03390000-ff6c-49f7-85cd-5c879693cb61"
      },
      "source": [
        "np.mean(v)"
      ],
      "execution_count": 4,
      "outputs": [
        {
          "output_type": "execute_result",
          "data": {
            "text/plain": [
              "2.25"
            ]
          },
          "metadata": {
            "tags": []
          },
          "execution_count": 4
        }
      ]
    },
    {
      "cell_type": "code",
      "metadata": {
        "colab": {
          "base_uri": "https://localhost:8080/"
        },
        "id": "GS_zdOe5kQwU",
        "outputId": "9b1f6866-8908-4e2b-d9d2-414619eec872"
      },
      "source": [
        "np.median(v)"
      ],
      "execution_count": 5,
      "outputs": [
        {
          "output_type": "execute_result",
          "data": {
            "text/plain": [
              "2.5"
            ]
          },
          "metadata": {
            "tags": []
          },
          "execution_count": 5
        }
      ]
    },
    {
      "cell_type": "code",
      "metadata": {
        "colab": {
          "base_uri": "https://localhost:8080/"
        },
        "id": "gudy7ZPHkQ7C",
        "outputId": "fea1035b-e6cf-4449-92e4-9f0e86419a9c"
      },
      "source": [
        "v.sum()"
      ],
      "execution_count": 6,
      "outputs": [
        {
          "output_type": "execute_result",
          "data": {
            "text/plain": [
              "18"
            ]
          },
          "metadata": {
            "tags": []
          },
          "execution_count": 6
        }
      ]
    },
    {
      "cell_type": "code",
      "metadata": {
        "colab": {
          "base_uri": "https://localhost:8080/"
        },
        "id": "_X8y54eskRD5",
        "outputId": "396fd70a-0c83-42d8-ea98-08d4b49f30e7"
      },
      "source": [
        "v.min()"
      ],
      "execution_count": 7,
      "outputs": [
        {
          "output_type": "execute_result",
          "data": {
            "text/plain": [
              "1"
            ]
          },
          "metadata": {
            "tags": []
          },
          "execution_count": 7
        }
      ]
    },
    {
      "cell_type": "code",
      "metadata": {
        "colab": {
          "base_uri": "https://localhost:8080/"
        },
        "id": "WwxXkontlRfT",
        "outputId": "d53fa881-5204-41dc-b03d-a36523b89e04"
      },
      "source": [
        "np.var(v)"
      ],
      "execution_count": 8,
      "outputs": [
        {
          "output_type": "execute_result",
          "data": {
            "text/plain": [
              "0.6875"
            ]
          },
          "metadata": {
            "tags": []
          },
          "execution_count": 8
        }
      ]
    },
    {
      "cell_type": "code",
      "metadata": {
        "id": "zEQ2zcvdlc4H"
      },
      "source": [
        "# 3x + y = 9\n",
        "# x + 2y = 8 denklemlerinin çözüm kümesini bulalım\n",
        "\n",
        "a = np.array([[3,1],[1,2]])\n",
        "b = np.array([9,8])"
      ],
      "execution_count": 10,
      "outputs": []
    },
    {
      "cell_type": "code",
      "metadata": {
        "colab": {
          "base_uri": "https://localhost:8080/"
        },
        "id": "S9AqZyfgmpvu",
        "outputId": "9051a04d-2cf2-40a4-c458-fa40b54b2537"
      },
      "source": [
        "a"
      ],
      "execution_count": 11,
      "outputs": [
        {
          "output_type": "execute_result",
          "data": {
            "text/plain": [
              "array([[3, 1],\n",
              "       [1, 2]])"
            ]
          },
          "metadata": {
            "tags": []
          },
          "execution_count": 11
        }
      ]
    },
    {
      "cell_type": "code",
      "metadata": {
        "colab": {
          "base_uri": "https://localhost:8080/"
        },
        "id": "62ePayMImwcu",
        "outputId": "f5e64d3a-212b-419c-a0ee-beb81f1ab529"
      },
      "source": [
        "b"
      ],
      "execution_count": 12,
      "outputs": [
        {
          "output_type": "execute_result",
          "data": {
            "text/plain": [
              "array([9, 8])"
            ]
          },
          "metadata": {
            "tags": []
          },
          "execution_count": 12
        }
      ]
    },
    {
      "cell_type": "code",
      "metadata": {
        "colab": {
          "base_uri": "https://localhost:8080/"
        },
        "id": "1tbDprq_mwfg",
        "outputId": "43650bb5-1158-4b81-f816-595833d49658"
      },
      "source": [
        "np.linalg.solve(a,b)"
      ],
      "execution_count": 13,
      "outputs": [
        {
          "output_type": "execute_result",
          "data": {
            "text/plain": [
              "array([2., 3.])"
            ]
          },
          "metadata": {
            "tags": []
          },
          "execution_count": 13
        }
      ]
    },
    {
      "cell_type": "code",
      "metadata": {
        "colab": {
          "base_uri": "https://localhost:8080/"
        },
        "id": "YSpJU54VnD42",
        "outputId": "6b375b05-1e4c-412b-8ef3-9c5d6039bc52"
      },
      "source": [
        "pd.Series([10,88,3,5,4])"
      ],
      "execution_count": 15,
      "outputs": [
        {
          "output_type": "execute_result",
          "data": {
            "text/plain": [
              "0    10\n",
              "1    88\n",
              "2     3\n",
              "3     5\n",
              "4     4\n",
              "dtype: int64"
            ]
          },
          "metadata": {
            "tags": []
          },
          "execution_count": 15
        }
      ]
    },
    {
      "cell_type": "code",
      "metadata": {
        "id": "sc7oOSump_r_"
      },
      "source": [
        "ser = pd.Series([10,88,3,5,4])"
      ],
      "execution_count": 16,
      "outputs": []
    },
    {
      "cell_type": "code",
      "metadata": {
        "colab": {
          "base_uri": "https://localhost:8080/"
        },
        "id": "pmA2tm1yp_zZ",
        "outputId": "b1094f2d-7524-4fdf-a140-4ee7269bb2de"
      },
      "source": [
        "type(ser)"
      ],
      "execution_count": 18,
      "outputs": [
        {
          "output_type": "execute_result",
          "data": {
            "text/plain": [
              "pandas.core.series.Series"
            ]
          },
          "metadata": {
            "tags": []
          },
          "execution_count": 18
        }
      ]
    },
    {
      "cell_type": "code",
      "metadata": {
        "colab": {
          "base_uri": "https://localhost:8080/"
        },
        "id": "WkccHXo5p81_",
        "outputId": "d787e383-31b6-40bc-d0a7-6c9284a050f3"
      },
      "source": [
        "ser.dtype"
      ],
      "execution_count": 19,
      "outputs": [
        {
          "output_type": "execute_result",
          "data": {
            "text/plain": [
              "dtype('int64')"
            ]
          },
          "metadata": {
            "tags": []
          },
          "execution_count": 19
        }
      ]
    },
    {
      "cell_type": "code",
      "metadata": {
        "colab": {
          "base_uri": "https://localhost:8080/"
        },
        "id": "uCahRj0qp-D5",
        "outputId": "c930c9ae-c095-43b4-d197-b9c811c435fe"
      },
      "source": [
        "ser.size"
      ],
      "execution_count": 20,
      "outputs": [
        {
          "output_type": "execute_result",
          "data": {
            "text/plain": [
              "5"
            ]
          },
          "metadata": {
            "tags": []
          },
          "execution_count": 20
        }
      ]
    },
    {
      "cell_type": "code",
      "metadata": {
        "colab": {
          "base_uri": "https://localhost:8080/"
        },
        "id": "Rfl3O8gCp-f-",
        "outputId": "9723094a-8955-4228-9753-78ac51f77316"
      },
      "source": [
        "ser.ndim"
      ],
      "execution_count": 21,
      "outputs": [
        {
          "output_type": "execute_result",
          "data": {
            "text/plain": [
              "1"
            ]
          },
          "metadata": {
            "tags": []
          },
          "execution_count": 21
        }
      ]
    },
    {
      "cell_type": "code",
      "metadata": {
        "colab": {
          "base_uri": "https://localhost:8080/"
        },
        "id": "djunzuPVp-nM",
        "outputId": "f4905de1-cb5c-4d8e-a451-0b7f7c772194"
      },
      "source": [
        "ser.values"
      ],
      "execution_count": 22,
      "outputs": [
        {
          "output_type": "execute_result",
          "data": {
            "text/plain": [
              "array([10, 88,  3,  5,  4])"
            ]
          },
          "metadata": {
            "tags": []
          },
          "execution_count": 22
        }
      ]
    },
    {
      "cell_type": "code",
      "metadata": {
        "colab": {
          "base_uri": "https://localhost:8080/"
        },
        "id": "Js-yasVAp_E3",
        "outputId": "c1f6f70d-4744-4dc3-f80f-c59e9c379b61"
      },
      "source": [
        "type(ser.values)"
      ],
      "execution_count": 23,
      "outputs": [
        {
          "output_type": "execute_result",
          "data": {
            "text/plain": [
              "numpy.ndarray"
            ]
          },
          "metadata": {
            "tags": []
          },
          "execution_count": 23
        }
      ]
    },
    {
      "cell_type": "code",
      "metadata": {
        "colab": {
          "base_uri": "https://localhost:8080/"
        },
        "id": "HjHp2UpJqWNB",
        "outputId": "802ea976-a701-4874-8645-55ffdef5e363"
      },
      "source": [
        "for i in ser.values:\n",
        "  print(i)"
      ],
      "execution_count": 25,
      "outputs": [
        {
          "output_type": "stream",
          "text": [
            "10\n",
            "88\n",
            "3\n",
            "5\n",
            "4\n"
          ],
          "name": "stdout"
        }
      ]
    },
    {
      "cell_type": "code",
      "metadata": {
        "colab": {
          "base_uri": "https://localhost:8080/"
        },
        "id": "gClXX9EnqaK4",
        "outputId": "ac528cda-e42c-4e30-be60-cd716c7fbfef"
      },
      "source": [
        "[i for i in ser.values]"
      ],
      "execution_count": 26,
      "outputs": [
        {
          "output_type": "execute_result",
          "data": {
            "text/plain": [
              "[10, 88, 3, 5, 4]"
            ]
          },
          "metadata": {
            "tags": []
          },
          "execution_count": 26
        }
      ]
    },
    {
      "cell_type": "code",
      "metadata": {
        "colab": {
          "base_uri": "https://localhost:8080/"
        },
        "id": "mquJZJkerLHH",
        "outputId": "63829a7e-a878-4072-9f19-5fb7d8352964"
      },
      "source": [
        "ser.hasnans"
      ],
      "execution_count": 27,
      "outputs": [
        {
          "output_type": "execute_result",
          "data": {
            "text/plain": [
              "False"
            ]
          },
          "metadata": {
            "tags": []
          },
          "execution_count": 27
        }
      ]
    },
    {
      "cell_type": "code",
      "metadata": {
        "colab": {
          "base_uri": "https://localhost:8080/"
        },
        "id": "e1qjWP8ZrPMi",
        "outputId": "afe206f4-cb19-4a75-9025-576b56748412"
      },
      "source": [
        "ser.head(3)"
      ],
      "execution_count": 29,
      "outputs": [
        {
          "output_type": "execute_result",
          "data": {
            "text/plain": [
              "0    10\n",
              "1    88\n",
              "2     3\n",
              "dtype: int64"
            ]
          },
          "metadata": {
            "tags": []
          },
          "execution_count": 29
        }
      ]
    },
    {
      "cell_type": "code",
      "metadata": {
        "colab": {
          "base_uri": "https://localhost:8080/"
        },
        "id": "dTkuCSfyrRnl",
        "outputId": "eccf269d-c919-40fe-9606-9cab0f91ce92"
      },
      "source": [
        "pd.Series([i for i in \"abdullah\"])"
      ],
      "execution_count": 30,
      "outputs": [
        {
          "output_type": "execute_result",
          "data": {
            "text/plain": [
              "0    a\n",
              "1    b\n",
              "2    d\n",
              "3    u\n",
              "4    l\n",
              "5    l\n",
              "6    a\n",
              "7    h\n",
              "dtype: object"
            ]
          },
          "metadata": {
            "tags": []
          },
          "execution_count": 30
        }
      ]
    },
    {
      "cell_type": "code",
      "metadata": {
        "id": "X0cBmHYcrbL2"
      },
      "source": [
        "labels = [\"a\",\"b\",\"c\"]\n",
        "my_list =[10,20,30]\n",
        "arr = np.array([10,20,30])\n",
        "d = {\"a\": 10 , \"b\": 25, \"c\": 35}"
      ],
      "execution_count": 33,
      "outputs": []
    },
    {
      "cell_type": "code",
      "metadata": {
        "colab": {
          "base_uri": "https://localhost:8080/"
        },
        "id": "1ShUT24Ur2mw",
        "outputId": "1250e366-4a7f-4fab-a685-c0c9905be7d8"
      },
      "source": [
        "pd.Series(data = my_list)"
      ],
      "execution_count": 35,
      "outputs": [
        {
          "output_type": "execute_result",
          "data": {
            "text/plain": [
              "0    10\n",
              "1    20\n",
              "2    30\n",
              "dtype: int64"
            ]
          },
          "metadata": {
            "tags": []
          },
          "execution_count": 35
        }
      ]
    },
    {
      "cell_type": "code",
      "metadata": {
        "colab": {
          "base_uri": "https://localhost:8080/"
        },
        "id": "LmrXXJ2bsDvr",
        "outputId": "cf78aa26-9c44-4512-82ad-e73d1ea4095c"
      },
      "source": [
        "pd.Series(data = my_list, index= labels)"
      ],
      "execution_count": 36,
      "outputs": [
        {
          "output_type": "execute_result",
          "data": {
            "text/plain": [
              "a    10\n",
              "b    20\n",
              "c    30\n",
              "dtype: int64"
            ]
          },
          "metadata": {
            "tags": []
          },
          "execution_count": 36
        }
      ]
    },
    {
      "cell_type": "code",
      "metadata": {
        "colab": {
          "base_uri": "https://localhost:8080/"
        },
        "id": "cxUy7axnuPpC",
        "outputId": "e512f322-9b40-4c47-c7e0-348344f1d263"
      },
      "source": [
        "pd.Series(my_list,labels)"
      ],
      "execution_count": 37,
      "outputs": [
        {
          "output_type": "execute_result",
          "data": {
            "text/plain": [
              "a    10\n",
              "b    20\n",
              "c    30\n",
              "dtype: int64"
            ]
          },
          "metadata": {
            "tags": []
          },
          "execution_count": 37
        }
      ]
    },
    {
      "cell_type": "code",
      "metadata": {
        "id": "bVFs9kQluRhW"
      },
      "source": [
        "# using numpy arrays"
      ],
      "execution_count": null,
      "outputs": []
    },
    {
      "cell_type": "code",
      "metadata": {
        "colab": {
          "base_uri": "https://localhost:8080/"
        },
        "id": "Uv1AFIN3vjYT",
        "outputId": "15743597-6781-408d-8504-1e6df6598995"
      },
      "source": [
        "arr"
      ],
      "execution_count": 39,
      "outputs": [
        {
          "output_type": "execute_result",
          "data": {
            "text/plain": [
              "array([10, 20, 30])"
            ]
          },
          "metadata": {
            "tags": []
          },
          "execution_count": 39
        }
      ]
    },
    {
      "cell_type": "code",
      "metadata": {
        "colab": {
          "base_uri": "https://localhost:8080/"
        },
        "id": "GnpTz23fuRrE",
        "outputId": "055009ee-cbc4-4088-9a2e-18f0bf3f2469"
      },
      "source": [
        "pd.Series(arr)"
      ],
      "execution_count": 38,
      "outputs": [
        {
          "output_type": "execute_result",
          "data": {
            "text/plain": [
              "0    10\n",
              "1    20\n",
              "2    30\n",
              "dtype: int64"
            ]
          },
          "metadata": {
            "tags": []
          },
          "execution_count": 38
        }
      ]
    },
    {
      "cell_type": "code",
      "metadata": {
        "colab": {
          "base_uri": "https://localhost:8080/"
        },
        "id": "1jzfm6_muRuM",
        "outputId": "0ddf341c-1221-4a72-ae8f-26a210ef5739"
      },
      "source": [
        "pd.Series(arr, labels)"
      ],
      "execution_count": 40,
      "outputs": [
        {
          "output_type": "execute_result",
          "data": {
            "text/plain": [
              "a    10\n",
              "b    20\n",
              "c    30\n",
              "dtype: int64"
            ]
          },
          "metadata": {
            "tags": []
          },
          "execution_count": 40
        }
      ]
    },
    {
      "cell_type": "code",
      "metadata": {
        "id": "fE9byDGavrNk"
      },
      "source": [
        "# using dict"
      ],
      "execution_count": null,
      "outputs": []
    },
    {
      "cell_type": "code",
      "metadata": {
        "colab": {
          "base_uri": "https://localhost:8080/"
        },
        "id": "M8Se7t48v3CL",
        "outputId": "297ac6bd-8858-4347-c488-23c26754b28a"
      },
      "source": [
        "d"
      ],
      "execution_count": 41,
      "outputs": [
        {
          "output_type": "execute_result",
          "data": {
            "text/plain": [
              "{'a': 10, 'b': 25, 'c': 35}"
            ]
          },
          "metadata": {
            "tags": []
          },
          "execution_count": 41
        }
      ]
    },
    {
      "cell_type": "code",
      "metadata": {
        "colab": {
          "base_uri": "https://localhost:8080/"
        },
        "id": "VgZxZBdmv39r",
        "outputId": "8401af6e-96c4-45c1-80f7-be466fd0b076"
      },
      "source": [
        "pd.Series(d)"
      ],
      "execution_count": 42,
      "outputs": [
        {
          "output_type": "execute_result",
          "data": {
            "text/plain": [
              "a    10\n",
              "b    25\n",
              "c    35\n",
              "dtype: int64"
            ]
          },
          "metadata": {
            "tags": []
          },
          "execution_count": 42
        }
      ]
    },
    {
      "cell_type": "code",
      "metadata": {
        "colab": {
          "base_uri": "https://localhost:8080/"
        },
        "id": "aI1C5_rNv6Cx",
        "outputId": "f8293546-2168-4834-ca9d-36abf08d1b82"
      },
      "source": [
        "pd.Series(d, [\"w\",\"c\",\"z\"])"
      ],
      "execution_count": 43,
      "outputs": [
        {
          "output_type": "execute_result",
          "data": {
            "text/plain": [
              "w     NaN\n",
              "c    35.0\n",
              "z     NaN\n",
              "dtype: float64"
            ]
          },
          "metadata": {
            "tags": []
          },
          "execution_count": 43
        }
      ]
    },
    {
      "cell_type": "code",
      "metadata": {
        "id": "GwbcN-HWv656"
      },
      "source": [
        "a = np.nan"
      ],
      "execution_count": 44,
      "outputs": []
    },
    {
      "cell_type": "code",
      "metadata": {
        "colab": {
          "base_uri": "https://localhost:8080/"
        },
        "id": "MZCVpNrjv69Y",
        "outputId": "35ce2b20-fe59-4389-fb3d-b53301f46b5c"
      },
      "source": [
        "a"
      ],
      "execution_count": 45,
      "outputs": [
        {
          "output_type": "execute_result",
          "data": {
            "text/plain": [
              "nan"
            ]
          },
          "metadata": {
            "tags": []
          },
          "execution_count": 45
        }
      ]
    },
    {
      "cell_type": "code",
      "metadata": {
        "id": "9KcApOrlv7BP"
      },
      "source": [
        "# data series"
      ],
      "execution_count": null,
      "outputs": []
    },
    {
      "cell_type": "code",
      "metadata": {
        "colab": {
          "base_uri": "https://localhost:8080/"
        },
        "id": "KiKFOWITw_9u",
        "outputId": "f48b81ab-226d-4e40-e846-66df22728b8b"
      },
      "source": [
        "labels "
      ],
      "execution_count": 46,
      "outputs": [
        {
          "output_type": "execute_result",
          "data": {
            "text/plain": [
              "['a', 'b', 'c']"
            ]
          },
          "metadata": {
            "tags": []
          },
          "execution_count": 46
        }
      ]
    },
    {
      "cell_type": "code",
      "metadata": {
        "colab": {
          "base_uri": "https://localhost:8080/"
        },
        "id": "tY_xUcZsxCDK",
        "outputId": "54fa8b36-0dbb-4a24-ad3d-d30c71c563fb"
      },
      "source": [
        "pd.Series(data = labels)"
      ],
      "execution_count": 47,
      "outputs": [
        {
          "output_type": "execute_result",
          "data": {
            "text/plain": [
              "0    a\n",
              "1    b\n",
              "2    c\n",
              "dtype: object"
            ]
          },
          "metadata": {
            "tags": []
          },
          "execution_count": 47
        }
      ]
    },
    {
      "cell_type": "code",
      "metadata": {
        "colab": {
          "base_uri": "https://localhost:8080/"
        },
        "id": "T-Gdf0pFxGQe",
        "outputId": "cbfeed92-6fd1-4a0a-adab-e61dbe7c0004"
      },
      "source": [
        "pd.Series([sum,print,len])"
      ],
      "execution_count": 48,
      "outputs": [
        {
          "output_type": "execute_result",
          "data": {
            "text/plain": [
              "0      <built-in function sum>\n",
              "1    <built-in function print>\n",
              "2      <built-in function len>\n",
              "dtype: object"
            ]
          },
          "metadata": {
            "tags": []
          },
          "execution_count": 48
        }
      ]
    },
    {
      "cell_type": "code",
      "metadata": {
        "colab": {
          "base_uri": "https://localhost:8080/"
        },
        "id": "B65Pn6aWxMCg",
        "outputId": "9e68781f-89f7-4226-9240-1e3152f8df31"
      },
      "source": [
        "mix_data = [\"a\",1 , True]\n",
        "pd.Series(mix_data) "
      ],
      "execution_count": 49,
      "outputs": [
        {
          "output_type": "execute_result",
          "data": {
            "text/plain": [
              "0       a\n",
              "1       1\n",
              "2    True\n",
              "dtype: object"
            ]
          },
          "metadata": {
            "tags": []
          },
          "execution_count": 49
        }
      ]
    },
    {
      "cell_type": "code",
      "metadata": {
        "colab": {
          "base_uri": "https://localhost:8080/"
        },
        "id": "MuP-aROrxhOb",
        "outputId": "f7f5120f-8d92-4633-ce0a-a2027a9a7534"
      },
      "source": [
        "s = pd.Series([\"p\",\"q\",\"e\",\"s\"],index=[3,5,7,9])\n",
        "s.sort_index()"
      ],
      "execution_count": 50,
      "outputs": [
        {
          "output_type": "execute_result",
          "data": {
            "text/plain": [
              "3    p\n",
              "5    q\n",
              "7    e\n",
              "9    s\n",
              "dtype: object"
            ]
          },
          "metadata": {
            "tags": []
          },
          "execution_count": 50
        }
      ]
    },
    {
      "cell_type": "code",
      "metadata": {
        "colab": {
          "base_uri": "https://localhost:8080/"
        },
        "id": "WB9r-irz4pAq",
        "outputId": "fe324940-ea61-4e9b-cff5-b45499fbd47d"
      },
      "source": [
        "s.sort_index(ascending=False) # default değeri true'dur , false yapılırsa büyükten kucuge sıralar"
      ],
      "execution_count": 52,
      "outputs": [
        {
          "output_type": "execute_result",
          "data": {
            "text/plain": [
              "9    s\n",
              "7    e\n",
              "5    q\n",
              "3    p\n",
              "dtype: object"
            ]
          },
          "metadata": {
            "tags": []
          },
          "execution_count": 52
        }
      ]
    },
    {
      "cell_type": "code",
      "metadata": {
        "colab": {
          "base_uri": "https://localhost:8080/"
        },
        "id": "OsfwVRyz4tBx",
        "outputId": "61048781-31d0-4f1d-f454-fc4b2b24eab7"
      },
      "source": [
        "s.sort_index(ascending=True)"
      ],
      "execution_count": 53,
      "outputs": [
        {
          "output_type": "execute_result",
          "data": {
            "text/plain": [
              "3    p\n",
              "5    q\n",
              "7    e\n",
              "9    s\n",
              "dtype: object"
            ]
          },
          "metadata": {
            "tags": []
          },
          "execution_count": 53
        }
      ]
    },
    {
      "cell_type": "code",
      "metadata": {
        "colab": {
          "base_uri": "https://localhost:8080/"
        },
        "id": "nNBinkDw466C",
        "outputId": "b723cb20-f451-4039-e470-6d72aa1386d8"
      },
      "source": [
        "ser.sort_index()"
      ],
      "execution_count": 54,
      "outputs": [
        {
          "output_type": "execute_result",
          "data": {
            "text/plain": [
              "0    10\n",
              "1    88\n",
              "2     3\n",
              "3     5\n",
              "4     4\n",
              "dtype: int64"
            ]
          },
          "metadata": {
            "tags": []
          },
          "execution_count": 54
        }
      ]
    },
    {
      "cell_type": "code",
      "metadata": {
        "id": "cM8J6LpD5H5s"
      },
      "source": [
        "s = pd.Series([\"q\",\"p\",\"r\",\"s\"], index=[2,3,6,np.nan])"
      ],
      "execution_count": 55,
      "outputs": []
    },
    {
      "cell_type": "code",
      "metadata": {
        "colab": {
          "base_uri": "https://localhost:8080/"
        },
        "id": "_hdan2CI5hSo",
        "outputId": "ebeb60fa-08f1-43f7-ead7-079d2d334c95"
      },
      "source": [
        "s.sort_index(na_position=\"first\") # non değerler normalde sonda yazdırılır, first yazarak başa alabiliriz\n"
      ],
      "execution_count": 56,
      "outputs": [
        {
          "output_type": "execute_result",
          "data": {
            "text/plain": [
              "NaN    s\n",
              "2.0    q\n",
              "3.0    p\n",
              "6.0    r\n",
              "dtype: object"
            ]
          },
          "metadata": {
            "tags": []
          },
          "execution_count": 56
        }
      ]
    },
    {
      "cell_type": "code",
      "metadata": {
        "id": "Po38x07Z5lSG"
      },
      "source": [
        "s = pd.Series([np.nan,2,3,6,9,8])"
      ],
      "execution_count": 57,
      "outputs": []
    },
    {
      "cell_type": "code",
      "metadata": {
        "colab": {
          "base_uri": "https://localhost:8080/"
        },
        "id": "2ofLltIj6B38",
        "outputId": "7cf51b9a-2ef5-4638-85ee-1672864e0e7a"
      },
      "source": [
        "s"
      ],
      "execution_count": 58,
      "outputs": [
        {
          "output_type": "execute_result",
          "data": {
            "text/plain": [
              "0    NaN\n",
              "1    2.0\n",
              "2    3.0\n",
              "3    6.0\n",
              "4    9.0\n",
              "5    8.0\n",
              "dtype: float64"
            ]
          },
          "metadata": {
            "tags": []
          },
          "execution_count": 58
        }
      ]
    },
    {
      "cell_type": "code",
      "metadata": {
        "colab": {
          "base_uri": "https://localhost:8080/"
        },
        "id": "JYszofP86CQj",
        "outputId": "99c523f2-0572-493d-d127-c525b5ed06a4"
      },
      "source": [
        "s.sort_values(ascending=True) # değerlerden none olanı en sonda döndürür"
      ],
      "execution_count": 59,
      "outputs": [
        {
          "output_type": "execute_result",
          "data": {
            "text/plain": [
              "1    2.0\n",
              "2    3.0\n",
              "3    6.0\n",
              "5    8.0\n",
              "4    9.0\n",
              "0    NaN\n",
              "dtype: float64"
            ]
          },
          "metadata": {
            "tags": []
          },
          "execution_count": 59
        }
      ]
    },
    {
      "cell_type": "code",
      "metadata": {
        "colab": {
          "base_uri": "https://localhost:8080/"
        },
        "id": "6m3SZem26Y52",
        "outputId": "0e1eda4c-426d-44c3-eae3-ea635e831937"
      },
      "source": [
        "s.isin([2]) # isin hangi satırlarda olduğunu bulabiliriz\n"
      ],
      "execution_count": 62,
      "outputs": [
        {
          "output_type": "execute_result",
          "data": {
            "text/plain": [
              "0    False\n",
              "1     True\n",
              "2    False\n",
              "3    False\n",
              "4    False\n",
              "5    False\n",
              "dtype: bool"
            ]
          },
          "metadata": {
            "tags": []
          },
          "execution_count": 62
        }
      ]
    },
    {
      "cell_type": "code",
      "metadata": {
        "colab": {
          "base_uri": "https://localhost:8080/"
        },
        "id": "3ZEsUkyE7Eih",
        "outputId": "b4587a96-d394-40e1-e5af-68340c3d7979"
      },
      "source": [
        "s.isin([\"a\"])"
      ],
      "execution_count": 61,
      "outputs": [
        {
          "output_type": "execute_result",
          "data": {
            "text/plain": [
              "0    False\n",
              "1    False\n",
              "2    False\n",
              "3    False\n",
              "4    False\n",
              "5    False\n",
              "dtype: bool"
            ]
          },
          "metadata": {
            "tags": []
          },
          "execution_count": 61
        }
      ]
    },
    {
      "cell_type": "code",
      "metadata": {
        "id": "uK6wVc2V7Hni"
      },
      "source": [
        "# indexleme"
      ],
      "execution_count": 63,
      "outputs": []
    },
    {
      "cell_type": "code",
      "metadata": {
        "id": "ZA2OCK5T7Zi2"
      },
      "source": [
        "ser1 = pd.Series([1,2,3,4],index=[\"USA\",\"GERMANY\",\"CANADA\",\"JAPAN\"])"
      ],
      "execution_count": 64,
      "outputs": []
    },
    {
      "cell_type": "code",
      "metadata": {
        "colab": {
          "base_uri": "https://localhost:8080/"
        },
        "id": "OvIXQT007nRF",
        "outputId": "8fe4137f-97f6-4b4b-a6b6-8b22e7273d94"
      },
      "source": [
        "ser1"
      ],
      "execution_count": 65,
      "outputs": [
        {
          "output_type": "execute_result",
          "data": {
            "text/plain": [
              "USA        1\n",
              "GERMANY    2\n",
              "CANADA     3\n",
              "JAPAN      4\n",
              "dtype: int64"
            ]
          },
          "metadata": {
            "tags": []
          },
          "execution_count": 65
        }
      ]
    },
    {
      "cell_type": "code",
      "metadata": {
        "colab": {
          "base_uri": "https://localhost:8080/"
        },
        "id": "TYL5MHCd7oQN",
        "outputId": "55a25879-0371-4994-b836-2d19e683df21"
      },
      "source": [
        "ser1[\"USA\"]"
      ],
      "execution_count": 66,
      "outputs": [
        {
          "output_type": "execute_result",
          "data": {
            "text/plain": [
              "1"
            ]
          },
          "metadata": {
            "tags": []
          },
          "execution_count": 66
        }
      ]
    },
    {
      "cell_type": "code",
      "metadata": {
        "colab": {
          "base_uri": "https://localhost:8080/"
        },
        "id": "fdn3HC5d7ykA",
        "outputId": "cbd7cc08-96c1-47cf-9bd8-6cbe7524b5d7"
      },
      "source": [
        "ser1[0]"
      ],
      "execution_count": 67,
      "outputs": [
        {
          "output_type": "execute_result",
          "data": {
            "text/plain": [
              "1"
            ]
          },
          "metadata": {
            "tags": []
          },
          "execution_count": 67
        }
      ]
    },
    {
      "cell_type": "code",
      "metadata": {
        "colab": {
          "base_uri": "https://localhost:8080/"
        },
        "id": "xNf9dfN5730R",
        "outputId": "5c8ca1b3-4fb6-4c05-b5a7-40ed5348325f"
      },
      "source": [
        "labels"
      ],
      "execution_count": 68,
      "outputs": [
        {
          "output_type": "execute_result",
          "data": {
            "text/plain": [
              "['a', 'b', 'c']"
            ]
          },
          "metadata": {
            "tags": []
          },
          "execution_count": 68
        }
      ]
    },
    {
      "cell_type": "code",
      "metadata": {
        "id": "VqnNQZeA8Abc"
      },
      "source": [
        "ser3 = pd.Series(data = labels)"
      ],
      "execution_count": 69,
      "outputs": []
    },
    {
      "cell_type": "code",
      "metadata": {
        "colab": {
          "base_uri": "https://localhost:8080/"
        },
        "id": "kddE5-DM8FHq",
        "outputId": "12b79587-2a71-4991-d301-54c9289e9753"
      },
      "source": [
        "ser3"
      ],
      "execution_count": 70,
      "outputs": [
        {
          "output_type": "execute_result",
          "data": {
            "text/plain": [
              "0    a\n",
              "1    b\n",
              "2    c\n",
              "dtype: object"
            ]
          },
          "metadata": {
            "tags": []
          },
          "execution_count": 70
        }
      ]
    },
    {
      "cell_type": "code",
      "metadata": {
        "id": "N2Hcf8yz8GKW"
      },
      "source": [
        "a = np.array([1,2,35,6583,5])\n",
        "panser = pd.Series(a)"
      ],
      "execution_count": 71,
      "outputs": []
    },
    {
      "cell_type": "code",
      "metadata": {
        "colab": {
          "base_uri": "https://localhost:8080/"
        },
        "id": "10GmA8aY8h-y",
        "outputId": "7a7a50f0-ead8-4c54-e457-915b26184d00"
      },
      "source": [
        "panser"
      ],
      "execution_count": 72,
      "outputs": [
        {
          "output_type": "execute_result",
          "data": {
            "text/plain": [
              "0       1\n",
              "1       2\n",
              "2      35\n",
              "3    6583\n",
              "4       5\n",
              "dtype: int64"
            ]
          },
          "metadata": {
            "tags": []
          },
          "execution_count": 72
        }
      ]
    },
    {
      "cell_type": "code",
      "metadata": {
        "colab": {
          "base_uri": "https://localhost:8080/"
        },
        "id": "09XKmvI48ix4",
        "outputId": "88dab1d3-8f69-4274-d253-ef1c776c0a2c"
      },
      "source": [
        "panser[0]"
      ],
      "execution_count": 73,
      "outputs": [
        {
          "output_type": "execute_result",
          "data": {
            "text/plain": [
              "1"
            ]
          },
          "metadata": {
            "tags": []
          },
          "execution_count": 73
        }
      ]
    },
    {
      "cell_type": "code",
      "metadata": {
        "colab": {
          "base_uri": "https://localhost:8080/"
        },
        "id": "Er3az9M68rUb",
        "outputId": "480f73e1-53b5-4ab9-a902-f71494692a01"
      },
      "source": [
        "panser[1:3]"
      ],
      "execution_count": 74,
      "outputs": [
        {
          "output_type": "execute_result",
          "data": {
            "text/plain": [
              "1     2\n",
              "2    35\n",
              "dtype: int64"
            ]
          },
          "metadata": {
            "tags": []
          },
          "execution_count": 74
        }
      ]
    },
    {
      "cell_type": "code",
      "metadata": {
        "id": "SpmIcz638uro"
      },
      "source": [
        "panser = pd.Series([121,200,150,99], index = [\"ali\",\"veli\",\"ayşe\",\"nur\"])"
      ],
      "execution_count": 75,
      "outputs": []
    },
    {
      "cell_type": "code",
      "metadata": {
        "colab": {
          "base_uri": "https://localhost:8080/"
        },
        "id": "Dsx9d28-8_jU",
        "outputId": "731285a2-83ed-41f2-ccad-bde9482abc45"
      },
      "source": [
        "panser"
      ],
      "execution_count": 76,
      "outputs": [
        {
          "output_type": "execute_result",
          "data": {
            "text/plain": [
              "ali     121\n",
              "veli    200\n",
              "ayşe    150\n",
              "nur      99\n",
              "dtype: int64"
            ]
          },
          "metadata": {
            "tags": []
          },
          "execution_count": 76
        }
      ]
    },
    {
      "cell_type": "code",
      "metadata": {
        "colab": {
          "base_uri": "https://localhost:8080/"
        },
        "id": "_4k1luCN9AK8",
        "outputId": "eccd123f-1ba2-4cbe-d40a-088d3a65d322"
      },
      "source": [
        "panser[\"ali\"]"
      ],
      "execution_count": 77,
      "outputs": [
        {
          "output_type": "execute_result",
          "data": {
            "text/plain": [
              "121"
            ]
          },
          "metadata": {
            "tags": []
          },
          "execution_count": 77
        }
      ]
    },
    {
      "cell_type": "code",
      "metadata": {
        "colab": {
          "base_uri": "https://localhost:8080/"
        },
        "id": "9BLhnvrM9Duj",
        "outputId": "88442440-2195-45da-e832-7950acfd341d"
      },
      "source": [
        "panser[[\"veli\",\"nur\"]]"
      ],
      "execution_count": 79,
      "outputs": [
        {
          "output_type": "execute_result",
          "data": {
            "text/plain": [
              "veli    200\n",
              "nur      99\n",
              "dtype: int64"
            ]
          },
          "metadata": {
            "tags": []
          },
          "execution_count": 79
        }
      ]
    },
    {
      "cell_type": "code",
      "metadata": {
        "colab": {
          "base_uri": "https://localhost:8080/"
        },
        "id": "KVFdzrp29JgT",
        "outputId": "fc9118f2-6138-4070-a18c-0e8f12ad7566"
      },
      "source": [
        "panser[\"veli\" : \"nur\"] # index isimleri üzerinden gidilirse son indexi de alır\n"
      ],
      "execution_count": 82,
      "outputs": [
        {
          "output_type": "execute_result",
          "data": {
            "text/plain": [
              "veli    200\n",
              "ayşe    150\n",
              "nur      99\n",
              "dtype: int64"
            ]
          },
          "metadata": {
            "tags": []
          },
          "execution_count": 82
        }
      ]
    },
    {
      "cell_type": "code",
      "metadata": {
        "colab": {
          "base_uri": "https://localhost:8080/"
        },
        "id": "bVKhhgCq9siu",
        "outputId": "bbb5ed4d-0866-404c-8518-6f9c8160980f"
      },
      "source": [
        "panser[0:3]"
      ],
      "execution_count": 83,
      "outputs": [
        {
          "output_type": "execute_result",
          "data": {
            "text/plain": [
              "ali     121\n",
              "veli    200\n",
              "ayşe    150\n",
              "dtype: int64"
            ]
          },
          "metadata": {
            "tags": []
          },
          "execution_count": 83
        }
      ]
    },
    {
      "cell_type": "code",
      "metadata": {
        "colab": {
          "base_uri": "https://localhost:8080/"
        },
        "id": "Tr8Wkuy298uY",
        "outputId": "2c3d3674-a45d-43ff-f83d-5f556343a266"
      },
      "source": [
        "panser[\"ali\":\"nur\"]"
      ],
      "execution_count": 84,
      "outputs": [
        {
          "output_type": "execute_result",
          "data": {
            "text/plain": [
              "ali     121\n",
              "veli    200\n",
              "ayşe    150\n",
              "nur      99\n",
              "dtype: int64"
            ]
          },
          "metadata": {
            "tags": []
          },
          "execution_count": 84
        }
      ]
    },
    {
      "cell_type": "code",
      "metadata": {
        "colab": {
          "base_uri": "https://localhost:8080/"
        },
        "id": "EpLmDeJX-ANp",
        "outputId": "f2b58834-8ee7-4562-a17f-b56e8d1f6037"
      },
      "source": [
        "panser.index"
      ],
      "execution_count": 85,
      "outputs": [
        {
          "output_type": "execute_result",
          "data": {
            "text/plain": [
              "Index(['ali', 'veli', 'ayşe', 'nur'], dtype='object')"
            ]
          },
          "metadata": {
            "tags": []
          },
          "execution_count": 85
        }
      ]
    },
    {
      "cell_type": "code",
      "metadata": {
        "colab": {
          "base_uri": "https://localhost:8080/"
        },
        "id": "aMKnJHH0-G_h",
        "outputId": "ec5f8452-c9ac-4091-ffc9-ca46d166befa"
      },
      "source": [
        "panser.values"
      ],
      "execution_count": 86,
      "outputs": [
        {
          "output_type": "execute_result",
          "data": {
            "text/plain": [
              "array([121, 200, 150,  99])"
            ]
          },
          "metadata": {
            "tags": []
          },
          "execution_count": 86
        }
      ]
    },
    {
      "cell_type": "code",
      "metadata": {
        "colab": {
          "base_uri": "https://localhost:8080/"
        },
        "id": "MtdBG2S2-JvV",
        "outputId": "03582b08-b304-4c99-a3c1-aaa4e6b22b61"
      },
      "source": [
        "list(panser.items())"
      ],
      "execution_count": 88,
      "outputs": [
        {
          "output_type": "execute_result",
          "data": {
            "text/plain": [
              "[('ali', 121), ('veli', 200), ('ayşe', 150), ('nur', 99)]"
            ]
          },
          "metadata": {
            "tags": []
          },
          "execution_count": 88
        }
      ]
    },
    {
      "cell_type": "code",
      "metadata": {
        "id": "i6WJzVSv-N78"
      },
      "source": [
        ""
      ],
      "execution_count": 92,
      "outputs": []
    },
    {
      "cell_type": "code",
      "metadata": {
        "id": "L5IMj5TX-boU"
      },
      "source": [
        ""
      ],
      "execution_count": null,
      "outputs": []
    }
  ]
}