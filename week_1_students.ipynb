{
  "nbformat": 4,
  "nbformat_minor": 5,
  "metadata": {
    "kernelspec": {
      "display_name": "Python 3",
      "language": "python",
      "name": "python3"
    },
    "language_info": {
      "codemirror_mode": {
        "name": "ipython",
        "version": 3
      },
      "file_extension": ".py",
      "mimetype": "text/x-python",
      "name": "python",
      "nbconvert_exporter": "python",
      "pygments_lexer": "ipython3",
      "version": "3.8.5"
    },
    "colab": {
      "name": "week_1_students.ipynb",
      "provenance": []
    }
  },
  "cells": [
    {
      "cell_type": "markdown",
      "metadata": {
        "id": "outer-patient"
      },
      "source": [
        "# **Import Numpy Library**"
      ],
      "id": "outer-patient"
    },
    {
      "cell_type": "code",
      "metadata": {
        "id": "2203fcda"
      },
      "source": [
        "import numpy as np"
      ],
      "id": "2203fcda",
      "execution_count": 3,
      "outputs": []
    },
    {
      "cell_type": "markdown",
      "metadata": {
        "id": "4a86560f"
      },
      "source": [
        "**https://www.w3resource.com/python-exercises/numpy/index-array.php**\n",
        "- Numpy Questions: 4, 8, 9, 10, 12, 14, 19"
      ],
      "id": "4a86560f"
    },
    {
      "cell_type": "markdown",
      "metadata": {
        "id": "every-dividend"
      },
      "source": [
        "**4. Write a NumPy program to create a null vector of size 10 and update sixth value to 11.**\n",
        "<br>[ 0. 0. 0. 0. 0. 0. 0. 0. 0. 0.]\n",
        "<br>Update sixth value to 11\n",
        "<br>[ 0. 0. 0. 0. 0. 0. 11. 0. 0. 0.]"
      ],
      "id": "every-dividend"
    },
    {
      "cell_type": "code",
      "metadata": {
        "colab": {
          "base_uri": "https://localhost:8080/"
        },
        "id": "seven-failing",
        "outputId": "d1d266ee-7d20-4d84-c0d0-de440c904bb5"
      },
      "source": [
        "a = np.zeros(10)\n",
        "\n",
        "a"
      ],
      "id": "seven-failing",
      "execution_count": null,
      "outputs": [
        {
          "output_type": "execute_result",
          "data": {
            "text/plain": [
              "array([0., 0., 0., 0., 0., 0., 0., 0., 0., 0.])"
            ]
          },
          "metadata": {
            "tags": []
          },
          "execution_count": 5
        }
      ]
    },
    {
      "cell_type": "code",
      "metadata": {
        "colab": {
          "base_uri": "https://localhost:8080/"
        },
        "id": "requested-lambda",
        "outputId": "8539bba3-f383-41c7-a23b-c6db977c2f65"
      },
      "source": [
        "print(\"Update sixth value to 11\")\n",
        "a[6]=11\n",
        "a"
      ],
      "id": "requested-lambda",
      "execution_count": null,
      "outputs": [
        {
          "output_type": "stream",
          "text": [
            "Update sixth value to 11\n"
          ],
          "name": "stdout"
        },
        {
          "output_type": "execute_result",
          "data": {
            "text/plain": [
              "array([ 0.,  0.,  0.,  0.,  0.,  0., 11.,  0.,  0.,  0.])"
            ]
          },
          "metadata": {
            "tags": []
          },
          "execution_count": 6
        }
      ]
    },
    {
      "cell_type": "markdown",
      "metadata": {
        "id": "serious-victim"
      },
      "source": [
        "**8. Write a NumPy program to create a 2d array with 1 on the border and 0 inside.**\n",
        "![image-4.png](attachment:image-4.png)"
      ],
      "id": "serious-victim"
    },
    {
      "cell_type": "code",
      "metadata": {
        "colab": {
          "base_uri": "https://localhost:8080/"
        },
        "id": "answering-paintball",
        "outputId": "1092abff-e508-434f-a630-9bc8f66eab11"
      },
      "source": [
        "print(\"Original array:\")\n",
        "\n",
        "b = np.ones((5,5))\n",
        "b"
      ],
      "id": "answering-paintball",
      "execution_count": null,
      "outputs": [
        {
          "output_type": "stream",
          "text": [
            "Original array:\n"
          ],
          "name": "stdout"
        },
        {
          "output_type": "execute_result",
          "data": {
            "text/plain": [
              "array([[1., 1., 1., 1., 1.],\n",
              "       [1., 1., 1., 1., 1.],\n",
              "       [1., 1., 1., 1., 1.],\n",
              "       [1., 1., 1., 1., 1.],\n",
              "       [1., 1., 1., 1., 1.]])"
            ]
          },
          "metadata": {
            "tags": []
          },
          "execution_count": 26
        }
      ]
    },
    {
      "cell_type": "code",
      "metadata": {
        "colab": {
          "base_uri": "https://localhost:8080/"
        },
        "id": "falling-filling",
        "outputId": "036be50f-43c8-4106-a076-33a5646d9c77"
      },
      "source": [
        "print(\"1 on the border and 0 inside in the array\")\n",
        "\n",
        "b[1:-1,1:-1] = 0 \n",
        "b"
      ],
      "id": "falling-filling",
      "execution_count": null,
      "outputs": [
        {
          "output_type": "stream",
          "text": [
            "1 on the border and 0 inside in the array\n"
          ],
          "name": "stdout"
        },
        {
          "output_type": "execute_result",
          "data": {
            "text/plain": [
              "array([[1., 1., 1., 1., 1.],\n",
              "       [1., 0., 0., 0., 1.],\n",
              "       [1., 0., 0., 0., 1.],\n",
              "       [1., 0., 0., 0., 1.],\n",
              "       [1., 1., 1., 1., 1.]])"
            ]
          },
          "metadata": {
            "tags": []
          },
          "execution_count": 28
        }
      ]
    },
    {
      "cell_type": "markdown",
      "metadata": {
        "id": "virgin-warehouse"
      },
      "source": [
        "**9. Write a NumPy program to add a border (filled with 0's) around an existing array.**\n",
        "![image-2.png](attachment:image-2.png)"
      ],
      "id": "virgin-warehouse"
    },
    {
      "cell_type": "code",
      "metadata": {
        "colab": {
          "base_uri": "https://localhost:8080/"
        },
        "id": "psychological-trouble",
        "outputId": "3c8eecf0-6035-4de3-d604-74b140ac4427"
      },
      "source": [
        "print(\"Original array:\")\n",
        "x = np.ones((3,3))\n",
        " \n",
        "x"
      ],
      "id": "psychological-trouble",
      "execution_count": null,
      "outputs": [
        {
          "output_type": "stream",
          "text": [
            "Original array:\n"
          ],
          "name": "stdout"
        },
        {
          "output_type": "execute_result",
          "data": {
            "text/plain": [
              "array([[1., 1., 1.],\n",
              "       [1., 1., 1.],\n",
              "       [1., 1., 1.]])"
            ]
          },
          "metadata": {
            "tags": []
          },
          "execution_count": 29
        }
      ]
    },
    {
      "cell_type": "code",
      "metadata": {
        "id": "scientific-academy",
        "outputId": "b9350b2c-dd9a-4966-94df-4d5126dbd31e"
      },
      "source": [
        "print(\"0 on the border and 1 inside in the array\")\n",
        "\n",
        " "
      ],
      "id": "scientific-academy",
      "execution_count": null,
      "outputs": [
        {
          "output_type": "stream",
          "text": [
            "0 on the border and 1 inside in the array\n",
            "[[0. 0. 0. 0. 0.]\n",
            " [0. 1. 1. 1. 0.]\n",
            " [0. 1. 1. 1. 0.]\n",
            " [0. 1. 1. 1. 0.]\n",
            " [0. 0. 0. 0. 0.]]\n"
          ],
          "name": "stdout"
        }
      ]
    },
    {
      "cell_type": "markdown",
      "metadata": {
        "id": "given-champion"
      },
      "source": [
        "**10. Write a NumPy program to create a 8x8 matrix and fill it with a checkerboard pattern.**\n",
        "![image.png](attachment:image.png)"
      ],
      "id": "given-champion"
    },
    {
      "cell_type": "code",
      "metadata": {
        "colab": {
          "base_uri": "https://localhost:8080/"
        },
        "id": "specific-animal",
        "outputId": "76f6c2ed-533f-4ee1-c5d2-7c4b92c45192"
      },
      "source": [
        "x = np.zeros((3,3))\n",
        "x"
      ],
      "id": "specific-animal",
      "execution_count": null,
      "outputs": [
        {
          "output_type": "execute_result",
          "data": {
            "text/plain": [
              "array([[0., 0., 0.],\n",
              "       [0., 0., 0.],\n",
              "       [0., 0., 0.]])"
            ]
          },
          "metadata": {
            "tags": []
          },
          "execution_count": 14
        }
      ]
    },
    {
      "cell_type": "code",
      "metadata": {
        "colab": {
          "base_uri": "https://localhost:8080/"
        },
        "id": "contained-nudist",
        "outputId": "7fe9c963-120a-48c7-e11a-a2a68098aca0"
      },
      "source": [
        "print(\"Checkerboard pattern:\")\n",
        "x = np.zeros((8,8),dtype=int)\n",
        "x[1::2,::2]=1\n",
        "x[::2,1::2]=1\n",
        "x"
      ],
      "id": "contained-nudist",
      "execution_count": null,
      "outputs": [
        {
          "output_type": "stream",
          "text": [
            "Checkerboard pattern:\n"
          ],
          "name": "stdout"
        },
        {
          "output_type": "execute_result",
          "data": {
            "text/plain": [
              "array([[0, 1, 0, 1, 0, 1, 0, 1],\n",
              "       [1, 0, 1, 0, 1, 0, 1, 0],\n",
              "       [0, 1, 0, 1, 0, 1, 0, 1],\n",
              "       [1, 0, 1, 0, 1, 0, 1, 0],\n",
              "       [0, 1, 0, 1, 0, 1, 0, 1],\n",
              "       [1, 0, 1, 0, 1, 0, 1, 0],\n",
              "       [0, 1, 0, 1, 0, 1, 0, 1],\n",
              "       [1, 0, 1, 0, 1, 0, 1, 0]])"
            ]
          },
          "metadata": {
            "tags": []
          },
          "execution_count": 16
        }
      ]
    },
    {
      "cell_type": "code",
      "metadata": {
        "colab": {
          "base_uri": "https://localhost:8080/"
        },
        "id": "sufficient-heart",
        "outputId": "ec28ebb4-f6a0-4835-e2fa-beeffb3ff216"
      },
      "source": [
        "print(x)"
      ],
      "id": "sufficient-heart",
      "execution_count": null,
      "outputs": [
        {
          "output_type": "stream",
          "text": [
            "[[0 1 0 1 0 1 0 1]\n",
            " [1 0 1 0 1 0 1 0]\n",
            " [0 1 0 1 0 1 0 1]\n",
            " [1 0 1 0 1 0 1 0]\n",
            " [0 1 0 1 0 1 0 1]\n",
            " [1 0 1 0 1 0 1 0]\n",
            " [0 1 0 1 0 1 0 1]\n",
            " [1 0 1 0 1 0 1 0]]\n"
          ],
          "name": "stdout"
        }
      ]
    },
    {
      "cell_type": "markdown",
      "metadata": {
        "id": "reverse-brook"
      },
      "source": [
        "**12. Write a NumPy program to append values to the end of an array.**\n",
        "![image-2.png](attachment:image-2.png)"
      ],
      "id": "reverse-brook"
    },
    {
      "cell_type": "code",
      "metadata": {
        "colab": {
          "base_uri": "https://localhost:8080/"
        },
        "id": "random-helping",
        "outputId": "3e864688-602b-449e-b926-7629960064a1"
      },
      "source": [
        "print(\"Original array:\")\n",
        "\n",
        "a = [10,20,30]\n",
        "a"
      ],
      "id": "random-helping",
      "execution_count": null,
      "outputs": [
        {
          "output_type": "stream",
          "text": [
            "Original array:\n"
          ],
          "name": "stdout"
        },
        {
          "output_type": "execute_result",
          "data": {
            "text/plain": [
              "[10, 20, 30]"
            ]
          },
          "metadata": {
            "tags": []
          },
          "execution_count": 36
        }
      ]
    },
    {
      "cell_type": "markdown",
      "metadata": {
        "id": "2rO9Zcyi2ws8"
      },
      "source": [
        "("
      ],
      "id": "2rO9Zcyi2ws8"
    },
    {
      "cell_type": "code",
      "metadata": {
        "colab": {
          "base_uri": "https://localhost:8080/"
        },
        "id": "driven-concord",
        "outputId": "ac7f7782-a602-4590-a4e1-7b582415a021"
      },
      "source": [
        "print(\"After append values to the end of the array:\")\n",
        "\n",
        "a =np.append(a,[40,50,60,70,80,90])\n",
        "a"
      ],
      "id": "driven-concord",
      "execution_count": null,
      "outputs": [
        {
          "output_type": "stream",
          "text": [
            "After append values to the end of the array:\n"
          ],
          "name": "stdout"
        },
        {
          "output_type": "execute_result",
          "data": {
            "text/plain": [
              "array([10, 20, 30, 40, 50, 60, 70, 80, 90])"
            ]
          },
          "metadata": {
            "tags": []
          },
          "execution_count": 37
        }
      ]
    },
    {
      "cell_type": "markdown",
      "metadata": {
        "id": "compact-married"
      },
      "source": [
        "**14. Write a NumPy program to convert the values of Centigrade degrees into Fahrenheit degrees. Centigrade values are stored into a NumPy array.**\n",
        "![image.png](attachment:image.png)"
      ],
      "id": "compact-married"
    },
    {
      "cell_type": "code",
      "metadata": {
        "colab": {
          "base_uri": "https://localhost:8080/"
        },
        "id": "competitive-factor",
        "outputId": "7e9ca788-3f93-4f98-9a2c-62f88b71bb5b"
      },
      "source": [
        "print(\"Values in  Fahrenheit degrees:\") \n",
        "Fahrenheit =[ 0, 12, 45.21, 34, 99.91]\n",
        "Fahrenheit"
      ],
      "id": "competitive-factor",
      "execution_count": null,
      "outputs": [
        {
          "output_type": "stream",
          "text": [
            "Values in  Fahrenheit degrees:\n"
          ],
          "name": "stdout"
        },
        {
          "output_type": "execute_result",
          "data": {
            "text/plain": [
              "[0, 12, 45.21, 34, 99.91]"
            ]
          },
          "metadata": {
            "tags": []
          },
          "execution_count": 43
        }
      ]
    },
    {
      "cell_type": "code",
      "metadata": {
        "colab": {
          "base_uri": "https://localhost:8080/"
        },
        "id": "educated-finger",
        "outputId": "67bbf092-4b96-49d8-ede0-9b85a38c516a"
      },
      "source": [
        "print(\"Values in  Centigrade degrees:\") \n",
        "centigrade = []\n",
        "for i in Fahrenheit:\n",
        "  centigrade.append((i-32)*5/9)\n",
        "centigrade\n",
        "\n"
      ],
      "id": "educated-finger",
      "execution_count": null,
      "outputs": [
        {
          "output_type": "stream",
          "text": [
            "Values in  Centigrade degrees:\n"
          ],
          "name": "stdout"
        },
        {
          "output_type": "execute_result",
          "data": {
            "text/plain": [
              "[-17.77777777777778,\n",
              " -11.11111111111111,\n",
              " 7.33888888888889,\n",
              " 1.1111111111111112,\n",
              " 37.727777777777774]"
            ]
          },
          "metadata": {
            "tags": []
          },
          "execution_count": 48
        }
      ]
    },
    {
      "cell_type": "markdown",
      "metadata": {
        "id": "derived-practitioner"
      },
      "source": [
        "**19. Write a NumPy program to get the unique elements of an array.**\n",
        "![image.png](attachment:image.png)"
      ],
      "id": "derived-practitioner"
    },
    {
      "cell_type": "code",
      "metadata": {
        "colab": {
          "base_uri": "https://localhost:8080/"
        },
        "id": "atlantic-sitting",
        "outputId": "cc1ad891-5200-46b4-8414-8289446997c2"
      },
      "source": [
        "print(\"Original array:\")\n",
        "x = [10,10,20,20,30,30]\n",
        "x"
      ],
      "id": "atlantic-sitting",
      "execution_count": null,
      "outputs": [
        {
          "output_type": "stream",
          "text": [
            "Original array:\n"
          ],
          "name": "stdout"
        },
        {
          "output_type": "execute_result",
          "data": {
            "text/plain": [
              "[10, 10, 20, 20, 30, 30]"
            ]
          },
          "metadata": {
            "tags": []
          },
          "execution_count": 50
        }
      ]
    },
    {
      "cell_type": "code",
      "metadata": {
        "colab": {
          "base_uri": "https://localhost:8080/"
        },
        "id": "physical-garlic",
        "outputId": "0119e90e-408f-407b-ba92-6239be87d27e"
      },
      "source": [
        "print(\"Unique elements of the above array:\")\n",
        "\n",
        "x = set(x)\n",
        "print(list(x))"
      ],
      "id": "physical-garlic",
      "execution_count": null,
      "outputs": [
        {
          "output_type": "stream",
          "text": [
            "Unique elements of the above array:\n",
            "[10, 20, 30]\n"
          ],
          "name": "stdout"
        }
      ]
    },
    {
      "cell_type": "code",
      "metadata": {
        "colab": {
          "base_uri": "https://localhost:8080/"
        },
        "id": "scheduled-consequence",
        "outputId": "f8651ea3-a2a3-48d4-eec3-df6d1c7c8071"
      },
      "source": [
        "print(\"Original array:\")\n",
        "\n",
        "c =np.array([[1,1],[2,3]])\n",
        "c"
      ],
      "id": "scheduled-consequence",
      "execution_count": null,
      "outputs": [
        {
          "output_type": "stream",
          "text": [
            "Original array:\n"
          ],
          "name": "stdout"
        },
        {
          "output_type": "execute_result",
          "data": {
            "text/plain": [
              "array([[1, 1],\n",
              "       [2, 3]])"
            ]
          },
          "metadata": {
            "tags": []
          },
          "execution_count": 59
        }
      ]
    },
    {
      "cell_type": "code",
      "metadata": {
        "colab": {
          "base_uri": "https://localhost:8080/"
        },
        "id": "widespread-surveillance",
        "outputId": "ecdd2648-bc20-49b1-c1b6-12dc84c3e948"
      },
      "source": [
        "print(\"Unique elements of the above array:\")\n",
        "\n",
        "print(np.unique(c))\n"
      ],
      "id": "widespread-surveillance",
      "execution_count": null,
      "outputs": [
        {
          "output_type": "stream",
          "text": [
            "Unique elements of the above array:\n",
            "[1 2 3]\n"
          ],
          "name": "stdout"
        }
      ]
    },
    {
      "cell_type": "markdown",
      "metadata": {
        "id": "downtown-sauce"
      },
      "source": [
        "# **import Pandas Library**"
      ],
      "id": "downtown-sauce"
    },
    {
      "cell_type": "code",
      "metadata": {
        "id": "infectious-spotlight"
      },
      "source": [
        "import pandas as pd"
      ],
      "id": "infectious-spotlight",
      "execution_count": 2,
      "outputs": []
    },
    {
      "cell_type": "markdown",
      "metadata": {
        "id": "3790dc46"
      },
      "source": [
        "**https://www.w3resource.com/python-exercises/pandas/index-data-series.php**\n",
        "- Pandas Questions: 2, 3, 5, 6, 13"
      ],
      "id": "3790dc46"
    },
    {
      "cell_type": "markdown",
      "metadata": {
        "id": "hollow-enhancement"
      },
      "source": [
        "**2. Write a Pandas program to convert a Pandas module Series to Python list and it's type.**"
      ],
      "id": "hollow-enhancement"
    },
    {
      "cell_type": "code",
      "metadata": {
        "id": "c7cacd5e"
      },
      "source": [
        "list_1 = [2, 4, 6, 8, 10]"
      ],
      "id": "c7cacd5e",
      "execution_count": null,
      "outputs": []
    },
    {
      "cell_type": "code",
      "metadata": {
        "colab": {
          "base_uri": "https://localhost:8080/"
        },
        "id": "exceptional-vienna",
        "outputId": "adeaf0ac-9687-434c-df08-65796d939dea"
      },
      "source": [
        "# Convert the Python list to a Pandas Series \n",
        "print(\"Pandas Series and type\")\n",
        "\n",
        "x = pd.Series([2, 4, 6, 8, 10])\n",
        "x"
      ],
      "id": "exceptional-vienna",
      "execution_count": null,
      "outputs": [
        {
          "output_type": "stream",
          "text": [
            "Pandas Series and type\n"
          ],
          "name": "stdout"
        },
        {
          "output_type": "execute_result",
          "data": {
            "text/plain": [
              "0     2\n",
              "1     4\n",
              "2     6\n",
              "3     8\n",
              "4    10\n",
              "dtype: int64"
            ]
          },
          "metadata": {
            "tags": []
          },
          "execution_count": 78
        }
      ]
    },
    {
      "cell_type": "code",
      "metadata": {
        "colab": {
          "base_uri": "https://localhost:8080/"
        },
        "id": "neither-production",
        "outputId": "14017ee3-078b-4dc6-d6b9-6af804350f0b"
      },
      "source": [
        "# Convert the Pandas Series to Python list\n",
        "\n",
        "print(list(x))\n"
      ],
      "id": "neither-production",
      "execution_count": null,
      "outputs": [
        {
          "output_type": "stream",
          "text": [
            "[2, 4, 6, 8, 10]\n"
          ],
          "name": "stdout"
        }
      ]
    },
    {
      "cell_type": "markdown",
      "metadata": {
        "id": "confused-parade"
      },
      "source": [
        "**3. Write a Pandas program to add, subtract, multiple and divide two Pandas Series.**"
      ],
      "id": "confused-parade"
    },
    {
      "cell_type": "code",
      "metadata": {
        "id": "1aad2a90"
      },
      "source": [
        "list1 = [2, 4, 6, 8, 10]\n",
        "list2 = [1, 3, 5, 7, 9]"
      ],
      "id": "1aad2a90",
      "execution_count": null,
      "outputs": []
    },
    {
      "cell_type": "code",
      "metadata": {
        "id": "4ed60289"
      },
      "source": [
        "# Create two Pandas series with these lists\n",
        "\n",
        "a = pd.Series([2,4,6,8,10])\n",
        "b = pd.Series([1,3,5,7,9])\n"
      ],
      "id": "4ed60289",
      "execution_count": null,
      "outputs": []
    },
    {
      "cell_type": "code",
      "metadata": {
        "colab": {
          "base_uri": "https://localhost:8080/"
        },
        "id": "annual-rachel",
        "outputId": "097c0175-a0bd-449a-a3bd-a9a28ebb86bb"
      },
      "source": [
        "print(\"Add two Series:\")\n",
        "\n",
        "c = a+b\n",
        "c"
      ],
      "id": "annual-rachel",
      "execution_count": null,
      "outputs": [
        {
          "output_type": "stream",
          "text": [
            "Add two Series:\n"
          ],
          "name": "stdout"
        },
        {
          "output_type": "execute_result",
          "data": {
            "text/plain": [
              "0     3\n",
              "1     7\n",
              "2    11\n",
              "3    15\n",
              "4    19\n",
              "dtype: int64"
            ]
          },
          "metadata": {
            "tags": []
          },
          "execution_count": 84
        }
      ]
    },
    {
      "cell_type": "code",
      "metadata": {
        "colab": {
          "base_uri": "https://localhost:8080/"
        },
        "id": "breathing-documentary",
        "outputId": "7932cdbf-c688-422a-a776-c17f6f13a372"
      },
      "source": [
        "print(\"Subtract two Series:\")\n",
        "\n",
        "c = a-b\n",
        "c"
      ],
      "id": "breathing-documentary",
      "execution_count": null,
      "outputs": [
        {
          "output_type": "stream",
          "text": [
            "Subtract two Series:\n"
          ],
          "name": "stdout"
        },
        {
          "output_type": "execute_result",
          "data": {
            "text/plain": [
              "0    1\n",
              "1    1\n",
              "2    1\n",
              "3    1\n",
              "4    1\n",
              "dtype: int64"
            ]
          },
          "metadata": {
            "tags": []
          },
          "execution_count": 85
        }
      ]
    },
    {
      "cell_type": "code",
      "metadata": {
        "colab": {
          "base_uri": "https://localhost:8080/"
        },
        "id": "personal-newsletter",
        "outputId": "7cfeafcb-38ff-488e-871a-abb7b80f280d"
      },
      "source": [
        "print(\"Multiply two Series:\")\n",
        "\n",
        "c = a*b\n",
        "c\n"
      ],
      "id": "personal-newsletter",
      "execution_count": null,
      "outputs": [
        {
          "output_type": "stream",
          "text": [
            "Multiply two Series:\n"
          ],
          "name": "stdout"
        },
        {
          "output_type": "execute_result",
          "data": {
            "text/plain": [
              "0     2\n",
              "1    12\n",
              "2    30\n",
              "3    56\n",
              "4    90\n",
              "dtype: int64"
            ]
          },
          "metadata": {
            "tags": []
          },
          "execution_count": 86
        }
      ]
    },
    {
      "cell_type": "code",
      "metadata": {
        "colab": {
          "base_uri": "https://localhost:8080/"
        },
        "id": "sporting-theorem",
        "outputId": "15256618-3c04-4440-fe2c-4f2d658230b2"
      },
      "source": [
        "print(\"Divide Series1 by Series2:\")\n",
        "\n",
        "c = a/b\n",
        "c"
      ],
      "id": "sporting-theorem",
      "execution_count": null,
      "outputs": [
        {
          "output_type": "stream",
          "text": [
            "Divide Series1 by Series2:\n"
          ],
          "name": "stdout"
        },
        {
          "output_type": "execute_result",
          "data": {
            "text/plain": [
              "0    2.000000\n",
              "1    1.333333\n",
              "2    1.200000\n",
              "3    1.142857\n",
              "4    1.111111\n",
              "dtype: float64"
            ]
          },
          "metadata": {
            "tags": []
          },
          "execution_count": 87
        }
      ]
    },
    {
      "cell_type": "markdown",
      "metadata": {
        "id": "competitive-fifteen"
      },
      "source": [
        "**5. Write a Pandas program to convert a dictionary to a Pandas series.**"
      ],
      "id": "competitive-fifteen"
    },
    {
      "cell_type": "code",
      "metadata": {
        "id": "0cd18195"
      },
      "source": [
        "keys=['a','b','c','d','e']\n",
        "values = [100, 200, 300, 400, 800]"
      ],
      "id": "0cd18195",
      "execution_count": null,
      "outputs": []
    },
    {
      "cell_type": "code",
      "metadata": {
        "colab": {
          "base_uri": "https://localhost:8080/"
        },
        "id": "latin-torture",
        "outputId": "e37d708d-7292-4876-f0fa-f0e87e36a46d"
      },
      "source": [
        "# Create a dictionary from keys and values\n",
        "print(\"Original dictionary:\")\n",
        "\n",
        "my_dict = {'a': 100, 'b': 200, 'c': 300, 'd': 400, 'e': 800}\n",
        "my_dict"
      ],
      "id": "latin-torture",
      "execution_count": null,
      "outputs": [
        {
          "output_type": "stream",
          "text": [
            "Original dictionary:\n"
          ],
          "name": "stdout"
        },
        {
          "output_type": "execute_result",
          "data": {
            "text/plain": [
              "{'a': 100, 'b': 200, 'c': 300, 'd': 400, 'e': 800}"
            ]
          },
          "metadata": {
            "tags": []
          },
          "execution_count": 90
        }
      ]
    },
    {
      "cell_type": "code",
      "metadata": {
        "colab": {
          "base_uri": "https://localhost:8080/"
        },
        "id": "rolled-transcript",
        "outputId": "12283db9-e39b-49fc-eac8-ee0264fb6a31"
      },
      "source": [
        "# Convert the dictionary to a Pandas series\n",
        "print(\"Converted series:\")\n",
        "\n",
        "my_pd = pd.Series(my_dict)\n",
        "my_pd"
      ],
      "id": "rolled-transcript",
      "execution_count": null,
      "outputs": [
        {
          "output_type": "stream",
          "text": [
            "Converted series:\n"
          ],
          "name": "stdout"
        },
        {
          "output_type": "execute_result",
          "data": {
            "text/plain": [
              "a    100\n",
              "b    200\n",
              "c    300\n",
              "d    400\n",
              "e    800\n",
              "dtype: int64"
            ]
          },
          "metadata": {
            "tags": []
          },
          "execution_count": 93
        }
      ]
    },
    {
      "cell_type": "markdown",
      "metadata": {
        "id": "olive-aircraft"
      },
      "source": [
        "**6. Write a Pandas program to convert a NumPy array to a Pandas series.**"
      ],
      "id": "olive-aircraft"
    },
    {
      "cell_type": "code",
      "metadata": {
        "colab": {
          "base_uri": "https://localhost:8080/"
        },
        "id": "wired-contact",
        "outputId": "9eee0da2-3960-49c3-e0e2-4234af057a43"
      },
      "source": [
        "# Original Data : [10, 20, 30, 40, 50]\n",
        "# Create a numpy array with this data\n",
        "print(\"NumPy array:\")\n",
        "\n",
        "a = np.array([10,20,30,40,50])\n",
        "a"
      ],
      "id": "wired-contact",
      "execution_count": null,
      "outputs": [
        {
          "output_type": "stream",
          "text": [
            "NumPy array:\n"
          ],
          "name": "stdout"
        },
        {
          "output_type": "execute_result",
          "data": {
            "text/plain": [
              "array([10, 20, 30, 40, 50])"
            ]
          },
          "metadata": {
            "tags": []
          },
          "execution_count": 96
        }
      ]
    },
    {
      "cell_type": "code",
      "metadata": {
        "colab": {
          "base_uri": "https://localhost:8080/"
        },
        "id": "returning-outline",
        "outputId": "f0acd5f5-bed2-4047-a09e-7988e946dd63"
      },
      "source": [
        "# Convert a NumPy array to this Pandas series.\n",
        "print(\"Converted Pandas series:\")\n",
        "\n",
        "b = pd.Series(a)\n",
        "b"
      ],
      "id": "returning-outline",
      "execution_count": null,
      "outputs": [
        {
          "output_type": "stream",
          "text": [
            "Converted Pandas series:\n"
          ],
          "name": "stdout"
        },
        {
          "output_type": "execute_result",
          "data": {
            "text/plain": [
              "0    10\n",
              "1    20\n",
              "2    30\n",
              "3    40\n",
              "4    50\n",
              "dtype: int64"
            ]
          },
          "metadata": {
            "tags": []
          },
          "execution_count": 98
        }
      ]
    },
    {
      "cell_type": "markdown",
      "metadata": {
        "id": "charming-denial"
      },
      "source": [
        "**12. Write a Pandas program to add some data to an existing Series.**|"
      ],
      "id": "charming-denial"
    },
    {
      "cell_type": "code",
      "metadata": {
        "colab": {
          "base_uri": "https://localhost:8080/"
        },
        "id": "painful-liquid",
        "outputId": "1a460ff5-ee41-4c25-8199-4a4ee0c726d8"
      },
      "source": [
        "# Original Data : ['100', '200', 'python', '300.12', '400']\n",
        "# Built a pandas Series with this data\n",
        "print(\"Original Data Series:\")\n",
        "xx  = pd.Series(['100', '200', 'python', '300.12', '400'])\n",
        "xx"
      ],
      "id": "painful-liquid",
      "execution_count": null,
      "outputs": [
        {
          "output_type": "stream",
          "text": [
            "Original Data Series:\n"
          ],
          "name": "stdout"
        },
        {
          "output_type": "execute_result",
          "data": {
            "text/plain": [
              "0       100\n",
              "1       200\n",
              "2    python\n",
              "3    300.12\n",
              "4       400\n",
              "dtype: object"
            ]
          },
          "metadata": {
            "tags": []
          },
          "execution_count": 100
        }
      ]
    },
    {
      "cell_type": "code",
      "metadata": {
        "id": "hindu-paste",
        "outputId": "44187d4f-4d3e-40db-8dd2-e4994fde2a2d"
      },
      "source": [
        "# Add ['500', 'php'] to the original Data Series\n",
        "print(\"\\nData Series after adding some data:\")\n",
        "\n",
        "xx =pd.Series.ad \n"
      ],
      "id": "hindu-paste",
      "execution_count": null,
      "outputs": [
        {
          "output_type": "stream",
          "text": [
            "\n",
            "Data Series after adding some data:\n",
            "0       100\n",
            "1       200\n",
            "2    python\n",
            "3    300.12\n",
            "4       400\n",
            "0       500\n",
            "1       php\n",
            "dtype: object\n"
          ],
          "name": "stdout"
        }
      ]
    },
    {
      "cell_type": "markdown",
      "metadata": {
        "id": "5bde9096"
      },
      "source": [
        "**13. Write a Pandas program to create a subset of a given series based on value and condition.**"
      ],
      "id": "5bde9096"
    },
    {
      "cell_type": "code",
      "metadata": {
        "id": "3e8a7f12",
        "colab": {
          "base_uri": "https://localhost:8080/"
        },
        "outputId": "613d9558-36ec-4a2c-d468-e7027de8f90d"
      },
      "source": [
        "# Original Data : [0,1,2,3,4,5,6,7,8,9,10]\n",
        "# Built a pandas Series with this data\n",
        "print(\"Original Data Series:\")\n",
        "\n",
        "cc = pd.Series([0,1,2,3,4,5,6,7,8,9,10])\n",
        "cc"
      ],
      "id": "3e8a7f12",
      "execution_count": 5,
      "outputs": [
        {
          "output_type": "stream",
          "text": [
            "Original Data Series:\n"
          ],
          "name": "stdout"
        },
        {
          "output_type": "execute_result",
          "data": {
            "text/plain": [
              "0      0\n",
              "1      1\n",
              "2      2\n",
              "3      3\n",
              "4      4\n",
              "5      5\n",
              "6      6\n",
              "7      7\n",
              "8      8\n",
              "9      9\n",
              "10    10\n",
              "dtype: int64"
            ]
          },
          "metadata": {
            "tags": []
          },
          "execution_count": 5
        }
      ]
    },
    {
      "cell_type": "code",
      "metadata": {
        "id": "a4dcdebf",
        "colab": {
          "base_uri": "https://localhost:8080/"
        },
        "outputId": "39300a4b-43f3-429e-f47b-8d235c445624"
      },
      "source": [
        "# Create a new series with data with a value less than 6\n",
        "print(\"\\nSubset of the above Data Series:\")\n",
        "\n",
        "print(cc[cc  < 6])\n"
      ],
      "id": "a4dcdebf",
      "execution_count": 10,
      "outputs": [
        {
          "output_type": "stream",
          "text": [
            "\n",
            "Subset of the above Data Series:\n",
            "0    0\n",
            "1    1\n",
            "2    2\n",
            "3    3\n",
            "4    4\n",
            "5    5\n",
            "dtype: int64\n"
          ],
          "name": "stdout"
        }
      ]
    },
    {
      "cell_type": "code",
      "metadata": {
        "id": "eJg30omJdPc2"
      },
      "source": [
        ""
      ],
      "id": "eJg30omJdPc2",
      "execution_count": null,
      "outputs": []
    }
  ]
}