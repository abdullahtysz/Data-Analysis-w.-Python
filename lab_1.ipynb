{
  "nbformat": 4,
  "nbformat_minor": 5,
  "metadata": {
    "kernelspec": {
      "display_name": "Python 3",
      "language": "python",
      "name": "python3"
    },
    "language_info": {
      "codemirror_mode": {
        "name": "ipython",
        "version": 3
      },
      "file_extension": ".py",
      "mimetype": "text/x-python",
      "name": "python",
      "nbconvert_exporter": "python",
      "pygments_lexer": "ipython3",
      "version": "3.8.8"
    },
    "colab": {
      "name": "lab-1.ipynb",
      "provenance": []
    }
  },
  "cells": [
    {
      "cell_type": "code",
      "metadata": {
        "id": "8f9d1365"
      },
      "source": [
        "import numpy as np"
      ],
      "id": "8f9d1365",
      "execution_count": null,
      "outputs": []
    },
    {
      "cell_type": "code",
      "metadata": {
        "id": "c35d5224",
        "outputId": "e7111783-c680-4d55-ef5c-d9483047bf11"
      },
      "source": [
        "liste = [1,2,3,4,5,6,7,8]\n",
        "a = np.array(liste)\n",
        "a\n"
      ],
      "id": "c35d5224",
      "execution_count": null,
      "outputs": [
        {
          "output_type": "execute_result",
          "data": {
            "text/plain": [
              "array([1, 2, 3, 4, 5, 6, 7, 8])"
            ]
          },
          "metadata": {
            "tags": []
          },
          "execution_count": 3
        }
      ]
    },
    {
      "cell_type": "code",
      "metadata": {
        "id": "7042c548",
        "outputId": "794081fa-d2a7-4661-e2f1-ae57066bb83d"
      },
      "source": [
        "np.array([1,2,3,4,5])"
      ],
      "id": "7042c548",
      "execution_count": null,
      "outputs": [
        {
          "output_type": "execute_result",
          "data": {
            "text/plain": [
              "array([1, 2, 3, 4, 5])"
            ]
          },
          "metadata": {
            "tags": []
          },
          "execution_count": 4
        }
      ]
    },
    {
      "cell_type": "code",
      "metadata": {
        "id": "a05f05fb",
        "outputId": "4a495433-123e-4d2e-d265-56e5aefd9785"
      },
      "source": [
        "type(a)  # değişkeninin tipini aldık"
      ],
      "id": "a05f05fb",
      "execution_count": null,
      "outputs": [
        {
          "output_type": "execute_result",
          "data": {
            "text/plain": [
              "numpy.ndarray"
            ]
          },
          "metadata": {
            "tags": []
          },
          "execution_count": 5
        }
      ]
    },
    {
      "cell_type": "code",
      "metadata": {
        "id": "e5c26817",
        "outputId": "466ff036-d60f-4d87-feec-0fc9910decb0"
      },
      "source": [
        "a.dtype  # dizinin tuttuğu değerlerin tipini aldık. Hepsi aynı tip veri\n"
      ],
      "id": "e5c26817",
      "execution_count": null,
      "outputs": [
        {
          "output_type": "execute_result",
          "data": {
            "text/plain": [
              "dtype('int32')"
            ]
          },
          "metadata": {
            "tags": []
          },
          "execution_count": 6
        }
      ]
    },
    {
      "cell_type": "code",
      "metadata": {
        "id": "f87f83b1",
        "outputId": "f1e5f794-13d0-47da-82e4-0837434d7dd4"
      },
      "source": [
        "a.shape  # tek boyutlu olduğu için bu dizi bir vektör"
      ],
      "id": "f87f83b1",
      "execution_count": null,
      "outputs": [
        {
          "output_type": "execute_result",
          "data": {
            "text/plain": [
              "(8,)"
            ]
          },
          "metadata": {
            "tags": []
          },
          "execution_count": 7
        }
      ]
    },
    {
      "cell_type": "code",
      "metadata": {
        "id": "b9ab787c",
        "outputId": "16bc3002-80a0-4714-c475-aba345ef720c"
      },
      "source": [
        "a[-1]"
      ],
      "id": "b9ab787c",
      "execution_count": null,
      "outputs": [
        {
          "output_type": "execute_result",
          "data": {
            "text/plain": [
              "8"
            ]
          },
          "metadata": {
            "tags": []
          },
          "execution_count": 10
        }
      ]
    },
    {
      "cell_type": "code",
      "metadata": {
        "id": "6ee0b01e"
      },
      "source": [
        "a[2]=8"
      ],
      "id": "6ee0b01e",
      "execution_count": null,
      "outputs": []
    },
    {
      "cell_type": "code",
      "metadata": {
        "id": "94c560c6",
        "outputId": "50b4d8d0-945e-4622-e561-1bab4a5084c0"
      },
      "source": [
        "a"
      ],
      "id": "94c560c6",
      "execution_count": null,
      "outputs": [
        {
          "output_type": "execute_result",
          "data": {
            "text/plain": [
              "array([1, 2, 8, 4, 5, 6, 7, 8])"
            ]
          },
          "metadata": {
            "tags": []
          },
          "execution_count": 9
        }
      ]
    },
    {
      "cell_type": "code",
      "metadata": {
        "id": "2ba91852"
      },
      "source": [
        "b = np.array([[1,2,3],[6,7,8]])"
      ],
      "id": "2ba91852",
      "execution_count": null,
      "outputs": []
    },
    {
      "cell_type": "code",
      "metadata": {
        "id": "447dfb4b",
        "outputId": "63a4085f-a89d-4711-d9d8-f837cf5b9d7c"
      },
      "source": [
        "b.shape"
      ],
      "id": "447dfb4b",
      "execution_count": null,
      "outputs": [
        {
          "output_type": "execute_result",
          "data": {
            "text/plain": [
              "(2, 3)"
            ]
          },
          "metadata": {
            "tags": []
          },
          "execution_count": 12
        }
      ]
    },
    {
      "cell_type": "code",
      "metadata": {
        "id": "f03c479a",
        "outputId": "7d39c455-1bd0-4815-d4dd-f8f90646da05"
      },
      "source": [
        "b[1,1]=0\n",
        "b"
      ],
      "id": "f03c479a",
      "execution_count": null,
      "outputs": [
        {
          "output_type": "execute_result",
          "data": {
            "text/plain": [
              "array([[1, 2, 3],\n",
              "       [6, 0, 8]])"
            ]
          },
          "metadata": {
            "tags": []
          },
          "execution_count": 13
        }
      ]
    },
    {
      "cell_type": "code",
      "metadata": {
        "id": "ac806cef"
      },
      "source": [
        "c = np.array([[1,2,3],[4,5,6],[7,8,9]])"
      ],
      "id": "ac806cef",
      "execution_count": null,
      "outputs": []
    },
    {
      "cell_type": "code",
      "metadata": {
        "id": "6d3eb818",
        "outputId": "5d4a3559-139d-4c7b-b0dd-9a8e5202c311"
      },
      "source": [
        "c.shape"
      ],
      "id": "6d3eb818",
      "execution_count": null,
      "outputs": [
        {
          "output_type": "execute_result",
          "data": {
            "text/plain": [
              "(3, 3)"
            ]
          },
          "metadata": {
            "tags": []
          },
          "execution_count": 15
        }
      ]
    },
    {
      "cell_type": "code",
      "metadata": {
        "id": "221b578c",
        "outputId": "6cb08813-e4e7-4c79-c99d-87924208b918"
      },
      "source": [
        "print(c)"
      ],
      "id": "221b578c",
      "execution_count": null,
      "outputs": [
        {
          "output_type": "stream",
          "text": [
            "[[1 2 3]\n",
            " [4 5 6]\n",
            " [7 8 9]]\n"
          ],
          "name": "stdout"
        }
      ]
    },
    {
      "cell_type": "code",
      "metadata": {
        "id": "66cb36ed",
        "outputId": "35a321e8-f3a7-4c04-aeb0-da66520d1850"
      },
      "source": [
        "c[1,1]"
      ],
      "id": "66cb36ed",
      "execution_count": null,
      "outputs": [
        {
          "output_type": "execute_result",
          "data": {
            "text/plain": [
              "5"
            ]
          },
          "metadata": {
            "tags": []
          },
          "execution_count": 17
        }
      ]
    },
    {
      "cell_type": "code",
      "metadata": {
        "id": "e2614fc6",
        "outputId": "eca86612-7f2c-41d6-9ac5-89022cad0237"
      },
      "source": [
        "np.zeros((3,3))"
      ],
      "id": "e2614fc6",
      "execution_count": null,
      "outputs": [
        {
          "output_type": "execute_result",
          "data": {
            "text/plain": [
              "array([[0., 0., 0.],\n",
              "       [0., 0., 0.],\n",
              "       [0., 0., 0.]])"
            ]
          },
          "metadata": {
            "tags": []
          },
          "execution_count": 18
        }
      ]
    },
    {
      "cell_type": "code",
      "metadata": {
        "id": "37a9a791",
        "outputId": "22e0eeaa-9ffc-435a-f5f4-46d77d5fb71d"
      },
      "source": [
        "np.ones((3,5))"
      ],
      "id": "37a9a791",
      "execution_count": null,
      "outputs": [
        {
          "output_type": "execute_result",
          "data": {
            "text/plain": [
              "array([[1., 1., 1., 1., 1.],\n",
              "       [1., 1., 1., 1., 1.],\n",
              "       [1., 1., 1., 1., 1.]])"
            ]
          },
          "metadata": {
            "tags": []
          },
          "execution_count": 20
        }
      ]
    },
    {
      "cell_type": "code",
      "metadata": {
        "id": "6c775959",
        "outputId": "0e99232d-2998-4b6e-86c1-c7ef89c5e4a9"
      },
      "source": [
        "np.full((2,2), -1)"
      ],
      "id": "6c775959",
      "execution_count": null,
      "outputs": [
        {
          "output_type": "execute_result",
          "data": {
            "text/plain": [
              "array([[-1, -1],\n",
              "       [-1, -1]])"
            ]
          },
          "metadata": {
            "tags": []
          },
          "execution_count": 21
        }
      ]
    },
    {
      "cell_type": "code",
      "metadata": {
        "id": "55cdca3e",
        "outputId": "a76ac8dc-cafd-4068-ae17-43833762f8b4"
      },
      "source": [
        "np.empty((3,4))"
      ],
      "id": "55cdca3e",
      "execution_count": null,
      "outputs": [
        {
          "output_type": "execute_result",
          "data": {
            "text/plain": [
              "array([[1.12079879e-311, 3.16202013e-322, 0.00000000e+000,\n",
              "        0.00000000e+000],\n",
              "       [0.00000000e+000, 4.75269212e-037, 3.56530452e-057,\n",
              "        1.77701909e+160],\n",
              "       [2.00459922e-076, 8.60100133e-067, 1.11645062e+165,\n",
              "        7.67659979e-042]])"
            ]
          },
          "metadata": {
            "tags": []
          },
          "execution_count": 23
        }
      ]
    },
    {
      "cell_type": "code",
      "metadata": {
        "id": "a670d4a5",
        "outputId": "1843faf3-b352-4f5b-ac0f-bcd2d7532b4d"
      },
      "source": [
        "np.eye(4,4)"
      ],
      "id": "a670d4a5",
      "execution_count": null,
      "outputs": [
        {
          "output_type": "execute_result",
          "data": {
            "text/plain": [
              "array([[1., 0., 0., 0.],\n",
              "       [0., 1., 0., 0.],\n",
              "       [0., 0., 1., 0.],\n",
              "       [0., 0., 0., 1.]])"
            ]
          },
          "metadata": {
            "tags": []
          },
          "execution_count": 24
        }
      ]
    },
    {
      "cell_type": "code",
      "metadata": {
        "id": "714fb266",
        "outputId": "89a17e11-5e1d-4c44-e2f8-d187ca51ce9e"
      },
      "source": [
        "np.arange(5,60,3)"
      ],
      "id": "714fb266",
      "execution_count": null,
      "outputs": [
        {
          "output_type": "execute_result",
          "data": {
            "text/plain": [
              "array([ 5,  8, 11, 14, 17, 20, 23, 26, 29, 32, 35, 38, 41, 44, 47, 50, 53,\n",
              "       56, 59])"
            ]
          },
          "metadata": {
            "tags": []
          },
          "execution_count": 25
        }
      ]
    },
    {
      "cell_type": "code",
      "metadata": {
        "id": "6f0de66a",
        "outputId": "0b8b9f36-f2d3-4a16-afb5-9eadaadc5129"
      },
      "source": [
        "np.linspace(0,10,3)  # default step 50"
      ],
      "id": "6f0de66a",
      "execution_count": null,
      "outputs": [
        {
          "output_type": "execute_result",
          "data": {
            "text/plain": [
              "array([ 0.,  5., 10.])"
            ]
          },
          "metadata": {
            "tags": []
          },
          "execution_count": 27
        }
      ]
    },
    {
      "cell_type": "code",
      "metadata": {
        "id": "b9740c58",
        "outputId": "f7216bc3-f778-47fc-bc7f-165e797e449c"
      },
      "source": [
        "np.random.random((3,3))"
      ],
      "id": "b9740c58",
      "execution_count": null,
      "outputs": [
        {
          "output_type": "execute_result",
          "data": {
            "text/plain": [
              "array([[0.01333497, 0.02191642, 0.47865008],\n",
              "       [0.87358779, 0.58454595, 0.49378985],\n",
              "       [0.62843893, 0.15919562, 0.36958412]])"
            ]
          },
          "metadata": {
            "tags": []
          },
          "execution_count": 30
        }
      ]
    },
    {
      "cell_type": "code",
      "metadata": {
        "id": "6934306a",
        "outputId": "234b118a-e8f7-4371-acdf-2b620a5fd337"
      },
      "source": [
        "np.random.randint(5,10, size=(4,4))"
      ],
      "id": "6934306a",
      "execution_count": null,
      "outputs": [
        {
          "output_type": "execute_result",
          "data": {
            "text/plain": [
              "array([[9, 5, 7, 7],\n",
              "       [5, 9, 6, 7],\n",
              "       [6, 7, 5, 7],\n",
              "       [7, 7, 5, 5]])"
            ]
          },
          "metadata": {
            "tags": []
          },
          "execution_count": 33
        }
      ]
    },
    {
      "cell_type": "code",
      "metadata": {
        "id": "722df22a",
        "outputId": "366564b7-fc42-446b-cbbf-c945de30ad7e"
      },
      "source": [
        "z= np.random.randint(2,15,size=(5,3))\n",
        "z"
      ],
      "id": "722df22a",
      "execution_count": null,
      "outputs": [
        {
          "output_type": "execute_result",
          "data": {
            "text/plain": [
              "array([[ 7,  8, 13],\n",
              "       [14,  4, 13],\n",
              "       [10,  7,  3],\n",
              "       [13, 14,  7],\n",
              "       [13, 14,  6]])"
            ]
          },
          "metadata": {
            "tags": []
          },
          "execution_count": 37
        }
      ]
    },
    {
      "cell_type": "code",
      "metadata": {
        "id": "358bc1ef",
        "outputId": "a062687b-7dda-4786-d121-04d07702bc9a"
      },
      "source": [
        "z.shape"
      ],
      "id": "358bc1ef",
      "execution_count": null,
      "outputs": [
        {
          "output_type": "execute_result",
          "data": {
            "text/plain": [
              "(5, 3)"
            ]
          },
          "metadata": {
            "tags": []
          },
          "execution_count": 38
        }
      ]
    },
    {
      "cell_type": "code",
      "metadata": {
        "id": "d6bcfeaa"
      },
      "source": [
        "z=z.reshape(3,5)"
      ],
      "id": "d6bcfeaa",
      "execution_count": null,
      "outputs": []
    },
    {
      "cell_type": "code",
      "metadata": {
        "id": "b23a9204",
        "outputId": "c9103a18-b8e8-4d8f-953a-a347df058b6f"
      },
      "source": [
        "z.shape"
      ],
      "id": "b23a9204",
      "execution_count": null,
      "outputs": [
        {
          "output_type": "execute_result",
          "data": {
            "text/plain": [
              "(3, 5)"
            ]
          },
          "metadata": {
            "tags": []
          },
          "execution_count": 40
        }
      ]
    },
    {
      "cell_type": "code",
      "metadata": {
        "id": "239eabb7",
        "outputId": "0c9514bd-195f-43be-f352-63dedac21701"
      },
      "source": [
        "z.ravel()"
      ],
      "id": "239eabb7",
      "execution_count": null,
      "outputs": [
        {
          "output_type": "execute_result",
          "data": {
            "text/plain": [
              "array([ 7,  8, 13, 14,  4, 13, 10,  7,  3, 13, 14,  7, 13, 14,  6])"
            ]
          },
          "metadata": {
            "tags": []
          },
          "execution_count": 43
        }
      ]
    },
    {
      "cell_type": "code",
      "metadata": {
        "id": "ab6c5e85",
        "outputId": "f213c667-3e35-4414-ff67-b26ffd52a6e5"
      },
      "source": [
        "z.max()"
      ],
      "id": "ab6c5e85",
      "execution_count": null,
      "outputs": [
        {
          "output_type": "execute_result",
          "data": {
            "text/plain": [
              "14"
            ]
          },
          "metadata": {
            "tags": []
          },
          "execution_count": 44
        }
      ]
    },
    {
      "cell_type": "code",
      "metadata": {
        "id": "b41c6808",
        "outputId": "9cfac15e-344c-49f2-eb5b-c26532d166a9"
      },
      "source": [
        "z.min()"
      ],
      "id": "b41c6808",
      "execution_count": null,
      "outputs": [
        {
          "output_type": "execute_result",
          "data": {
            "text/plain": [
              "3"
            ]
          },
          "metadata": {
            "tags": []
          },
          "execution_count": 45
        }
      ]
    },
    {
      "cell_type": "code",
      "metadata": {
        "id": "2e3df06d",
        "outputId": "10cba144-0291-44c5-f3ac-f8e8f2e2a27f"
      },
      "source": [
        "z.argmax()"
      ],
      "id": "2e3df06d",
      "execution_count": null,
      "outputs": [
        {
          "output_type": "execute_result",
          "data": {
            "text/plain": [
              "3"
            ]
          },
          "metadata": {
            "tags": []
          },
          "execution_count": 46
        }
      ]
    },
    {
      "cell_type": "code",
      "metadata": {
        "id": "c1ca28f1",
        "outputId": "c1f4e4b2-b481-4c06-c157-edd66ebe78cd"
      },
      "source": [
        "z.argmin()"
      ],
      "id": "c1ca28f1",
      "execution_count": null,
      "outputs": [
        {
          "output_type": "execute_result",
          "data": {
            "text/plain": [
              "8"
            ]
          },
          "metadata": {
            "tags": []
          },
          "execution_count": 47
        }
      ]
    },
    {
      "cell_type": "markdown",
      "metadata": {
        "id": "3d8582b5"
      },
      "source": [
        "## Stacking"
      ],
      "id": "3d8582b5"
    },
    {
      "cell_type": "code",
      "metadata": {
        "id": "60c26806"
      },
      "source": [
        "a = np.array([[1,2],[3,4]])\n",
        "b = np.array([[-1,3],[7,9]])"
      ],
      "id": "60c26806",
      "execution_count": null,
      "outputs": []
    },
    {
      "cell_type": "code",
      "metadata": {
        "id": "46accd60",
        "outputId": "88f6b022-50a4-47fd-bcb3-15bb41029379"
      },
      "source": [
        "np.hstack((a,b))"
      ],
      "id": "46accd60",
      "execution_count": null,
      "outputs": [
        {
          "output_type": "execute_result",
          "data": {
            "text/plain": [
              "array([[ 1,  2, -1,  3],\n",
              "       [ 3,  4,  7,  9]])"
            ]
          },
          "metadata": {
            "tags": []
          },
          "execution_count": 50
        }
      ]
    },
    {
      "cell_type": "code",
      "metadata": {
        "id": "85ea7027",
        "outputId": "5de3df5f-1d46-425e-94ac-914d27c4b854"
      },
      "source": [
        "np.vstack((a,b))"
      ],
      "id": "85ea7027",
      "execution_count": null,
      "outputs": [
        {
          "output_type": "execute_result",
          "data": {
            "text/plain": [
              "array([[ 1,  2],\n",
              "       [ 3,  4],\n",
              "       [-1,  3],\n",
              "       [ 7,  9]])"
            ]
          },
          "metadata": {
            "tags": []
          },
          "execution_count": 51
        }
      ]
    },
    {
      "cell_type": "code",
      "metadata": {
        "id": "1e8e6391",
        "outputId": "c331c790-00ea-4b4d-b9f1-46801a95c2a5"
      },
      "source": [
        "dizi=np.array([0,1,2,3,4,5,6,7,8,9]).reshape(5,2)\n",
        "dizi"
      ],
      "id": "1e8e6391",
      "execution_count": null,
      "outputs": [
        {
          "output_type": "execute_result",
          "data": {
            "text/plain": [
              "array([[0, 1],\n",
              "       [2, 3],\n",
              "       [4, 5],\n",
              "       [6, 7],\n",
              "       [8, 9]])"
            ]
          },
          "metadata": {
            "tags": []
          },
          "execution_count": 52
        }
      ]
    },
    {
      "cell_type": "code",
      "metadata": {
        "id": "a3ebe3a0",
        "outputId": "d41dcc2a-8c56-4e9c-d89e-db643c7025c0"
      },
      "source": [
        "dizi_1=np.array([3,4,5,6,7,8,9,10,11,12]).reshape(5,2)\n",
        "dizi_1"
      ],
      "id": "a3ebe3a0",
      "execution_count": null,
      "outputs": [
        {
          "output_type": "execute_result",
          "data": {
            "text/plain": [
              "array([[ 3,  4],\n",
              "       [ 5,  6],\n",
              "       [ 7,  8],\n",
              "       [ 9, 10],\n",
              "       [11, 12]])"
            ]
          },
          "metadata": {
            "tags": []
          },
          "execution_count": 53
        }
      ]
    },
    {
      "cell_type": "code",
      "metadata": {
        "id": "c899bbee",
        "outputId": "39a515c3-b8e7-4367-c834-6aa9906034d8"
      },
      "source": [
        "np.concatenate([dizi,dizi_1], axis=0)  # Satır bazlı alt alta birleştirme"
      ],
      "id": "c899bbee",
      "execution_count": null,
      "outputs": [
        {
          "output_type": "execute_result",
          "data": {
            "text/plain": [
              "array([[ 0,  1],\n",
              "       [ 2,  3],\n",
              "       [ 4,  5],\n",
              "       [ 6,  7],\n",
              "       [ 8,  9],\n",
              "       [ 3,  4],\n",
              "       [ 5,  6],\n",
              "       [ 7,  8],\n",
              "       [ 9, 10],\n",
              "       [11, 12]])"
            ]
          },
          "metadata": {
            "tags": []
          },
          "execution_count": 54
        }
      ]
    },
    {
      "cell_type": "code",
      "metadata": {
        "id": "9480240a",
        "outputId": "14571713-6adf-4471-9147-ade46bca4ae0"
      },
      "source": [
        "np.concatenate([dizi,dizi_1], axis=1)  # sütun bazlı yan yana birleştirme"
      ],
      "id": "9480240a",
      "execution_count": null,
      "outputs": [
        {
          "output_type": "execute_result",
          "data": {
            "text/plain": [
              "array([[ 0,  1,  3,  4],\n",
              "       [ 2,  3,  5,  6],\n",
              "       [ 4,  5,  7,  8],\n",
              "       [ 6,  7,  9, 10],\n",
              "       [ 8,  9, 11, 12]])"
            ]
          },
          "metadata": {
            "tags": []
          },
          "execution_count": 55
        }
      ]
    },
    {
      "cell_type": "code",
      "metadata": {
        "id": "f3460ab4"
      },
      "source": [
        "array_1 = np.array([[1,2,3,4],\n",
        "                   [5,6,7,8],\n",
        "                   [9,10,11,12]])"
      ],
      "id": "f3460ab4",
      "execution_count": null,
      "outputs": []
    },
    {
      "cell_type": "code",
      "metadata": {
        "id": "ef280b43",
        "outputId": "2bab4961-cc7a-4a83-e7b0-3c010575ecc6"
      },
      "source": [
        "array_1.shape"
      ],
      "id": "ef280b43",
      "execution_count": null,
      "outputs": [
        {
          "output_type": "execute_result",
          "data": {
            "text/plain": [
              "(3, 4)"
            ]
          },
          "metadata": {
            "tags": []
          },
          "execution_count": 57
        }
      ]
    },
    {
      "cell_type": "code",
      "metadata": {
        "id": "feb44f9d",
        "outputId": "11581e01-7a84-47a0-813a-7ac59e1cb14a"
      },
      "source": [
        "array_1[:2, 1:3]"
      ],
      "id": "feb44f9d",
      "execution_count": null,
      "outputs": [
        {
          "output_type": "execute_result",
          "data": {
            "text/plain": [
              "array([[2, 3],\n",
              "       [6, 7]])"
            ]
          },
          "metadata": {
            "tags": []
          },
          "execution_count": 59
        }
      ]
    },
    {
      "cell_type": "code",
      "metadata": {
        "id": "aa1e8c15",
        "outputId": "e1023c21-c92d-434f-bdc5-6884c08a742a"
      },
      "source": [
        "array_2 = array_1.copy()\n",
        "array_2"
      ],
      "id": "aa1e8c15",
      "execution_count": null,
      "outputs": [
        {
          "output_type": "execute_result",
          "data": {
            "text/plain": [
              "array([[ 1,  2,  3,  4],\n",
              "       [ 5,  6,  7,  8],\n",
              "       [ 9, 10, 11, 12]])"
            ]
          },
          "metadata": {
            "tags": []
          },
          "execution_count": 61
        }
      ]
    },
    {
      "cell_type": "code",
      "metadata": {
        "id": "69e8bc40",
        "outputId": "49e6d6aa-8b7d-40f3-fd63-dcbc00e8f226"
      },
      "source": [
        "array_2[1][1] = -6\n",
        "array_2"
      ],
      "id": "69e8bc40",
      "execution_count": null,
      "outputs": [
        {
          "output_type": "execute_result",
          "data": {
            "text/plain": [
              "array([[ 1,  2,  3,  4],\n",
              "       [ 5, -6,  7,  8],\n",
              "       [ 9, 10, 11, 12]])"
            ]
          },
          "metadata": {
            "tags": []
          },
          "execution_count": 63
        }
      ]
    },
    {
      "cell_type": "code",
      "metadata": {
        "id": "8872025f"
      },
      "source": [
        "# \">\" ve \"<\" koşullarını artık yazmaya gerek yok ezberledik :D"
      ],
      "id": "8872025f",
      "execution_count": null,
      "outputs": []
    },
    {
      "cell_type": "markdown",
      "metadata": {
        "id": "7eddb4cb"
      },
      "source": [
        "## Matematiksel İşlemler"
      ],
      "id": "7eddb4cb"
    },
    {
      "cell_type": "code",
      "metadata": {
        "id": "bc447a82",
        "outputId": "e4a23bcb-857f-4ff9-b957-1122601d2616",
        "colab": {
          "base_uri": "https://localhost:8080/",
          "height": 180
        }
      },
      "source": [
        "x = np.array([[1,2],[3,4]])\n",
        "y = np.array([[1,3],[7,9]])"
      ],
      "id": "bc447a82",
      "execution_count": 1,
      "outputs": [
        {
          "output_type": "error",
          "ename": "NameError",
          "evalue": "ignored",
          "traceback": [
            "\u001b[0;31m---------------------------------------------------------------------------\u001b[0m",
            "\u001b[0;31mNameError\u001b[0m                                 Traceback (most recent call last)",
            "\u001b[0;32m<ipython-input-1-0619712f0230>\u001b[0m in \u001b[0;36m<module>\u001b[0;34m()\u001b[0m\n\u001b[0;32m----> 1\u001b[0;31m \u001b[0mx\u001b[0m \u001b[0;34m=\u001b[0m \u001b[0mnp\u001b[0m\u001b[0;34m.\u001b[0m\u001b[0marray\u001b[0m\u001b[0;34m(\u001b[0m\u001b[0;34m[\u001b[0m\u001b[0;34m[\u001b[0m\u001b[0;36m1\u001b[0m\u001b[0;34m,\u001b[0m\u001b[0;36m2\u001b[0m\u001b[0;34m]\u001b[0m\u001b[0;34m,\u001b[0m\u001b[0;34m[\u001b[0m\u001b[0;36m3\u001b[0m\u001b[0;34m,\u001b[0m\u001b[0;36m4\u001b[0m\u001b[0;34m]\u001b[0m\u001b[0;34m]\u001b[0m\u001b[0;34m)\u001b[0m\u001b[0;34m\u001b[0m\u001b[0;34m\u001b[0m\u001b[0m\n\u001b[0m\u001b[1;32m      2\u001b[0m \u001b[0my\u001b[0m \u001b[0;34m=\u001b[0m \u001b[0mnp\u001b[0m\u001b[0;34m.\u001b[0m\u001b[0marray\u001b[0m\u001b[0;34m(\u001b[0m\u001b[0;34m[\u001b[0m\u001b[0;34m[\u001b[0m\u001b[0;36m1\u001b[0m\u001b[0;34m,\u001b[0m\u001b[0;36m3\u001b[0m\u001b[0;34m]\u001b[0m\u001b[0;34m,\u001b[0m\u001b[0;34m[\u001b[0m\u001b[0;36m7\u001b[0m\u001b[0;34m,\u001b[0m\u001b[0;36m9\u001b[0m\u001b[0;34m]\u001b[0m\u001b[0;34m]\u001b[0m\u001b[0;34m)\u001b[0m\u001b[0;34m\u001b[0m\u001b[0;34m\u001b[0m\u001b[0m\n",
            "\u001b[0;31mNameError\u001b[0m: name 'np' is not defined"
          ]
        }
      ]
    },
    {
      "cell_type": "code",
      "metadata": {
        "id": "8a8620db",
        "outputId": "e52dbb98-d589-4c46-ecc3-16bcfb5c2815"
      },
      "source": [
        "x+y"
      ],
      "id": "8a8620db",
      "execution_count": null,
      "outputs": [
        {
          "output_type": "execute_result",
          "data": {
            "text/plain": [
              "array([[ 2,  5],\n",
              "       [10, 13]])"
            ]
          },
          "metadata": {
            "tags": []
          },
          "execution_count": 72
        }
      ]
    },
    {
      "cell_type": "code",
      "metadata": {
        "id": "33248f59",
        "outputId": "47b02c8e-4d23-4f96-8458-9131baa5456c"
      },
      "source": [
        "x-y"
      ],
      "id": "33248f59",
      "execution_count": null,
      "outputs": [
        {
          "output_type": "execute_result",
          "data": {
            "text/plain": [
              "array([[ 0, -1],\n",
              "       [-4, -5]])"
            ]
          },
          "metadata": {
            "tags": []
          },
          "execution_count": 73
        }
      ]
    },
    {
      "cell_type": "code",
      "metadata": {
        "id": "cfaa331f",
        "outputId": "e486b454-0de8-497f-b111-dbcadc73cded"
      },
      "source": [
        "np.subtract(x,y)"
      ],
      "id": "cfaa331f",
      "execution_count": null,
      "outputs": [
        {
          "output_type": "execute_result",
          "data": {
            "text/plain": [
              "array([[ 0, -1],\n",
              "       [-4, -5]])"
            ]
          },
          "metadata": {
            "tags": []
          },
          "execution_count": 74
        }
      ]
    },
    {
      "cell_type": "code",
      "metadata": {
        "id": "26458335",
        "outputId": "21dfffb5-593e-4086-a7e5-5f6ddef83434"
      },
      "source": [
        "np.multiply(x,y)"
      ],
      "id": "26458335",
      "execution_count": null,
      "outputs": [
        {
          "output_type": "execute_result",
          "data": {
            "text/plain": [
              "array([[ 1,  6],\n",
              "       [21, 36]])"
            ]
          },
          "metadata": {
            "tags": []
          },
          "execution_count": 75
        }
      ]
    },
    {
      "cell_type": "code",
      "metadata": {
        "id": "31ae2861",
        "outputId": "df6e6d04-eb3a-48e1-8419-440903922e2d"
      },
      "source": [
        "x*y"
      ],
      "id": "31ae2861",
      "execution_count": null,
      "outputs": [
        {
          "output_type": "execute_result",
          "data": {
            "text/plain": [
              "array([[ 1,  6],\n",
              "       [21, 36]])"
            ]
          },
          "metadata": {
            "tags": []
          },
          "execution_count": 76
        }
      ]
    },
    {
      "cell_type": "code",
      "metadata": {
        "id": "922070eb",
        "outputId": "ecf0fdcb-629b-4063-dbf7-b4209877d9a4"
      },
      "source": [
        "np.dot(x,y)"
      ],
      "id": "922070eb",
      "execution_count": null,
      "outputs": [
        {
          "output_type": "execute_result",
          "data": {
            "text/plain": [
              "array([[15, 21],\n",
              "       [31, 45]])"
            ]
          },
          "metadata": {
            "tags": []
          },
          "execution_count": 77
        }
      ]
    },
    {
      "cell_type": "code",
      "metadata": {
        "id": "6a04f161",
        "outputId": "bbf1aced-cdd6-44c2-dae4-dcad37fcd99e"
      },
      "source": [
        "x@y"
      ],
      "id": "6a04f161",
      "execution_count": null,
      "outputs": [
        {
          "output_type": "execute_result",
          "data": {
            "text/plain": [
              "array([[15, 21],\n",
              "       [31, 45]])"
            ]
          },
          "metadata": {
            "tags": []
          },
          "execution_count": 78
        }
      ]
    },
    {
      "cell_type": "code",
      "metadata": {
        "id": "7dfa9375",
        "outputId": "c39a5cc1-c087-46a0-8938-141df96e474b"
      },
      "source": [
        "x/y"
      ],
      "id": "7dfa9375",
      "execution_count": null,
      "outputs": [
        {
          "output_type": "execute_result",
          "data": {
            "text/plain": [
              "array([[1.        , 0.66666667],\n",
              "       [0.42857143, 0.44444444]])"
            ]
          },
          "metadata": {
            "tags": []
          },
          "execution_count": 79
        }
      ]
    },
    {
      "cell_type": "code",
      "metadata": {
        "id": "f4bc11d1",
        "outputId": "32267f09-89da-4dd0-ab3e-a70b822ecd25"
      },
      "source": [
        "np.divide(x,y)"
      ],
      "id": "f4bc11d1",
      "execution_count": null,
      "outputs": [
        {
          "output_type": "execute_result",
          "data": {
            "text/plain": [
              "array([[1.        , 0.66666667],\n",
              "       [0.42857143, 0.44444444]])"
            ]
          },
          "metadata": {
            "tags": []
          },
          "execution_count": 81
        }
      ]
    },
    {
      "cell_type": "code",
      "metadata": {
        "id": "b76c59bb",
        "outputId": "83f39782-070e-4298-d7e1-d577c6a931ae"
      },
      "source": [
        "x"
      ],
      "id": "b76c59bb",
      "execution_count": null,
      "outputs": [
        {
          "output_type": "execute_result",
          "data": {
            "text/plain": [
              "array([[1, 2],\n",
              "       [3, 4]])"
            ]
          },
          "metadata": {
            "tags": []
          },
          "execution_count": 82
        }
      ]
    },
    {
      "cell_type": "code",
      "metadata": {
        "id": "32f134c9",
        "outputId": "261be650-0d56-49f9-e780-f5c90752f535"
      },
      "source": [
        "x**2"
      ],
      "id": "32f134c9",
      "execution_count": null,
      "outputs": [
        {
          "output_type": "execute_result",
          "data": {
            "text/plain": [
              "array([[ 1,  4],\n",
              "       [ 9, 16]], dtype=int32)"
            ]
          },
          "metadata": {
            "tags": []
          },
          "execution_count": 83
        }
      ]
    },
    {
      "cell_type": "code",
      "metadata": {
        "id": "f7dcad4c",
        "outputId": "a0ed275b-0ecd-4954-9f67-0a804a6b03ce"
      },
      "source": [
        "x1=np.square(x)\n",
        "x1"
      ],
      "id": "f7dcad4c",
      "execution_count": null,
      "outputs": [
        {
          "output_type": "execute_result",
          "data": {
            "text/plain": [
              "array([[ 1,  4],\n",
              "       [ 9, 16]], dtype=int32)"
            ]
          },
          "metadata": {
            "tags": []
          },
          "execution_count": 85
        }
      ]
    },
    {
      "cell_type": "code",
      "metadata": {
        "id": "3f993d6f",
        "outputId": "5e7ed1cb-bc63-48ca-c7b3-21f36f7fce68"
      },
      "source": [
        "np.sqrt(x1)"
      ],
      "id": "3f993d6f",
      "execution_count": null,
      "outputs": [
        {
          "output_type": "execute_result",
          "data": {
            "text/plain": [
              "array([[1., 2.],\n",
              "       [3., 4.]])"
            ]
          },
          "metadata": {
            "tags": []
          },
          "execution_count": 86
        }
      ]
    },
    {
      "cell_type": "code",
      "metadata": {
        "id": "fa88a618",
        "outputId": "b297064d-4e58-409a-87e1-b312f39161ba"
      },
      "source": [
        "np.exp(3)  # logaritmadaki e = exp, bu işlem e**3"
      ],
      "id": "fa88a618",
      "execution_count": null,
      "outputs": [
        {
          "output_type": "execute_result",
          "data": {
            "text/plain": [
              "20.085536923187668"
            ]
          },
          "metadata": {
            "tags": []
          },
          "execution_count": 87
        }
      ]
    },
    {
      "cell_type": "code",
      "metadata": {
        "id": "e56eb66b",
        "outputId": "bc613bfb-55a3-416b-aa54-1f9ab2218071"
      },
      "source": [
        "np.log(100)"
      ],
      "id": "e56eb66b",
      "execution_count": null,
      "outputs": [
        {
          "output_type": "execute_result",
          "data": {
            "text/plain": [
              "4.605170185988092"
            ]
          },
          "metadata": {
            "tags": []
          },
          "execution_count": 88
        }
      ]
    },
    {
      "cell_type": "code",
      "metadata": {
        "id": "96920c09",
        "outputId": "c24b4400-002f-4eb0-f34d-4b3814eaa767"
      },
      "source": [
        "np.log10(100)"
      ],
      "id": "96920c09",
      "execution_count": null,
      "outputs": [
        {
          "output_type": "execute_result",
          "data": {
            "text/plain": [
              "2.0"
            ]
          },
          "metadata": {
            "tags": []
          },
          "execution_count": 89
        }
      ]
    },
    {
      "cell_type": "code",
      "metadata": {
        "id": "6c91afe5",
        "outputId": "6ad2cc32-6cab-4ace-fc76-aedd0985a963"
      },
      "source": [
        "t = np.array([np.pi/6, np.pi/2, np.pi/3])\n",
        "t"
      ],
      "id": "6c91afe5",
      "execution_count": null,
      "outputs": [
        {
          "output_type": "execute_result",
          "data": {
            "text/plain": [
              "array([0.52359878, 1.57079633, 1.04719755])"
            ]
          },
          "metadata": {
            "tags": []
          },
          "execution_count": 90
        }
      ]
    },
    {
      "cell_type": "code",
      "metadata": {
        "id": "fb50b262",
        "outputId": "58039ef2-0dec-4cd7-f7da-45153391b5b9"
      },
      "source": [
        "np.sin(t)"
      ],
      "id": "fb50b262",
      "execution_count": null,
      "outputs": [
        {
          "output_type": "execute_result",
          "data": {
            "text/plain": [
              "array([0.5      , 1.       , 0.8660254])"
            ]
          },
          "metadata": {
            "tags": []
          },
          "execution_count": 91
        }
      ]
    },
    {
      "cell_type": "code",
      "metadata": {
        "id": "f4ccd3fc"
      },
      "source": [
        ""
      ],
      "id": "f4ccd3fc",
      "execution_count": null,
      "outputs": []
    },
    {
      "cell_type": "code",
      "metadata": {
        "id": "8a205c0b"
      },
      "source": [
        ""
      ],
      "id": "8a205c0b",
      "execution_count": null,
      "outputs": []
    },
    {
      "cell_type": "code",
      "metadata": {
        "id": "021df4c9"
      },
      "source": [
        ""
      ],
      "id": "021df4c9",
      "execution_count": null,
      "outputs": []
    },
    {
      "cell_type": "code",
      "metadata": {
        "id": "664f7e4d"
      },
      "source": [
        ""
      ],
      "id": "664f7e4d",
      "execution_count": null,
      "outputs": []
    },
    {
      "cell_type": "code",
      "metadata": {
        "id": "0a70b434"
      },
      "source": [
        ""
      ],
      "id": "0a70b434",
      "execution_count": null,
      "outputs": []
    },
    {
      "cell_type": "code",
      "metadata": {
        "id": "711950c9"
      },
      "source": [
        ""
      ],
      "id": "711950c9",
      "execution_count": null,
      "outputs": []
    },
    {
      "cell_type": "code",
      "metadata": {
        "id": "6600ae59"
      },
      "source": [
        ""
      ],
      "id": "6600ae59",
      "execution_count": null,
      "outputs": []
    },
    {
      "cell_type": "code",
      "metadata": {
        "id": "ee34c1b1"
      },
      "source": [
        ""
      ],
      "id": "ee34c1b1",
      "execution_count": null,
      "outputs": []
    },
    {
      "cell_type": "code",
      "metadata": {
        "id": "30ae7d46"
      },
      "source": [
        ""
      ],
      "id": "30ae7d46",
      "execution_count": null,
      "outputs": []
    },
    {
      "cell_type": "code",
      "metadata": {
        "id": "1e78f3b0"
      },
      "source": [
        ""
      ],
      "id": "1e78f3b0",
      "execution_count": null,
      "outputs": []
    },
    {
      "cell_type": "code",
      "metadata": {
        "id": "893c0560"
      },
      "source": [
        ""
      ],
      "id": "893c0560",
      "execution_count": null,
      "outputs": []
    },
    {
      "cell_type": "code",
      "metadata": {
        "id": "35abb29a"
      },
      "source": [
        ""
      ],
      "id": "35abb29a",
      "execution_count": null,
      "outputs": []
    },
    {
      "cell_type": "code",
      "metadata": {
        "id": "caafe4eb"
      },
      "source": [
        ""
      ],
      "id": "caafe4eb",
      "execution_count": null,
      "outputs": []
    },
    {
      "cell_type": "code",
      "metadata": {
        "id": "13bbc564"
      },
      "source": [
        ""
      ],
      "id": "13bbc564",
      "execution_count": null,
      "outputs": []
    },
    {
      "cell_type": "code",
      "metadata": {
        "id": "e23cb9b6"
      },
      "source": [
        ""
      ],
      "id": "e23cb9b6",
      "execution_count": null,
      "outputs": []
    },
    {
      "cell_type": "code",
      "metadata": {
        "id": "b7acbdc7"
      },
      "source": [
        ""
      ],
      "id": "b7acbdc7",
      "execution_count": null,
      "outputs": []
    },
    {
      "cell_type": "code",
      "metadata": {
        "id": "b7f1e059"
      },
      "source": [
        ""
      ],
      "id": "b7f1e059",
      "execution_count": null,
      "outputs": []
    },
    {
      "cell_type": "code",
      "metadata": {
        "id": "ef0c5275"
      },
      "source": [
        ""
      ],
      "id": "ef0c5275",
      "execution_count": null,
      "outputs": []
    },
    {
      "cell_type": "code",
      "metadata": {
        "id": "7d4c50c4"
      },
      "source": [
        ""
      ],
      "id": "7d4c50c4",
      "execution_count": null,
      "outputs": []
    },
    {
      "cell_type": "code",
      "metadata": {
        "id": "60b9026c"
      },
      "source": [
        ""
      ],
      "id": "60b9026c",
      "execution_count": null,
      "outputs": []
    }
  ]
}